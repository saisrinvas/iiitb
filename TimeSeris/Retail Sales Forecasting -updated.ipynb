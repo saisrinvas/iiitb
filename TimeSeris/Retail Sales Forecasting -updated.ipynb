{
 "cells": [
  {
   "cell_type": "code",
   "execution_count": 1,
   "metadata": {},
   "outputs": [],
   "source": [
    "import numpy as np\n",
    "import pandas as pd\n",
    "import matplotlib.pyplot as plt\n",
    "import seaborn as sns\n",
    "\n",
    "import warnings\n",
    "warnings.filterwarnings(\"ignore\")"
   ]
  },
  {
   "cell_type": "code",
   "execution_count": 2,
   "metadata": {},
   "outputs": [],
   "source": [
    "df = pd.read_csv('Global2.csv')"
   ]
  },
  {
   "cell_type": "code",
   "execution_count": 3,
   "metadata": {},
   "outputs": [
    {
     "data": {
      "text/html": [
       "<div>\n",
       "<style scoped>\n",
       "    .dataframe tbody tr th:only-of-type {\n",
       "        vertical-align: middle;\n",
       "    }\n",
       "\n",
       "    .dataframe tbody tr th {\n",
       "        vertical-align: top;\n",
       "    }\n",
       "\n",
       "    .dataframe thead th {\n",
       "        text-align: right;\n",
       "    }\n",
       "</style>\n",
       "<table border=\"1\" class=\"dataframe\">\n",
       "  <thead>\n",
       "    <tr style=\"text-align: right;\">\n",
       "      <th></th>\n",
       "      <th>Order Date</th>\n",
       "      <th>Segment</th>\n",
       "      <th>Market</th>\n",
       "      <th>Sales</th>\n",
       "      <th>Quantity</th>\n",
       "      <th>Profit</th>\n",
       "    </tr>\n",
       "  </thead>\n",
       "  <tbody>\n",
       "    <tr>\n",
       "      <th>0</th>\n",
       "      <td>31-07-2012</td>\n",
       "      <td>Consumer</td>\n",
       "      <td>US</td>\n",
       "      <td>2309.650</td>\n",
       "      <td>7</td>\n",
       "      <td>762.1845</td>\n",
       "    </tr>\n",
       "    <tr>\n",
       "      <th>1</th>\n",
       "      <td>05-02-2013</td>\n",
       "      <td>Corporate</td>\n",
       "      <td>APAC</td>\n",
       "      <td>3709.395</td>\n",
       "      <td>9</td>\n",
       "      <td>-288.7650</td>\n",
       "    </tr>\n",
       "    <tr>\n",
       "      <th>2</th>\n",
       "      <td>17-10-2013</td>\n",
       "      <td>Consumer</td>\n",
       "      <td>APAC</td>\n",
       "      <td>5175.171</td>\n",
       "      <td>9</td>\n",
       "      <td>919.9710</td>\n",
       "    </tr>\n",
       "    <tr>\n",
       "      <th>3</th>\n",
       "      <td>28-01-2013</td>\n",
       "      <td>Home Office</td>\n",
       "      <td>EU</td>\n",
       "      <td>2892.510</td>\n",
       "      <td>5</td>\n",
       "      <td>-96.5400</td>\n",
       "    </tr>\n",
       "    <tr>\n",
       "      <th>4</th>\n",
       "      <td>05-11-2013</td>\n",
       "      <td>Consumer</td>\n",
       "      <td>Africa</td>\n",
       "      <td>2832.960</td>\n",
       "      <td>8</td>\n",
       "      <td>311.5200</td>\n",
       "    </tr>\n",
       "  </tbody>\n",
       "</table>\n",
       "</div>"
      ],
      "text/plain": [
       "   Order Date      Segment  Market     Sales  Quantity    Profit\n",
       "0  31-07-2012     Consumer      US  2309.650         7  762.1845\n",
       "1  05-02-2013    Corporate    APAC  3709.395         9 -288.7650\n",
       "2  17-10-2013     Consumer    APAC  5175.171         9  919.9710\n",
       "3  28-01-2013  Home Office      EU  2892.510         5  -96.5400\n",
       "4  05-11-2013     Consumer  Africa  2832.960         8  311.5200"
      ]
     },
     "execution_count": 3,
     "metadata": {},
     "output_type": "execute_result"
    }
   ],
   "source": [
    "df.head()"
   ]
  },
  {
   "cell_type": "code",
   "execution_count": 4,
   "metadata": {},
   "outputs": [
    {
     "data": {
      "text/html": [
       "<div>\n",
       "<style scoped>\n",
       "    .dataframe tbody tr th:only-of-type {\n",
       "        vertical-align: middle;\n",
       "    }\n",
       "\n",
       "    .dataframe tbody tr th {\n",
       "        vertical-align: top;\n",
       "    }\n",
       "\n",
       "    .dataframe thead th {\n",
       "        text-align: right;\n",
       "    }\n",
       "</style>\n",
       "<table border=\"1\" class=\"dataframe\">\n",
       "  <thead>\n",
       "    <tr style=\"text-align: right;\">\n",
       "      <th></th>\n",
       "      <th>Sales</th>\n",
       "      <th>Quantity</th>\n",
       "      <th>Profit</th>\n",
       "    </tr>\n",
       "  </thead>\n",
       "  <tbody>\n",
       "    <tr>\n",
       "      <th>count</th>\n",
       "      <td>51290.000000</td>\n",
       "      <td>51290.000000</td>\n",
       "      <td>51290.000000</td>\n",
       "    </tr>\n",
       "    <tr>\n",
       "      <th>mean</th>\n",
       "      <td>246.490581</td>\n",
       "      <td>3.476545</td>\n",
       "      <td>28.610982</td>\n",
       "    </tr>\n",
       "    <tr>\n",
       "      <th>std</th>\n",
       "      <td>487.565361</td>\n",
       "      <td>2.278766</td>\n",
       "      <td>174.340972</td>\n",
       "    </tr>\n",
       "    <tr>\n",
       "      <th>min</th>\n",
       "      <td>0.444000</td>\n",
       "      <td>1.000000</td>\n",
       "      <td>-6599.978000</td>\n",
       "    </tr>\n",
       "    <tr>\n",
       "      <th>25%</th>\n",
       "      <td>30.758625</td>\n",
       "      <td>2.000000</td>\n",
       "      <td>0.000000</td>\n",
       "    </tr>\n",
       "    <tr>\n",
       "      <th>50%</th>\n",
       "      <td>85.053000</td>\n",
       "      <td>3.000000</td>\n",
       "      <td>9.240000</td>\n",
       "    </tr>\n",
       "    <tr>\n",
       "      <th>75%</th>\n",
       "      <td>251.053200</td>\n",
       "      <td>5.000000</td>\n",
       "      <td>36.810000</td>\n",
       "    </tr>\n",
       "    <tr>\n",
       "      <th>max</th>\n",
       "      <td>22638.480000</td>\n",
       "      <td>14.000000</td>\n",
       "      <td>8399.976000</td>\n",
       "    </tr>\n",
       "  </tbody>\n",
       "</table>\n",
       "</div>"
      ],
      "text/plain": [
       "              Sales      Quantity        Profit\n",
       "count  51290.000000  51290.000000  51290.000000\n",
       "mean     246.490581      3.476545     28.610982\n",
       "std      487.565361      2.278766    174.340972\n",
       "min        0.444000      1.000000  -6599.978000\n",
       "25%       30.758625      2.000000      0.000000\n",
       "50%       85.053000      3.000000      9.240000\n",
       "75%      251.053200      5.000000     36.810000\n",
       "max    22638.480000     14.000000   8399.976000"
      ]
     },
     "execution_count": 4,
     "metadata": {},
     "output_type": "execute_result"
    }
   ],
   "source": [
    "df.describe()"
   ]
  },
  {
   "cell_type": "code",
   "execution_count": 5,
   "metadata": {},
   "outputs": [
    {
     "name": "stdout",
     "output_type": "stream",
     "text": [
      "<class 'pandas.core.frame.DataFrame'>\n",
      "RangeIndex: 51290 entries, 0 to 51289\n",
      "Data columns (total 6 columns):\n",
      "Order Date    51290 non-null object\n",
      "Segment       51290 non-null object\n",
      "Market        51290 non-null object\n",
      "Sales         51290 non-null float64\n",
      "Quantity      51290 non-null int64\n",
      "Profit        51290 non-null float64\n",
      "dtypes: float64(2), int64(1), object(3)\n",
      "memory usage: 2.3+ MB\n"
     ]
    }
   ],
   "source": [
    "df.info()"
   ]
  },
  {
   "cell_type": "code",
   "execution_count": 6,
   "metadata": {},
   "outputs": [],
   "source": [
    "df['Order Date'] = pd.to_datetime(df['Order Date'])"
   ]
  },
  {
   "cell_type": "code",
   "execution_count": 7,
   "metadata": {},
   "outputs": [
    {
     "name": "stdout",
     "output_type": "stream",
     "text": [
      "<class 'pandas.core.frame.DataFrame'>\n",
      "RangeIndex: 51290 entries, 0 to 51289\n",
      "Data columns (total 6 columns):\n",
      "Order Date    51290 non-null datetime64[ns]\n",
      "Segment       51290 non-null object\n",
      "Market        51290 non-null object\n",
      "Sales         51290 non-null float64\n",
      "Quantity      51290 non-null int64\n",
      "Profit        51290 non-null float64\n",
      "dtypes: datetime64[ns](1), float64(2), int64(1), object(2)\n",
      "memory usage: 2.3+ MB\n"
     ]
    }
   ],
   "source": [
    "df.info()"
   ]
  },
  {
   "cell_type": "code",
   "execution_count": 8,
   "metadata": {},
   "outputs": [
    {
     "data": {
      "text/plain": [
       "(51290, 6)"
      ]
     },
     "execution_count": 8,
     "metadata": {},
     "output_type": "execute_result"
    }
   ],
   "source": [
    "df.shape"
   ]
  },
  {
   "cell_type": "code",
   "execution_count": 9,
   "metadata": {},
   "outputs": [
    {
     "data": {
      "text/plain": [
       "<matplotlib.axes._subplots.AxesSubplot at 0x23abd8a0940>"
      ]
     },
     "execution_count": 9,
     "metadata": {},
     "output_type": "execute_result"
    },
    {
     "data": {
      "image/png": "[encoded data removed]",
      "text/plain": [
       "<Figure size 432x288 with 1 Axes>"
      ]
     },
     "metadata": {
      "needs_background": "light"
     },
     "output_type": "display_data"
    }
   ],
   "source": [
    "sns.barplot(x ='Market', y ='Profit', data = df, palette ='plasma')"
   ]
  },
  {
   "cell_type": "code",
   "execution_count": 10,
   "metadata": {},
   "outputs": [
    {
     "data": {
      "text/plain": [
       "<matplotlib.axes._subplots.AxesSubplot at 0x23abebf9d68>"
      ]
     },
     "execution_count": 10,
     "metadata": {},
     "output_type": "execute_result"
    },
    {
     "data": {
      "image/png": "[encoded data removed]",
      "text/plain": [
       "<Figure size 432x288 with 1 Axes>"
      ]
     },
     "metadata": {
      "needs_background": "light"
     },
     "output_type": "display_data"
    }
   ],
   "source": [
    "sns.barplot(x ='Market', y ='Sales', data = df, palette ='plasma')"
   ]
  },
  {
   "cell_type": "code",
   "execution_count": 11,
   "metadata": {},
   "outputs": [
    {
     "data": {
      "text/plain": [
       "<matplotlib.axes._subplots.AxesSubplot at 0x23abf06d5f8>"
      ]
     },
     "execution_count": 11,
     "metadata": {},
     "output_type": "execute_result"
    },
    {
     "data": {
      "image/png": "[encoded data removed]",
      "text/plain": [
       "<Figure size 432x288 with 1 Axes>"
      ]
     },
     "metadata": {
      "needs_background": "light"
     },
     "output_type": "display_data"
    }
   ],
   "source": [
    "sns.barplot(x ='Segment', y ='Sales', data = df, palette ='plasma')"
   ]
  },
  {
   "cell_type": "code",
   "execution_count": 12,
   "metadata": {},
   "outputs": [
    {
     "data": {
      "text/plain": [
       "<matplotlib.axes._subplots.AxesSubplot at 0x23abf0c8c50>"
      ]
     },
     "execution_count": 12,
     "metadata": {},
     "output_type": "execute_result"
    },
    {
     "data": {
      "image/png": "[encoded data removed]",
      "text/plain": [
       "<Figure size 432x288 with 1 Axes>"
      ]
     },
     "metadata": {
      "needs_background": "light"
     },
     "output_type": "display_data"
    }
   ],
   "source": [
    "sns.barplot(x ='Segment', y ='Profit', data = df, palette ='plasma')"
   ]
  },
  {
   "cell_type": "code",
   "execution_count": 13,
   "metadata": {},
   "outputs": [
    {
     "data": {
      "text/html": [
       "<div>\n",
       "<style scoped>\n",
       "    .dataframe tbody tr th:only-of-type {\n",
       "        vertical-align: middle;\n",
       "    }\n",
       "\n",
       "    .dataframe tbody tr th {\n",
       "        vertical-align: top;\n",
       "    }\n",
       "\n",
       "    .dataframe thead th {\n",
       "        text-align: right;\n",
       "    }\n",
       "</style>\n",
       "<table border=\"1\" class=\"dataframe\">\n",
       "  <thead>\n",
       "    <tr style=\"text-align: right;\">\n",
       "      <th></th>\n",
       "      <th>Order Date</th>\n",
       "      <th>Segment</th>\n",
       "      <th>Market</th>\n",
       "      <th>Sales</th>\n",
       "      <th>Quantity</th>\n",
       "      <th>Profit</th>\n",
       "      <th>market_segment</th>\n",
       "    </tr>\n",
       "  </thead>\n",
       "  <tbody>\n",
       "    <tr>\n",
       "      <th>0</th>\n",
       "      <td>2012-07-31</td>\n",
       "      <td>Consumer</td>\n",
       "      <td>US</td>\n",
       "      <td>2309.650</td>\n",
       "      <td>7</td>\n",
       "      <td>762.1845</td>\n",
       "      <td>USConsumer</td>\n",
       "    </tr>\n",
       "    <tr>\n",
       "      <th>1</th>\n",
       "      <td>2013-05-02</td>\n",
       "      <td>Corporate</td>\n",
       "      <td>APAC</td>\n",
       "      <td>3709.395</td>\n",
       "      <td>9</td>\n",
       "      <td>-288.7650</td>\n",
       "      <td>APACCorporate</td>\n",
       "    </tr>\n",
       "    <tr>\n",
       "      <th>2</th>\n",
       "      <td>2013-10-17</td>\n",
       "      <td>Consumer</td>\n",
       "      <td>APAC</td>\n",
       "      <td>5175.171</td>\n",
       "      <td>9</td>\n",
       "      <td>919.9710</td>\n",
       "      <td>APACConsumer</td>\n",
       "    </tr>\n",
       "    <tr>\n",
       "      <th>3</th>\n",
       "      <td>2013-01-28</td>\n",
       "      <td>Home Office</td>\n",
       "      <td>EU</td>\n",
       "      <td>2892.510</td>\n",
       "      <td>5</td>\n",
       "      <td>-96.5400</td>\n",
       "      <td>EUHome Office</td>\n",
       "    </tr>\n",
       "    <tr>\n",
       "      <th>4</th>\n",
       "      <td>2013-05-11</td>\n",
       "      <td>Consumer</td>\n",
       "      <td>Africa</td>\n",
       "      <td>2832.960</td>\n",
       "      <td>8</td>\n",
       "      <td>311.5200</td>\n",
       "      <td>AfricaConsumer</td>\n",
       "    </tr>\n",
       "  </tbody>\n",
       "</table>\n",
       "</div>"
      ],
      "text/plain": [
       "  Order Date      Segment  Market     Sales  Quantity    Profit  \\\n",
       "0 2012-07-31     Consumer      US  2309.650         7  762.1845   \n",
       "1 2013-05-02    Corporate    APAC  3709.395         9 -288.7650   \n",
       "2 2013-10-17     Consumer    APAC  5175.171         9  919.9710   \n",
       "3 2013-01-28  Home Office      EU  2892.510         5  -96.5400   \n",
       "4 2013-05-11     Consumer  Africa  2832.960         8  311.5200   \n",
       "\n",
       "   market_segment  \n",
       "0      USConsumer  \n",
       "1   APACCorporate  \n",
       "2    APACConsumer  \n",
       "3   EUHome Office  \n",
       "4  AfricaConsumer  "
      ]
     },
     "execution_count": 13,
     "metadata": {},
     "output_type": "execute_result"
    }
   ],
   "source": [
    "df[\"market_segment\"] = df[\"Market\"] + df[\"Segment\"]\n",
    "df.head()"
   ]
  },
  {
   "cell_type": "code",
   "execution_count": 14,
   "metadata": {},
   "outputs": [
    {
     "data": {
      "text/html": [
       "<div>\n",
       "<style scoped>\n",
       "    .dataframe tbody tr th:only-of-type {\n",
       "        vertical-align: middle;\n",
       "    }\n",
       "\n",
       "    .dataframe tbody tr th {\n",
       "        vertical-align: top;\n",
       "    }\n",
       "\n",
       "    .dataframe thead th {\n",
       "        text-align: right;\n",
       "    }\n",
       "</style>\n",
       "<table border=\"1\" class=\"dataframe\">\n",
       "  <thead>\n",
       "    <tr style=\"text-align: right;\">\n",
       "      <th></th>\n",
       "      <th>Sales</th>\n",
       "      <th>Quantity</th>\n",
       "      <th>Profit</th>\n",
       "    </tr>\n",
       "  </thead>\n",
       "  <tbody>\n",
       "    <tr>\n",
       "      <th>count</th>\n",
       "      <td>51290.000000</td>\n",
       "      <td>51290.000000</td>\n",
       "      <td>51290.000000</td>\n",
       "    </tr>\n",
       "    <tr>\n",
       "      <th>mean</th>\n",
       "      <td>246.490581</td>\n",
       "      <td>3.476545</td>\n",
       "      <td>28.610982</td>\n",
       "    </tr>\n",
       "    <tr>\n",
       "      <th>std</th>\n",
       "      <td>487.565361</td>\n",
       "      <td>2.278766</td>\n",
       "      <td>174.340972</td>\n",
       "    </tr>\n",
       "    <tr>\n",
       "      <th>min</th>\n",
       "      <td>0.444000</td>\n",
       "      <td>1.000000</td>\n",
       "      <td>-6599.978000</td>\n",
       "    </tr>\n",
       "    <tr>\n",
       "      <th>25%</th>\n",
       "      <td>30.758625</td>\n",
       "      <td>2.000000</td>\n",
       "      <td>0.000000</td>\n",
       "    </tr>\n",
       "    <tr>\n",
       "      <th>50%</th>\n",
       "      <td>85.053000</td>\n",
       "      <td>3.000000</td>\n",
       "      <td>9.240000</td>\n",
       "    </tr>\n",
       "    <tr>\n",
       "      <th>75%</th>\n",
       "      <td>251.053200</td>\n",
       "      <td>5.000000</td>\n",
       "      <td>36.810000</td>\n",
       "    </tr>\n",
       "    <tr>\n",
       "      <th>max</th>\n",
       "      <td>22638.480000</td>\n",
       "      <td>14.000000</td>\n",
       "      <td>8399.976000</td>\n",
       "    </tr>\n",
       "  </tbody>\n",
       "</table>\n",
       "</div>"
      ],
      "text/plain": [
       "              Sales      Quantity        Profit\n",
       "count  51290.000000  51290.000000  51290.000000\n",
       "mean     246.490581      3.476545     28.610982\n",
       "std      487.565361      2.278766    174.340972\n",
       "min        0.444000      1.000000  -6599.978000\n",
       "25%       30.758625      2.000000      0.000000\n",
       "50%       85.053000      3.000000      9.240000\n",
       "75%      251.053200      5.000000     36.810000\n",
       "max    22638.480000     14.000000   8399.976000"
      ]
     },
     "execution_count": 14,
     "metadata": {},
     "output_type": "execute_result"
    }
   ],
   "source": [
    "df.describe()"
   ]
  },
  {
   "cell_type": "code",
   "execution_count": 15,
   "metadata": {},
   "outputs": [],
   "source": [
    "df['ord_year'] = pd.DatetimeIndex(df['Order Date']).year\n",
    "df['ord_month'] = pd.DatetimeIndex(df['Order Date']).month\n",
    "df['ord_month'] =  df['ord_month'].map(\"{:02}\".format)"
   ]
  },
  {
   "cell_type": "code",
   "execution_count": 16,
   "metadata": {},
   "outputs": [
    {
     "data": {
      "text/html": [
       "<div>\n",
       "<style scoped>\n",
       "    .dataframe tbody tr th:only-of-type {\n",
       "        vertical-align: middle;\n",
       "    }\n",
       "\n",
       "    .dataframe tbody tr th {\n",
       "        vertical-align: top;\n",
       "    }\n",
       "\n",
       "    .dataframe thead th {\n",
       "        text-align: right;\n",
       "    }\n",
       "</style>\n",
       "<table border=\"1\" class=\"dataframe\">\n",
       "  <thead>\n",
       "    <tr style=\"text-align: right;\">\n",
       "      <th></th>\n",
       "      <th>Order Date</th>\n",
       "      <th>Segment</th>\n",
       "      <th>Market</th>\n",
       "      <th>Sales</th>\n",
       "      <th>Quantity</th>\n",
       "      <th>Profit</th>\n",
       "      <th>market_segment</th>\n",
       "      <th>ord_year</th>\n",
       "      <th>ord_month</th>\n",
       "    </tr>\n",
       "  </thead>\n",
       "  <tbody>\n",
       "    <tr>\n",
       "      <th>0</th>\n",
       "      <td>2012-07-31</td>\n",
       "      <td>Consumer</td>\n",
       "      <td>US</td>\n",
       "      <td>2309.650</td>\n",
       "      <td>7</td>\n",
       "      <td>762.1845</td>\n",
       "      <td>USConsumer</td>\n",
       "      <td>2012</td>\n",
       "      <td>07</td>\n",
       "    </tr>\n",
       "    <tr>\n",
       "      <th>1</th>\n",
       "      <td>2013-05-02</td>\n",
       "      <td>Corporate</td>\n",
       "      <td>APAC</td>\n",
       "      <td>3709.395</td>\n",
       "      <td>9</td>\n",
       "      <td>-288.7650</td>\n",
       "      <td>APACCorporate</td>\n",
       "      <td>2013</td>\n",
       "      <td>05</td>\n",
       "    </tr>\n",
       "    <tr>\n",
       "      <th>2</th>\n",
       "      <td>2013-10-17</td>\n",
       "      <td>Consumer</td>\n",
       "      <td>APAC</td>\n",
       "      <td>5175.171</td>\n",
       "      <td>9</td>\n",
       "      <td>919.9710</td>\n",
       "      <td>APACConsumer</td>\n",
       "      <td>2013</td>\n",
       "      <td>10</td>\n",
       "    </tr>\n",
       "    <tr>\n",
       "      <th>3</th>\n",
       "      <td>2013-01-28</td>\n",
       "      <td>Home Office</td>\n",
       "      <td>EU</td>\n",
       "      <td>2892.510</td>\n",
       "      <td>5</td>\n",
       "      <td>-96.5400</td>\n",
       "      <td>EUHome Office</td>\n",
       "      <td>2013</td>\n",
       "      <td>01</td>\n",
       "    </tr>\n",
       "    <tr>\n",
       "      <th>4</th>\n",
       "      <td>2013-05-11</td>\n",
       "      <td>Consumer</td>\n",
       "      <td>Africa</td>\n",
       "      <td>2832.960</td>\n",
       "      <td>8</td>\n",
       "      <td>311.5200</td>\n",
       "      <td>AfricaConsumer</td>\n",
       "      <td>2013</td>\n",
       "      <td>05</td>\n",
       "    </tr>\n",
       "  </tbody>\n",
       "</table>\n",
       "</div>"
      ],
      "text/plain": [
       "  Order Date      Segment  Market     Sales  Quantity    Profit  \\\n",
       "0 2012-07-31     Consumer      US  2309.650         7  762.1845   \n",
       "1 2013-05-02    Corporate    APAC  3709.395         9 -288.7650   \n",
       "2 2013-10-17     Consumer    APAC  5175.171         9  919.9710   \n",
       "3 2013-01-28  Home Office      EU  2892.510         5  -96.5400   \n",
       "4 2013-05-11     Consumer  Africa  2832.960         8  311.5200   \n",
       "\n",
       "   market_segment  ord_year ord_month  \n",
       "0      USConsumer      2012        07  \n",
       "1   APACCorporate      2013        05  \n",
       "2    APACConsumer      2013        10  \n",
       "3   EUHome Office      2013        01  \n",
       "4  AfricaConsumer      2013        05  "
      ]
     },
     "execution_count": 16,
     "metadata": {},
     "output_type": "execute_result"
    }
   ],
   "source": [
    "df.head()"
   ]
  },
  {
   "cell_type": "code",
   "execution_count": 17,
   "metadata": {},
   "outputs": [],
   "source": [
    "df['ord_mon'] =  df['ord_year'].astype(str) +'-'+ df['ord_month'].astype(str) "
   ]
  },
  {
   "cell_type": "code",
   "execution_count": 18,
   "metadata": {},
   "outputs": [
    {
     "data": {
      "text/html": [
       "<div>\n",
       "<style scoped>\n",
       "    .dataframe tbody tr th:only-of-type {\n",
       "        vertical-align: middle;\n",
       "    }\n",
       "\n",
       "    .dataframe tbody tr th {\n",
       "        vertical-align: top;\n",
       "    }\n",
       "\n",
       "    .dataframe thead th {\n",
       "        text-align: right;\n",
       "    }\n",
       "</style>\n",
       "<table border=\"1\" class=\"dataframe\">\n",
       "  <thead>\n",
       "    <tr style=\"text-align: right;\">\n",
       "      <th></th>\n",
       "      <th>Order Date</th>\n",
       "      <th>Segment</th>\n",
       "      <th>Market</th>\n",
       "      <th>Sales</th>\n",
       "      <th>Quantity</th>\n",
       "      <th>Profit</th>\n",
       "      <th>market_segment</th>\n",
       "      <th>ord_year</th>\n",
       "      <th>ord_month</th>\n",
       "      <th>ord_mon</th>\n",
       "    </tr>\n",
       "  </thead>\n",
       "  <tbody>\n",
       "    <tr>\n",
       "      <th>0</th>\n",
       "      <td>2012-07-31</td>\n",
       "      <td>Consumer</td>\n",
       "      <td>US</td>\n",
       "      <td>2309.650</td>\n",
       "      <td>7</td>\n",
       "      <td>762.1845</td>\n",
       "      <td>USConsumer</td>\n",
       "      <td>2012</td>\n",
       "      <td>07</td>\n",
       "      <td>2012-07</td>\n",
       "    </tr>\n",
       "    <tr>\n",
       "      <th>1</th>\n",
       "      <td>2013-05-02</td>\n",
       "      <td>Corporate</td>\n",
       "      <td>APAC</td>\n",
       "      <td>3709.395</td>\n",
       "      <td>9</td>\n",
       "      <td>-288.7650</td>\n",
       "      <td>APACCorporate</td>\n",
       "      <td>2013</td>\n",
       "      <td>05</td>\n",
       "      <td>2013-05</td>\n",
       "    </tr>\n",
       "    <tr>\n",
       "      <th>2</th>\n",
       "      <td>2013-10-17</td>\n",
       "      <td>Consumer</td>\n",
       "      <td>APAC</td>\n",
       "      <td>5175.171</td>\n",
       "      <td>9</td>\n",
       "      <td>919.9710</td>\n",
       "      <td>APACConsumer</td>\n",
       "      <td>2013</td>\n",
       "      <td>10</td>\n",
       "      <td>2013-10</td>\n",
       "    </tr>\n",
       "    <tr>\n",
       "      <th>3</th>\n",
       "      <td>2013-01-28</td>\n",
       "      <td>Home Office</td>\n",
       "      <td>EU</td>\n",
       "      <td>2892.510</td>\n",
       "      <td>5</td>\n",
       "      <td>-96.5400</td>\n",
       "      <td>EUHome Office</td>\n",
       "      <td>2013</td>\n",
       "      <td>01</td>\n",
       "      <td>2013-01</td>\n",
       "    </tr>\n",
       "    <tr>\n",
       "      <th>4</th>\n",
       "      <td>2013-05-11</td>\n",
       "      <td>Consumer</td>\n",
       "      <td>Africa</td>\n",
       "      <td>2832.960</td>\n",
       "      <td>8</td>\n",
       "      <td>311.5200</td>\n",
       "      <td>AfricaConsumer</td>\n",
       "      <td>2013</td>\n",
       "      <td>05</td>\n",
       "      <td>2013-05</td>\n",
       "    </tr>\n",
       "  </tbody>\n",
       "</table>\n",
       "</div>"
      ],
      "text/plain": [
       "  Order Date      Segment  Market     Sales  Quantity    Profit  \\\n",
       "0 2012-07-31     Consumer      US  2309.650         7  762.1845   \n",
       "1 2013-05-02    Corporate    APAC  3709.395         9 -288.7650   \n",
       "2 2013-10-17     Consumer    APAC  5175.171         9  919.9710   \n",
       "3 2013-01-28  Home Office      EU  2892.510         5  -96.5400   \n",
       "4 2013-05-11     Consumer  Africa  2832.960         8  311.5200   \n",
       "\n",
       "   market_segment  ord_year ord_month  ord_mon  \n",
       "0      USConsumer      2012        07  2012-07  \n",
       "1   APACCorporate      2013        05  2013-05  \n",
       "2    APACConsumer      2013        10  2013-10  \n",
       "3   EUHome Office      2013        01  2013-01  \n",
       "4  AfricaConsumer      2013        05  2013-05  "
      ]
     },
     "execution_count": 18,
     "metadata": {},
     "output_type": "execute_result"
    }
   ],
   "source": [
    "df.head()"
   ]
  },
  {
   "cell_type": "code",
   "execution_count": 19,
   "metadata": {},
   "outputs": [
    {
     "data": {
      "text/plain": [
       "Order Date         1430\n",
       "Segment               3\n",
       "Market                7\n",
       "Sales             22995\n",
       "Quantity             14\n",
       "Profit            24575\n",
       "market_segment       21\n",
       "ord_year              4\n",
       "ord_month            12\n",
       "ord_mon              48\n",
       "dtype: int64"
      ]
     },
     "execution_count": 19,
     "metadata": {},
     "output_type": "execute_result"
    }
   ],
   "source": [
    "df.nunique()"
   ]
  },
  {
   "cell_type": "code",
   "execution_count": 20,
   "metadata": {},
   "outputs": [],
   "source": [
    "df_ag = df.pivot_table(index = 'ord_mon', values ='Profit', columns = 'market_segment', aggfunc = 'sum')"
   ]
  },
  {
   "cell_type": "code",
   "execution_count": 21,
   "metadata": {},
   "outputs": [
    {
     "data": {
      "text/plain": [
       "(48, 21)"
      ]
     },
     "execution_count": 21,
     "metadata": {},
     "output_type": "execute_result"
    }
   ],
   "source": [
    "df_ag.shape"
   ]
  },
  {
   "cell_type": "code",
   "execution_count": 22,
   "metadata": {},
   "outputs": [
    {
     "data": {
      "text/html": [
       "<div>\n",
       "<style scoped>\n",
       "    .dataframe tbody tr th:only-of-type {\n",
       "        vertical-align: middle;\n",
       "    }\n",
       "\n",
       "    .dataframe tbody tr th {\n",
       "        vertical-align: top;\n",
       "    }\n",
       "\n",
       "    .dataframe thead th {\n",
       "        text-align: right;\n",
       "    }\n",
       "</style>\n",
       "<table border=\"1\" class=\"dataframe\">\n",
       "  <thead>\n",
       "    <tr style=\"text-align: right;\">\n",
       "      <th>market_segment</th>\n",
       "      <th>APACConsumer</th>\n",
       "      <th>APACCorporate</th>\n",
       "      <th>APACHome Office</th>\n",
       "      <th>AfricaConsumer</th>\n",
       "      <th>AfricaCorporate</th>\n",
       "      <th>AfricaHome Office</th>\n",
       "      <th>CanadaConsumer</th>\n",
       "      <th>CanadaCorporate</th>\n",
       "      <th>CanadaHome Office</th>\n",
       "      <th>EMEAConsumer</th>\n",
       "      <th>...</th>\n",
       "      <th>EMEAHome Office</th>\n",
       "      <th>EUConsumer</th>\n",
       "      <th>EUCorporate</th>\n",
       "      <th>EUHome Office</th>\n",
       "      <th>LATAMConsumer</th>\n",
       "      <th>LATAMCorporate</th>\n",
       "      <th>LATAMHome Office</th>\n",
       "      <th>USConsumer</th>\n",
       "      <th>USCorporate</th>\n",
       "      <th>USHome Office</th>\n",
       "    </tr>\n",
       "    <tr>\n",
       "      <th>ord_mon</th>\n",
       "      <th></th>\n",
       "      <th></th>\n",
       "      <th></th>\n",
       "      <th></th>\n",
       "      <th></th>\n",
       "      <th></th>\n",
       "      <th></th>\n",
       "      <th></th>\n",
       "      <th></th>\n",
       "      <th></th>\n",
       "      <th></th>\n",
       "      <th></th>\n",
       "      <th></th>\n",
       "      <th></th>\n",
       "      <th></th>\n",
       "      <th></th>\n",
       "      <th></th>\n",
       "      <th></th>\n",
       "      <th></th>\n",
       "      <th></th>\n",
       "      <th></th>\n",
       "    </tr>\n",
       "  </thead>\n",
       "  <tbody>\n",
       "    <tr>\n",
       "      <th>2011-01</th>\n",
       "      <td>2254.4898</td>\n",
       "      <td>-173.7264</td>\n",
       "      <td>230.2656</td>\n",
       "      <td>265.539</td>\n",
       "      <td>520.026</td>\n",
       "      <td>391.515</td>\n",
       "      <td>447.33</td>\n",
       "      <td>12.57</td>\n",
       "      <td>NaN</td>\n",
       "      <td>-2952.594</td>\n",
       "      <td>...</td>\n",
       "      <td>392.526</td>\n",
       "      <td>2259.8670</td>\n",
       "      <td>841.3875</td>\n",
       "      <td>2534.568</td>\n",
       "      <td>540.44312</td>\n",
       "      <td>1021.05924</td>\n",
       "      <td>-26.59744</td>\n",
       "      <td>2465.8368</td>\n",
       "      <td>643.3689</td>\n",
       "      <td>1233.9329</td>\n",
       "    </tr>\n",
       "    <tr>\n",
       "      <th>2011-02</th>\n",
       "      <td>4627.8531</td>\n",
       "      <td>3600.7776</td>\n",
       "      <td>617.5407</td>\n",
       "      <td>-201.888</td>\n",
       "      <td>-31.689</td>\n",
       "      <td>825.606</td>\n",
       "      <td>26.43</td>\n",
       "      <td>9.24</td>\n",
       "      <td>87.99</td>\n",
       "      <td>464.160</td>\n",
       "      <td>...</td>\n",
       "      <td>368.070</td>\n",
       "      <td>-783.9945</td>\n",
       "      <td>2234.4060</td>\n",
       "      <td>162.255</td>\n",
       "      <td>1227.86616</td>\n",
       "      <td>814.03020</td>\n",
       "      <td>-356.80440</td>\n",
       "      <td>1853.5541</td>\n",
       "      <td>421.9256</td>\n",
       "      <td>553.9467</td>\n",
       "    </tr>\n",
       "    <tr>\n",
       "      <th>2011-03</th>\n",
       "      <td>2337.8319</td>\n",
       "      <td>3634.9365</td>\n",
       "      <td>205.1052</td>\n",
       "      <td>919.074</td>\n",
       "      <td>244.437</td>\n",
       "      <td>83.430</td>\n",
       "      <td>82.47</td>\n",
       "      <td>NaN</td>\n",
       "      <td>84.03</td>\n",
       "      <td>706.380</td>\n",
       "      <td>...</td>\n",
       "      <td>-15.570</td>\n",
       "      <td>1273.7100</td>\n",
       "      <td>2206.5960</td>\n",
       "      <td>269.745</td>\n",
       "      <td>2427.39612</td>\n",
       "      <td>178.66400</td>\n",
       "      <td>769.88400</td>\n",
       "      <td>204.2007</td>\n",
       "      <td>127.4696</td>\n",
       "      <td>-268.9314</td>\n",
       "    </tr>\n",
       "    <tr>\n",
       "      <th>2011-04</th>\n",
       "      <td>633.6423</td>\n",
       "      <td>90.7521</td>\n",
       "      <td>603.8478</td>\n",
       "      <td>381.315</td>\n",
       "      <td>941.751</td>\n",
       "      <td>417.618</td>\n",
       "      <td>55.08</td>\n",
       "      <td>6.51</td>\n",
       "      <td>NaN</td>\n",
       "      <td>121.353</td>\n",
       "      <td>...</td>\n",
       "      <td>-456.510</td>\n",
       "      <td>2980.0065</td>\n",
       "      <td>981.1470</td>\n",
       "      <td>130.371</td>\n",
       "      <td>1368.82948</td>\n",
       "      <td>872.64068</td>\n",
       "      <td>-554.22952</td>\n",
       "      <td>1434.8636</td>\n",
       "      <td>494.7315</td>\n",
       "      <td>2723.4358</td>\n",
       "    </tr>\n",
       "    <tr>\n",
       "      <th>2011-05</th>\n",
       "      <td>3838.9500</td>\n",
       "      <td>1028.4489</td>\n",
       "      <td>102.0315</td>\n",
       "      <td>-39.981</td>\n",
       "      <td>490.650</td>\n",
       "      <td>39.180</td>\n",
       "      <td>0.87</td>\n",
       "      <td>NaN</td>\n",
       "      <td>NaN</td>\n",
       "      <td>172.554</td>\n",
       "      <td>...</td>\n",
       "      <td>-33.591</td>\n",
       "      <td>673.0080</td>\n",
       "      <td>1719.0600</td>\n",
       "      <td>443.310</td>\n",
       "      <td>1749.39200</td>\n",
       "      <td>134.87252</td>\n",
       "      <td>-397.95600</td>\n",
       "      <td>833.9433</td>\n",
       "      <td>2912.7976</td>\n",
       "      <td>145.7781</td>\n",
       "    </tr>\n",
       "  </tbody>\n",
       "</table>\n",
       "<p>5 rows × 21 columns</p>\n",
       "</div>"
      ],
      "text/plain": [
       "market_segment  APACConsumer  APACCorporate  APACHome Office  AfricaConsumer  \\\n",
       "ord_mon                                                                        \n",
       "2011-01            2254.4898      -173.7264         230.2656         265.539   \n",
       "2011-02            4627.8531      3600.7776         617.5407        -201.888   \n",
       "2011-03            2337.8319      3634.9365         205.1052         919.074   \n",
       "2011-04             633.6423        90.7521         603.8478         381.315   \n",
       "2011-05            3838.9500      1028.4489         102.0315         -39.981   \n",
       "\n",
       "market_segment  AfricaCorporate  AfricaHome Office  CanadaConsumer  \\\n",
       "ord_mon                                                              \n",
       "2011-01                 520.026            391.515          447.33   \n",
       "2011-02                 -31.689            825.606           26.43   \n",
       "2011-03                 244.437             83.430           82.47   \n",
       "2011-04                 941.751            417.618           55.08   \n",
       "2011-05                 490.650             39.180            0.87   \n",
       "\n",
       "market_segment  CanadaCorporate  CanadaHome Office  EMEAConsumer  ...  \\\n",
       "ord_mon                                                           ...   \n",
       "2011-01                   12.57                NaN     -2952.594  ...   \n",
       "2011-02                    9.24              87.99       464.160  ...   \n",
       "2011-03                     NaN              84.03       706.380  ...   \n",
       "2011-04                    6.51                NaN       121.353  ...   \n",
       "2011-05                     NaN                NaN       172.554  ...   \n",
       "\n",
       "market_segment  EMEAHome Office  EUConsumer  EUCorporate  EUHome Office  \\\n",
       "ord_mon                                                                   \n",
       "2011-01                 392.526   2259.8670     841.3875       2534.568   \n",
       "2011-02                 368.070   -783.9945    2234.4060        162.255   \n",
       "2011-03                 -15.570   1273.7100    2206.5960        269.745   \n",
       "2011-04                -456.510   2980.0065     981.1470        130.371   \n",
       "2011-05                 -33.591    673.0080    1719.0600        443.310   \n",
       "\n",
       "market_segment  LATAMConsumer  LATAMCorporate  LATAMHome Office  USConsumer  \\\n",
       "ord_mon                                                                       \n",
       "2011-01             540.44312      1021.05924         -26.59744   2465.8368   \n",
       "2011-02            1227.86616       814.03020        -356.80440   1853.5541   \n",
       "2011-03            2427.39612       178.66400         769.88400    204.2007   \n",
       "2011-04            1368.82948       872.64068        -554.22952   1434.8636   \n",
       "2011-05            1749.39200       134.87252        -397.95600    833.9433   \n",
       "\n",
       "market_segment  USCorporate  USHome Office  \n",
       "ord_mon                                     \n",
       "2011-01            643.3689      1233.9329  \n",
       "2011-02            421.9256       553.9467  \n",
       "2011-03            127.4696      -268.9314  \n",
       "2011-04            494.7315      2723.4358  \n",
       "2011-05           2912.7976       145.7781  \n",
       "\n",
       "[5 rows x 21 columns]"
      ]
     },
     "execution_count": 22,
     "metadata": {},
     "output_type": "execute_result"
    }
   ],
   "source": [
    "df_ag.head()"
   ]
  },
  {
   "cell_type": "code",
   "execution_count": 23,
   "metadata": {},
   "outputs": [
    {
     "data": {
      "text/plain": [
       "market_segment\n",
       "APACConsumer         48\n",
       "APACCorporate        48\n",
       "APACHome Office      48\n",
       "AfricaConsumer       48\n",
       "AfricaCorporate      48\n",
       "AfricaHome Office    48\n",
       "CanadaConsumer       43\n",
       "CanadaCorporate      39\n",
       "CanadaHome Office    28\n",
       "EMEAConsumer         48\n",
       "EMEACorporate        48\n",
       "EMEAHome Office      47\n",
       "EUConsumer           48\n",
       "EUCorporate          48\n",
       "EUHome Office        48\n",
       "LATAMConsumer        48\n",
       "LATAMCorporate       48\n",
       "LATAMHome Office     48\n",
       "USConsumer           48\n",
       "USCorporate          48\n",
       "USHome Office        48\n",
       "dtype: int64"
      ]
     },
     "execution_count": 23,
     "metadata": {},
     "output_type": "execute_result"
    }
   ],
   "source": [
    "df_ag.nunique()"
   ]
  },
  {
   "cell_type": "code",
   "execution_count": 24,
   "metadata": {},
   "outputs": [],
   "source": [
    "#dropping the null values as they dont have sales on that particular market_segment\n",
    "df_agg = df_ag.dropna()"
   ]
  },
  {
   "cell_type": "code",
   "execution_count": 25,
   "metadata": {},
   "outputs": [
    {
     "data": {
      "text/plain": [
       "market_segment\n",
       "APACConsumer         0\n",
       "APACCorporate        0\n",
       "APACHome Office      0\n",
       "AfricaConsumer       0\n",
       "AfricaCorporate      0\n",
       "AfricaHome Office    0\n",
       "CanadaConsumer       0\n",
       "CanadaCorporate      0\n",
       "CanadaHome Office    0\n",
       "EMEAConsumer         0\n",
       "EMEACorporate        0\n",
       "EMEAHome Office      0\n",
       "EUConsumer           0\n",
       "EUCorporate          0\n",
       "EUHome Office        0\n",
       "LATAMConsumer        0\n",
       "LATAMCorporate       0\n",
       "LATAMHome Office     0\n",
       "USConsumer           0\n",
       "USCorporate          0\n",
       "USHome Office        0\n",
       "dtype: int64"
      ]
     },
     "execution_count": 25,
     "metadata": {},
     "output_type": "execute_result"
    }
   ],
   "source": [
    "df_agg.isnull().sum()"
   ]
  },
  {
   "cell_type": "code",
   "execution_count": 26,
   "metadata": {},
   "outputs": [],
   "source": [
    "voc = (np.std(df_agg)/df_agg.mean()).sort_values(ascending =True)\n"
   ]
  },
  {
   "cell_type": "code",
   "execution_count": 27,
   "metadata": {},
   "outputs": [
    {
     "data": {
      "text/plain": [
       "market_segment\n",
       "APACCorporate        0.426732\n",
       "EUConsumer           0.451649\n",
       "APACConsumer         0.508616\n",
       "EUCorporate          0.619853\n",
       "LATAMConsumer        0.688389\n",
       "USConsumer           0.697860\n",
       "LATAMHome Office     0.701126\n",
       "LATAMCorporate       0.780444\n",
       "EUHome Office        0.836724\n",
       "USCorporate          0.857088\n",
       "AfricaConsumer       1.053332\n",
       "EMEAConsumer         1.070537\n",
       "CanadaCorporate      1.090791\n",
       "CanadaConsumer       1.168086\n",
       "USHome Office        1.234643\n",
       "APACHome Office      1.357127\n",
       "AfricaHome Office    1.714297\n",
       "AfricaCorporate      2.240187\n",
       "CanadaHome Office    2.294128\n",
       "EMEAHome Office      2.543984\n",
       "EMEACorporate        3.893203\n",
       "dtype: float64"
      ]
     },
     "execution_count": 27,
     "metadata": {},
     "output_type": "execute_result"
    }
   ],
   "source": [
    "voc"
   ]
  },
  {
   "cell_type": "code",
   "execution_count": 28,
   "metadata": {},
   "outputs": [],
   "source": [
    "df_apac = df_agg['APACCorporate']"
   ]
  },
  {
   "cell_type": "code",
   "execution_count": 29,
   "metadata": {},
   "outputs": [],
   "source": [
    "df_apac.columns = 'cum_profit'"
   ]
  },
  {
   "cell_type": "code",
   "execution_count": 30,
   "metadata": {},
   "outputs": [
    {
     "data": {
      "text/plain": [
       "'cum_profit'"
      ]
     },
     "execution_count": 30,
     "metadata": {},
     "output_type": "execute_result"
    }
   ],
   "source": [
    "df_apac.columns"
   ]
  },
  {
   "cell_type": "code",
   "execution_count": 31,
   "metadata": {},
   "outputs": [
    {
     "data": {
      "text/plain": [
       "ord_mon\n",
       "2011-02    3600.7776\n",
       "2011-06    4550.5506\n",
       "2011-09    2040.2007\n",
       "2012-04    1888.6710\n",
       "2012-06    3134.9796\n",
       "Name: APACCorporate, dtype: float64"
      ]
     },
     "execution_count": 31,
     "metadata": {},
     "output_type": "execute_result"
    }
   ],
   "source": [
    "df_apac.head()"
   ]
  },
  {
   "cell_type": "code",
   "execution_count": null,
   "metadata": {},
   "outputs": [],
   "source": []
  },
  {
   "cell_type": "code",
   "execution_count": null,
   "metadata": {},
   "outputs": [],
   "source": []
  },
  {
   "cell_type": "code",
   "execution_count": 32,
   "metadata": {},
   "outputs": [
    {
     "data": {
      "image/png": "[encoded data removed]",
      "text/plain": [
       "<Figure size 864x288 with 1 Axes>"
      ]
     },
     "metadata": {
      "needs_background": "light"
     },
     "output_type": "display_data"
    }
   ],
   "source": [
    "df_apac.plot(figsize=(12, 4))\n",
    "plt.legend(loc='best')\n",
    "plt.title('APACCorporate')\n",
    "plt.show(block=False)"
   ]
  },
  {
   "cell_type": "code",
   "execution_count": 33,
   "metadata": {},
   "outputs": [
    {
     "data": {
      "text/plain": [
       "ord_mon\n",
       "2011-02    3600.7776\n",
       "2011-06    4550.5506\n",
       "2011-09    2040.2007\n",
       "2012-04    1888.6710\n",
       "2012-06    3134.9796\n",
       "Name: APACCorporate, dtype: float64"
      ]
     },
     "execution_count": 33,
     "metadata": {},
     "output_type": "execute_result"
    }
   ],
   "source": [
    "df_apac.head()"
   ]
  },
  {
   "cell_type": "code",
   "execution_count": 36,
   "metadata": {},
   "outputs": [
    {
     "data": {
      "text/plain": [
       "(22,)"
      ]
     },
     "execution_count": 36,
     "metadata": {},
     "output_type": "execute_result"
    }
   ],
   "source": [
    "df_apac.shape"
   ]
  },
  {
   "cell_type": "code",
   "execution_count": 37,
   "metadata": {},
   "outputs": [
    {
     "data": {
      "text/plain": [
       "pandas.core.series.Series"
      ]
     },
     "execution_count": 37,
     "metadata": {},
     "output_type": "execute_result"
    }
   ],
   "source": [
    "type(df_apac)"
   ]
  },
  {
   "cell_type": "code",
   "execution_count": 45,
   "metadata": {},
   "outputs": [
    {
     "data": {
      "text/html": [
       "<div>\n",
       "<style scoped>\n",
       "    .dataframe tbody tr th:only-of-type {\n",
       "        vertical-align: middle;\n",
       "    }\n",
       "\n",
       "    .dataframe tbody tr th {\n",
       "        vertical-align: top;\n",
       "    }\n",
       "\n",
       "    .dataframe thead th {\n",
       "        text-align: right;\n",
       "    }\n",
       "</style>\n",
       "<table border=\"1\" class=\"dataframe\">\n",
       "  <thead>\n",
       "    <tr style=\"text-align: right;\">\n",
       "      <th></th>\n",
       "      <th>APACCorporate</th>\n",
       "    </tr>\n",
       "    <tr>\n",
       "      <th>ord_mon</th>\n",
       "      <th></th>\n",
       "    </tr>\n",
       "  </thead>\n",
       "  <tbody>\n",
       "    <tr>\n",
       "      <th>2011-02</th>\n",
       "      <td>3600.7776</td>\n",
       "    </tr>\n",
       "    <tr>\n",
       "      <th>2011-06</th>\n",
       "      <td>4550.5506</td>\n",
       "    </tr>\n",
       "    <tr>\n",
       "      <th>2011-09</th>\n",
       "      <td>2040.2007</td>\n",
       "    </tr>\n",
       "    <tr>\n",
       "      <th>2012-04</th>\n",
       "      <td>1888.6710</td>\n",
       "    </tr>\n",
       "    <tr>\n",
       "      <th>2012-06</th>\n",
       "      <td>3134.9796</td>\n",
       "    </tr>\n",
       "    <tr>\n",
       "      <th>2012-09</th>\n",
       "      <td>2542.6422</td>\n",
       "    </tr>\n",
       "    <tr>\n",
       "      <th>2012-12</th>\n",
       "      <td>2226.2160</td>\n",
       "    </tr>\n",
       "    <tr>\n",
       "      <th>2013-01</th>\n",
       "      <td>4578.2238</td>\n",
       "    </tr>\n",
       "    <tr>\n",
       "      <th>2013-03</th>\n",
       "      <td>1760.0946</td>\n",
       "    </tr>\n",
       "    <tr>\n",
       "      <th>2013-04</th>\n",
       "      <td>2510.1513</td>\n",
       "    </tr>\n",
       "    <tr>\n",
       "      <th>2013-06</th>\n",
       "      <td>4833.2370</td>\n",
       "    </tr>\n",
       "    <tr>\n",
       "      <th>2013-08</th>\n",
       "      <td>3297.0909</td>\n",
       "    </tr>\n",
       "    <tr>\n",
       "      <th>2013-09</th>\n",
       "      <td>2438.3835</td>\n",
       "    </tr>\n",
       "    <tr>\n",
       "      <th>2013-12</th>\n",
       "      <td>3781.4097</td>\n",
       "    </tr>\n",
       "    <tr>\n",
       "      <th>2014-01</th>\n",
       "      <td>1939.1304</td>\n",
       "    </tr>\n",
       "    <tr>\n",
       "      <th>2014-02</th>\n",
       "      <td>105.4686</td>\n",
       "    </tr>\n",
       "    <tr>\n",
       "      <th>2014-03</th>\n",
       "      <td>2604.4665</td>\n",
       "    </tr>\n",
       "    <tr>\n",
       "      <th>2014-04</th>\n",
       "      <td>3970.1430</td>\n",
       "    </tr>\n",
       "    <tr>\n",
       "      <th>2014-06</th>\n",
       "      <td>2438.1429</td>\n",
       "    </tr>\n",
       "    <tr>\n",
       "      <th>2014-08</th>\n",
       "      <td>1623.9069</td>\n",
       "    </tr>\n",
       "    <tr>\n",
       "      <th>2014-09</th>\n",
       "      <td>4419.9804</td>\n",
       "    </tr>\n",
       "    <tr>\n",
       "      <th>2014-11</th>\n",
       "      <td>5588.2947</td>\n",
       "    </tr>\n",
       "  </tbody>\n",
       "</table>\n",
       "</div>"
      ],
      "text/plain": [
       "         APACCorporate\n",
       "ord_mon               \n",
       "2011-02      3600.7776\n",
       "2011-06      4550.5506\n",
       "2011-09      2040.2007\n",
       "2012-04      1888.6710\n",
       "2012-06      3134.9796\n",
       "2012-09      2542.6422\n",
       "2012-12      2226.2160\n",
       "2013-01      4578.2238\n",
       "2013-03      1760.0946\n",
       "2013-04      2510.1513\n",
       "2013-06      4833.2370\n",
       "2013-08      3297.0909\n",
       "2013-09      2438.3835\n",
       "2013-12      3781.4097\n",
       "2014-01      1939.1304\n",
       "2014-02       105.4686\n",
       "2014-03      2604.4665\n",
       "2014-04      3970.1430\n",
       "2014-06      2438.1429\n",
       "2014-08      1623.9069\n",
       "2014-09      4419.9804\n",
       "2014-11      5588.2947"
      ]
     },
     "execution_count": 45,
     "metadata": {},
     "output_type": "execute_result"
    }
   ],
   "source": [
    "data = df_apac.to_frame()\n",
    "data"
   ]
  },
  {
   "cell_type": "code",
   "execution_count": 46,
   "metadata": {},
   "outputs": [
    {
     "data": {
      "image/png": "[encoded data removed]",
      "text/plain": [
       "<Figure size 864x144 with 1 Axes>"
      ]
     },
     "metadata": {
      "needs_background": "light"
     },
     "output_type": "display_data"
    }
   ],
   "source": [
    "import seaborn as sns\n",
    "fig = plt.subplots(figsize=(12, 2))\n",
    "ax = sns.boxplot(x=data['APACCorporate'],whis=1.5)"
   ]
  },
  {
   "cell_type": "code",
   "execution_count": 47,
   "metadata": {},
   "outputs": [],
   "source": [
    "train_len = 18\n",
    "train = data[0:train_len] # first 120 months as training set\n",
    "test = data[train_len:] "
   ]
  },
  {
   "cell_type": "markdown",
   "metadata": {},
   "source": [
    "### ADF Test"
   ]
  },
  {
   "cell_type": "code",
   "execution_count": 50,
   "metadata": {},
   "outputs": [
    {
     "name": "stdout",
     "output_type": "stream",
     "text": [
      "ADF statitistic: -3.733760 \n",
      "Critical value @ 0.05: -3.15\n",
      "P-Value: 0.003663\n"
     ]
    }
   ],
   "source": [
    "\n",
    "from statsmodels.tsa.stattools import adfuller\n",
    "adf_test=adfuller(data['APACCorporate'])\n",
    "print('ADF statitistic: %f '%adf_test[0])\n",
    "print(\"Critical value @ 0.05: %.2f\"%adf_test[4]['5%'])\n",
    "print('P-Value: %f' %adf_test[1])"
   ]
  },
  {
   "cell_type": "markdown",
   "metadata": {},
   "source": [
    "### KPSS test"
   ]
  },
  {
   "cell_type": "code",
   "execution_count": 51,
   "metadata": {},
   "outputs": [
    {
     "name": "stdout",
     "output_type": "stream",
     "text": [
      "kpss statitistic: 0.269081 \n",
      "Critical value @ 0.05: 0.46\n",
      "P-Value: 0.100000\n"
     ]
    }
   ],
   "source": [
    "from statsmodels.tsa.stattools import kpss\n",
    "kpss_test=kpss(data['APACCorporate'])\n",
    "print('kpss statitistic: %f '%kpss_test[0])\n",
    "print(\"Critical value @ 0.05: %.2f\"%kpss_test[3]['5%'])\n",
    "print('P-Value: %f' %kpss_test[1])"
   ]
  },
  {
   "cell_type": "markdown",
   "metadata": {},
   "source": [
    "### Boxcox Transformation"
   ]
  },
  {
   "cell_type": "code",
   "execution_count": 56,
   "metadata": {},
   "outputs": [
    {
     "data": {
      "image/png": "[encoded data removed]",
      "text/plain": [
       "<Figure size 1296x288 with 1 Axes>"
      ]
     },
     "metadata": {
      "needs_background": "light"
     },
     "output_type": "display_data"
    }
   ],
   "source": [
    "from scipy.stats import boxcox\n",
    "data_boxcox = pd.Series(boxcox(data['APACCorporate'],lmbda=0),index=data.index)\n",
    "plt.figure(figsize=(18,4))\n",
    "plt.plot(data_boxcox,label='After Boxcox transformation')\n",
    "plt.legend(loc='best')\n",
    "plt.show()"
   ]
  },
  {
   "cell_type": "markdown",
   "metadata": {},
   "source": [
    "### Differencing\n"
   ]
  },
  {
   "cell_type": "code",
   "execution_count": 58,
   "metadata": {},
   "outputs": [
    {
     "data": {
      "image/png": "[encoded data removed]",
      "text/plain": [
       "<Figure size 1296x288 with 1 Axes>"
      ]
     },
     "metadata": {
      "needs_background": "light"
     },
     "output_type": "display_data"
    }
   ],
   "source": [
    "data_boxcox_diff=pd.Series(data_boxcox-data_boxcox.shift(),index=data.index)\n",
    "data_boxcox_diff.dropna(inplace=True)\n",
    "plt.figure(figsize=(18,4))\n",
    "plt.plot(data_boxcox_diff,label='After Boxcox transformation and Differencing')\n",
    "plt.legend(loc='best')\n",
    "plt.title(\"After Boxcox transformation and Differencing\")\n",
    "plt.show()"
   ]
  },
  {
   "cell_type": "markdown",
   "metadata": {},
   "source": [
    "### Autocorrelation function (ACF) plot\n"
   ]
  },
  {
   "cell_type": "code",
   "execution_count": 60,
   "metadata": {},
   "outputs": [
    {
     "data": {
      "image/png": "[encoded data removed]",
      "text/plain": [
       "<Figure size 1296x288 with 1 Axes>"
      ]
     },
     "metadata": {
      "needs_background": "light"
     },
     "output_type": "display_data"
    }
   ],
   "source": [
    "from statsmodels.graphics.tsaplots import plot_acf\n",
    "plt.figure(figsize=(18,4))\n",
    "plot_acf(data_boxcox_diff,ax=plt.gca(),lags=3)\n",
    "plt.show()"
   ]
  },
  {
   "cell_type": "markdown",
   "metadata": {},
   "source": [
    "### Partial Autocorrelation function (PACF) plot\n"
   ]
  },
  {
   "cell_type": "code",
   "execution_count": 61,
   "metadata": {},
   "outputs": [
    {
     "data": {
      "image/png": "[encoded data removed]",
      "text/plain": [
       "<Figure size 864x288 with 1 Axes>"
      ]
     },
     "metadata": {
      "needs_background": "light"
     },
     "output_type": "display_data"
    }
   ],
   "source": [
    "\n",
    "from statsmodels.graphics.tsaplots import plot_pacf\n",
    "plt.figure(figsize=(12,4))\n",
    "plot_pacf(data_boxcox_diff,ax=plt.gca(),lags=30)\n",
    "plt.show()"
   ]
  },
  {
   "cell_type": "markdown",
   "metadata": {},
   "source": [
    "### Split into train and test data sets\n"
   ]
  },
  {
   "cell_type": "code",
   "execution_count": 63,
   "metadata": {},
   "outputs": [],
   "source": [
    "train_data_boxcox = data_boxcox[:train_len]\n",
    "test_data_boxcox = data_boxcox[train_len:]\n",
    "train_data_boxcox_diff = data_boxcox_diff[:train_len-1]\n",
    "test_data_boxcox_diff = data_boxcox_diff[train_len-1:]"
   ]
  },
  {
   "cell_type": "code",
   "execution_count": 65,
   "metadata": {},
   "outputs": [
    {
     "name": "stdout",
     "output_type": "stream",
     "text": [
      "                              ARMA Model Results                              \n",
      "==============================================================================\n",
      "Dep. Variable:                      y   No. Observations:                   17\n",
      "Model:                     ARMA(1, 0)   Log Likelihood                 -25.636\n",
      "Method:                       css-mle   S.D. of innovations              1.090\n",
      "Date:                Sat, 15 Aug 2020   AIC                             57.273\n",
      "Time:                        10:52:39   BIC                             59.772\n",
      "Sample:                             0   HQIC                            57.521\n",
      "                                                                              \n",
      "==============================================================================\n",
      "                 coef    std err          z      P>|z|      [0.025      0.975]\n",
      "------------------------------------------------------------------------------\n",
      "const         -0.0038      0.203     -0.019      0.985      -0.401       0.393\n",
      "ar.L1.y       -0.3235      0.222     -1.460      0.165      -0.758       0.111\n",
      "                                    Roots                                    \n",
      "=============================================================================\n",
      "                  Real          Imaginary           Modulus         Frequency\n",
      "-----------------------------------------------------------------------------\n",
      "AR.1           -3.0908           +0.0000j            3.0908            0.5000\n",
      "-----------------------------------------------------------------------------\n"
     ]
    }
   ],
   "source": [
    "### Auto Regression Method (AR)\n",
    "\n",
    "from statsmodels.tsa.arima_model import ARIMA\n",
    "model = ARIMA(train_data_boxcox_diff,order = (1,0,0))\n",
    "model_fit=model.fit()\n",
    "print(model_fit.summary())"
   ]
  },
  {
   "cell_type": "markdown",
   "metadata": {},
   "source": [
    "### Recover original time series forecast"
   ]
  },
  {
   "cell_type": "code",
   "execution_count": 69,
   "metadata": {},
   "outputs": [],
   "source": [
    "# y_hat_ar = data_boxcox_diff.copy()\n",
    "# y_hat_ar['ar_forecast_boxcox_diff'] = model_fit.predict(data_boxcox_diff.index.min(),data_boxcox_diff.index.max())\n",
    "# y_hat_ar['ar_forecast_boxcox'] = y_hat_ar['ar_forecast_boxcox_diff'].cumsum()\n",
    "\n",
    "# y_hat_ar['ar_forecast_boxcox'] = y_hat_ar['ar_forecast_boxcox'].add(data_boxcox[0])\n",
    "# y_hat_ar['ar_forecast'] = np.exp(y_hat_ar['ar_forecast_boxcox'])\n",
    "\n",
    "\n",
    "\n",
    "\n",
    "# y_hat_ar['ar_forecast_boxcox_diff']"
   ]
  },
  {
   "cell_type": "code",
   "execution_count": 70,
   "metadata": {},
   "outputs": [
    {
     "ename": "KeyError",
     "evalue": "'ar_forecast'",
     "output_type": "error",
     "traceback": [
      "\u001b[1;31m---------------------------------------------------------------------------\u001b[0m",
      "\u001b[1;31mTypeError\u001b[0m                                 Traceback (most recent call last)",
      "\u001b[1;32m~\\Anaconda3\\lib\\site-packages\\pandas\\core\\indexes\\base.py\u001b[0m in \u001b[0;36mget_value\u001b[1;34m(self, series, key)\u001b[0m\n\u001b[0;32m   4380\u001b[0m             \u001b[1;32mtry\u001b[0m\u001b[1;33m:\u001b[0m\u001b[1;33m\u001b[0m\u001b[1;33m\u001b[0m\u001b[0m\n\u001b[1;32m-> 4381\u001b[1;33m                 \u001b[1;32mreturn\u001b[0m \u001b[0mlibindex\u001b[0m\u001b[1;33m.\u001b[0m\u001b[0mget_value_box\u001b[0m\u001b[1;33m(\u001b[0m\u001b[0ms\u001b[0m\u001b[1;33m,\u001b[0m \u001b[0mkey\u001b[0m\u001b[1;33m)\u001b[0m\u001b[1;33m\u001b[0m\u001b[1;33m\u001b[0m\u001b[0m\n\u001b[0m\u001b[0;32m   4382\u001b[0m             \u001b[1;32mexcept\u001b[0m \u001b[0mIndexError\u001b[0m\u001b[1;33m:\u001b[0m\u001b[1;33m\u001b[0m\u001b[1;33m\u001b[0m\u001b[0m\n",
      "\u001b[1;32mpandas/_libs/index.pyx\u001b[0m in \u001b[0;36mpandas._libs.index.get_value_box\u001b[1;34m()\u001b[0m\n",
      "\u001b[1;32mpandas/_libs/index.pyx\u001b[0m in \u001b[0;36mpandas._libs.index.get_value_at\u001b[1;34m()\u001b[0m\n",
      "\u001b[1;32mpandas/_libs/util.pxd\u001b[0m in \u001b[0;36mpandas._libs.util.get_value_at\u001b[1;34m()\u001b[0m\n",
      "\u001b[1;32mpandas/_libs/util.pxd\u001b[0m in \u001b[0;36mpandas._libs.util.validate_indexer\u001b[1;34m()\u001b[0m\n",
      "\u001b[1;31mTypeError\u001b[0m: 'str' object cannot be interpreted as an integer",
      "\nDuring handling of the above exception, another exception occurred:\n",
      "\u001b[1;31mKeyError\u001b[0m                                  Traceback (most recent call last)",
      "\u001b[1;32m<ipython-input-70-7ece3c330feb>\u001b[0m in \u001b[0;36m<module>\u001b[1;34m\u001b[0m\n\u001b[0;32m      2\u001b[0m \u001b[0mplt\u001b[0m\u001b[1;33m.\u001b[0m\u001b[0mplot\u001b[0m\u001b[1;33m(\u001b[0m \u001b[0mtrain\u001b[0m\u001b[1;33m[\u001b[0m\u001b[1;34m'APACCorporate'\u001b[0m\u001b[1;33m]\u001b[0m\u001b[1;33m,\u001b[0m \u001b[0mlabel\u001b[0m\u001b[1;33m=\u001b[0m\u001b[1;34m'Train'\u001b[0m\u001b[1;33m)\u001b[0m\u001b[1;33m\u001b[0m\u001b[1;33m\u001b[0m\u001b[0m\n\u001b[0;32m      3\u001b[0m \u001b[0mplt\u001b[0m\u001b[1;33m.\u001b[0m\u001b[0mplot\u001b[0m\u001b[1;33m(\u001b[0m\u001b[0mtest\u001b[0m\u001b[1;33m[\u001b[0m\u001b[1;34m'APACCorporate'\u001b[0m\u001b[1;33m]\u001b[0m\u001b[1;33m,\u001b[0m \u001b[0mlabel\u001b[0m\u001b[1;33m=\u001b[0m\u001b[1;34m'Test'\u001b[0m\u001b[1;33m)\u001b[0m\u001b[1;33m\u001b[0m\u001b[1;33m\u001b[0m\u001b[0m\n\u001b[1;32m----> 4\u001b[1;33m \u001b[0mplt\u001b[0m\u001b[1;33m.\u001b[0m\u001b[0mplot\u001b[0m\u001b[1;33m(\u001b[0m\u001b[0my_hat_ar\u001b[0m\u001b[1;33m[\u001b[0m\u001b[1;34m'ar_forecast'\u001b[0m\u001b[1;33m]\u001b[0m\u001b[1;33m[\u001b[0m\u001b[0mtest\u001b[0m\u001b[1;33m.\u001b[0m\u001b[0mindex\u001b[0m\u001b[1;33m.\u001b[0m\u001b[0mmin\u001b[0m\u001b[1;33m(\u001b[0m\u001b[1;33m)\u001b[0m\u001b[1;33m:\u001b[0m\u001b[1;33m]\u001b[0m\u001b[1;33m,\u001b[0m \u001b[0mlabel\u001b[0m\u001b[1;33m=\u001b[0m\u001b[1;34m'Auto Regression Method'\u001b[0m\u001b[1;33m)\u001b[0m\u001b[1;33m\u001b[0m\u001b[1;33m\u001b[0m\u001b[0m\n\u001b[0m\u001b[0;32m      5\u001b[0m \u001b[0mplt\u001b[0m\u001b[1;33m.\u001b[0m\u001b[0mlegend\u001b[0m\u001b[1;33m(\u001b[0m\u001b[0mloc\u001b[0m\u001b[1;33m=\u001b[0m\u001b[1;34m'best'\u001b[0m\u001b[1;33m)\u001b[0m\u001b[1;33m\u001b[0m\u001b[1;33m\u001b[0m\u001b[0m\n\u001b[0;32m      6\u001b[0m \u001b[0mplt\u001b[0m\u001b[1;33m.\u001b[0m\u001b[0mtitle\u001b[0m\u001b[1;33m(\u001b[0m\u001b[1;34m'Auto Regression Method'\u001b[0m\u001b[1;33m)\u001b[0m\u001b[1;33m\u001b[0m\u001b[1;33m\u001b[0m\u001b[0m\n",
      "\u001b[1;32m~\\Anaconda3\\lib\\site-packages\\pandas\\core\\series.py\u001b[0m in \u001b[0;36m__getitem__\u001b[1;34m(self, key)\u001b[0m\n\u001b[0;32m    866\u001b[0m         \u001b[0mkey\u001b[0m \u001b[1;33m=\u001b[0m \u001b[0mcom\u001b[0m\u001b[1;33m.\u001b[0m\u001b[0mapply_if_callable\u001b[0m\u001b[1;33m(\u001b[0m\u001b[0mkey\u001b[0m\u001b[1;33m,\u001b[0m \u001b[0mself\u001b[0m\u001b[1;33m)\u001b[0m\u001b[1;33m\u001b[0m\u001b[1;33m\u001b[0m\u001b[0m\n\u001b[0;32m    867\u001b[0m         \u001b[1;32mtry\u001b[0m\u001b[1;33m:\u001b[0m\u001b[1;33m\u001b[0m\u001b[1;33m\u001b[0m\u001b[0m\n\u001b[1;32m--> 868\u001b[1;33m             \u001b[0mresult\u001b[0m \u001b[1;33m=\u001b[0m \u001b[0mself\u001b[0m\u001b[1;33m.\u001b[0m\u001b[0mindex\u001b[0m\u001b[1;33m.\u001b[0m\u001b[0mget_value\u001b[0m\u001b[1;33m(\u001b[0m\u001b[0mself\u001b[0m\u001b[1;33m,\u001b[0m \u001b[0mkey\u001b[0m\u001b[1;33m)\u001b[0m\u001b[1;33m\u001b[0m\u001b[1;33m\u001b[0m\u001b[0m\n\u001b[0m\u001b[0;32m    869\u001b[0m \u001b[1;33m\u001b[0m\u001b[0m\n\u001b[0;32m    870\u001b[0m             \u001b[1;32mif\u001b[0m \u001b[1;32mnot\u001b[0m \u001b[0mis_scalar\u001b[0m\u001b[1;33m(\u001b[0m\u001b[0mresult\u001b[0m\u001b[1;33m)\u001b[0m\u001b[1;33m:\u001b[0m\u001b[1;33m\u001b[0m\u001b[1;33m\u001b[0m\u001b[0m\n",
      "\u001b[1;32m~\\Anaconda3\\lib\\site-packages\\pandas\\core\\indexes\\base.py\u001b[0m in \u001b[0;36mget_value\u001b[1;34m(self, series, key)\u001b[0m\n\u001b[0;32m   4387\u001b[0m                     \u001b[1;32mraise\u001b[0m \u001b[0mInvalidIndexError\u001b[0m\u001b[1;33m(\u001b[0m\u001b[0mkey\u001b[0m\u001b[1;33m)\u001b[0m\u001b[1;33m\u001b[0m\u001b[1;33m\u001b[0m\u001b[0m\n\u001b[0;32m   4388\u001b[0m                 \u001b[1;32melse\u001b[0m\u001b[1;33m:\u001b[0m\u001b[1;33m\u001b[0m\u001b[1;33m\u001b[0m\u001b[0m\n\u001b[1;32m-> 4389\u001b[1;33m                     \u001b[1;32mraise\u001b[0m \u001b[0me1\u001b[0m\u001b[1;33m\u001b[0m\u001b[1;33m\u001b[0m\u001b[0m\n\u001b[0m\u001b[0;32m   4390\u001b[0m             \u001b[1;32mexcept\u001b[0m \u001b[0mException\u001b[0m\u001b[1;33m:\u001b[0m  \u001b[1;31m# pragma: no cover\u001b[0m\u001b[1;33m\u001b[0m\u001b[1;33m\u001b[0m\u001b[0m\n\u001b[0;32m   4391\u001b[0m                 \u001b[1;32mraise\u001b[0m \u001b[0me1\u001b[0m\u001b[1;33m\u001b[0m\u001b[1;33m\u001b[0m\u001b[0m\n",
      "\u001b[1;32m~\\Anaconda3\\lib\\site-packages\\pandas\\core\\indexes\\base.py\u001b[0m in \u001b[0;36mget_value\u001b[1;34m(self, series, key)\u001b[0m\n\u001b[0;32m   4373\u001b[0m         \u001b[1;32mtry\u001b[0m\u001b[1;33m:\u001b[0m\u001b[1;33m\u001b[0m\u001b[1;33m\u001b[0m\u001b[0m\n\u001b[0;32m   4374\u001b[0m             return self._engine.get_value(s, k,\n\u001b[1;32m-> 4375\u001b[1;33m                                           tz=getattr(series.dtype, 'tz', None))\n\u001b[0m\u001b[0;32m   4376\u001b[0m         \u001b[1;32mexcept\u001b[0m \u001b[0mKeyError\u001b[0m \u001b[1;32mas\u001b[0m \u001b[0me1\u001b[0m\u001b[1;33m:\u001b[0m\u001b[1;33m\u001b[0m\u001b[1;33m\u001b[0m\u001b[0m\n\u001b[0;32m   4377\u001b[0m             \u001b[1;32mif\u001b[0m \u001b[0mlen\u001b[0m\u001b[1;33m(\u001b[0m\u001b[0mself\u001b[0m\u001b[1;33m)\u001b[0m \u001b[1;33m>\u001b[0m \u001b[1;36m0\u001b[0m \u001b[1;32mand\u001b[0m \u001b[1;33m(\u001b[0m\u001b[0mself\u001b[0m\u001b[1;33m.\u001b[0m\u001b[0mholds_integer\u001b[0m\u001b[1;33m(\u001b[0m\u001b[1;33m)\u001b[0m \u001b[1;32mor\u001b[0m \u001b[0mself\u001b[0m\u001b[1;33m.\u001b[0m\u001b[0mis_boolean\u001b[0m\u001b[1;33m(\u001b[0m\u001b[1;33m)\u001b[0m\u001b[1;33m)\u001b[0m\u001b[1;33m:\u001b[0m\u001b[1;33m\u001b[0m\u001b[1;33m\u001b[0m\u001b[0m\n",
      "\u001b[1;32mpandas/_libs/index.pyx\u001b[0m in \u001b[0;36mpandas._libs.index.IndexEngine.get_value\u001b[1;34m()\u001b[0m\n",
      "\u001b[1;32mpandas/_libs/index.pyx\u001b[0m in \u001b[0;36mpandas._libs.index.IndexEngine.get_value\u001b[1;34m()\u001b[0m\n",
      "\u001b[1;32mpandas/_libs/index.pyx\u001b[0m in \u001b[0;36mpandas._libs.index.IndexEngine.get_loc\u001b[1;34m()\u001b[0m\n",
      "\u001b[1;32mpandas/_libs/hashtable_class_helper.pxi\u001b[0m in \u001b[0;36mpandas._libs.hashtable.PyObjectHashTable.get_item\u001b[1;34m()\u001b[0m\n",
      "\u001b[1;32mpandas/_libs/hashtable_class_helper.pxi\u001b[0m in \u001b[0;36mpandas._libs.hashtable.PyObjectHashTable.get_item\u001b[1;34m()\u001b[0m\n",
      "\u001b[1;31mKeyError\u001b[0m: 'ar_forecast'"
     ]
    },
    {
     "data": {
      "image/png": "[encoded data removed]",
      "text/plain": [
       "<Figure size 1296x288 with 1 Axes>"
      ]
     },
     "metadata": {
      "needs_background": "light"
     },
     "output_type": "display_data"
    }
   ],
   "source": [
    "plt.figure(figsize=(18,4))\n",
    "plt.plot( train['APACCorporate'], label='Train')\n",
    "plt.plot(test['APACCorporate'], label='Test')\n",
    "plt.plot(y_hat_ar['ar_forecast'][test.index.min():], label='Auto Regression Method')\n",
    "plt.legend(loc='best')\n",
    "plt.title('Auto Regression Method')\n",
    "plt.show()"
   ]
  },
  {
   "cell_type": "code",
   "execution_count": 72,
   "metadata": {},
   "outputs": [
    {
     "ename": "NameError",
     "evalue": "name 'mean_squared_error' is not defined",
     "output_type": "error",
     "traceback": [
      "\u001b[1;31m---------------------------------------------------------------------------\u001b[0m",
      "\u001b[1;31mNameError\u001b[0m                                 Traceback (most recent call last)",
      "\u001b[1;32m<ipython-input-72-37cff237bcc0>\u001b[0m in \u001b[0;36m<module>\u001b[1;34m\u001b[0m\n\u001b[0;32m      1\u001b[0m \u001b[1;31m### Calculate RMSE and MAPE\u001b[0m\u001b[1;33m\u001b[0m\u001b[1;33m\u001b[0m\u001b[1;33m\u001b[0m\u001b[0m\n\u001b[0;32m      2\u001b[0m \u001b[1;33m\u001b[0m\u001b[0m\n\u001b[1;32m----> 3\u001b[1;33m \u001b[0mrmse\u001b[0m \u001b[1;33m=\u001b[0m \u001b[0mnp\u001b[0m\u001b[1;33m.\u001b[0m\u001b[0msqrt\u001b[0m\u001b[1;33m(\u001b[0m\u001b[0mmean_squared_error\u001b[0m\u001b[1;33m(\u001b[0m\u001b[0mtest\u001b[0m\u001b[1;33m[\u001b[0m\u001b[1;34m'APACCorporate'\u001b[0m\u001b[1;33m]\u001b[0m\u001b[1;33m,\u001b[0m\u001b[0my_hat_ar\u001b[0m\u001b[1;33m[\u001b[0m\u001b[1;34m'ar_forecast'\u001b[0m\u001b[1;33m]\u001b[0m\u001b[1;33m[\u001b[0m\u001b[0mtest\u001b[0m\u001b[1;33m.\u001b[0m\u001b[0mindex\u001b[0m\u001b[1;33m.\u001b[0m\u001b[0mmin\u001b[0m\u001b[1;33m(\u001b[0m\u001b[1;33m)\u001b[0m\u001b[1;33m:\u001b[0m\u001b[1;33m]\u001b[0m\u001b[1;33m)\u001b[0m\u001b[1;33m)\u001b[0m\u001b[1;33m.\u001b[0m\u001b[0mround\u001b[0m\u001b[1;33m(\u001b[0m\u001b[1;36m2\u001b[0m\u001b[1;33m)\u001b[0m\u001b[1;33m\u001b[0m\u001b[1;33m\u001b[0m\u001b[0m\n\u001b[0m\u001b[0;32m      4\u001b[0m \u001b[0mmape\u001b[0m \u001b[1;33m=\u001b[0m \u001b[0mnp\u001b[0m\u001b[1;33m.\u001b[0m\u001b[0mround\u001b[0m\u001b[1;33m(\u001b[0m\u001b[0mnp\u001b[0m\u001b[1;33m.\u001b[0m\u001b[0mmean\u001b[0m\u001b[1;33m(\u001b[0m\u001b[0mnp\u001b[0m\u001b[1;33m.\u001b[0m\u001b[0mabs\u001b[0m\u001b[1;33m(\u001b[0m\u001b[0mtest\u001b[0m\u001b[1;33m[\u001b[0m\u001b[1;34m'APACCorporate'\u001b[0m\u001b[1;33m]\u001b[0m\u001b[1;33m-\u001b[0m\u001b[0my_hat_ar\u001b[0m\u001b[1;33m[\u001b[0m\u001b[1;34m'ar_forecast'\u001b[0m\u001b[1;33m]\u001b[0m\u001b[1;33m[\u001b[0m\u001b[0mtest\u001b[0m\u001b[1;33m.\u001b[0m\u001b[0mindex\u001b[0m\u001b[1;33m.\u001b[0m\u001b[0mmin\u001b[0m\u001b[1;33m(\u001b[0m\u001b[1;33m)\u001b[0m\u001b[1;33m:\u001b[0m\u001b[1;33m]\u001b[0m\u001b[1;33m)\u001b[0m\u001b[1;33m/\u001b[0m\u001b[0mtest\u001b[0m\u001b[1;33m[\u001b[0m\u001b[1;34m'APACCorporate'\u001b[0m\u001b[1;33m]\u001b[0m\u001b[1;33m)\u001b[0m\u001b[1;33m*\u001b[0m\u001b[1;36m100\u001b[0m\u001b[1;33m,\u001b[0m\u001b[1;36m2\u001b[0m\u001b[1;33m)\u001b[0m\u001b[1;33m\u001b[0m\u001b[1;33m\u001b[0m\u001b[0m\n\u001b[0;32m      5\u001b[0m \u001b[1;33m\u001b[0m\u001b[0m\n",
      "\u001b[1;31mNameError\u001b[0m: name 'mean_squared_error' is not defined"
     ]
    }
   ],
   "source": [
    "### Calculate RMSE and MAPE\n",
    "\n",
    "rmse = np.sqrt(mean_squared_error(test['APACCorporate'],y_hat_ar['ar_forecast'][test.index.min():])).round(2)\n",
    "mape = np.round(np.mean(np.abs(test['APACCorporate']-y_hat_ar['ar_forecast'][test.index.min():])/test['APACCorporate'])*100,2)\n",
    "\n",
    "tempResults = pd.DataFrame({'Method':['Auto Regressive (AR) method'], 'RMSE': [rmse],'MAPE': [mape] })\n",
    "tempResults"
   ]
  },
  {
   "cell_type": "code",
   "execution_count": null,
   "metadata": {},
   "outputs": [],
   "source": [
    "### Moving Average Method (MA)\n",
    "\n",
    "model = ARIMA(train_data_boxcox_diff,order = (0,0,3))\n",
    "model_fit=model.fit()\n",
    "print(model_fit.params)\n",
    "\n",
    "### Recover original time series forecast\n",
    "\n",
    "y_hat_ma = data_boxcox_diff.copy()\n",
    "y_hat_ma['ma_forecast_boxcox_diff'] = model_fit.predict(data_boxcox_diff.index.min(),data_boxcox_diff.index.max())\n",
    "y_hat_ma['ma_forecast_boxcox'] =y_hat_ma['ma_forecast_boxcox_diff'].cumsum()\n",
    "y_hat_ma['ma_forecast_boxcox'] = y_hat_ma['ma_forecast_boxcox'].add(data_boxcox[0])\n",
    "y_hat_ma['ma_forecast'] = np.exp(y_hat_ma['ma_forecast_boxcox'])\n",
    "\n",
    "### Plot train,test and forecast\n",
    "\n",
    "plt.figure(figsize=(12,4))\n",
    "plt.plot( train['Sales'], label='Train')\n",
    "plt.plot(test['Sales'], label='Test')\n",
    "plt.plot(y_hat_ma['ma_forecast'][test.index.min():], label='Auto Regression  Moving Method')\n",
    "plt.legend(loc='best')\n",
    "plt.title('Auto Regression Moving Method')\n",
    "plt.show()\n",
    "\n",
    "### Calculate RMSE and MAPE\n",
    "\n",
    "rmse = np.sqrt(mean_squared_error(test['APACCorporate'],y_hat_ma['ma_forecast'][test.index.min():])).round(2)\n",
    "mape = np.round(np.mean(np.abs(test['APACCorporate']-y_hat_ma['ma_forecast'][test.index.min():])/test['Sales'])*100,2)\n",
    "\n",
    "results = pd.DataFrame({'Method':['Auto Regressive Moving (MA) method'], 'RMSE': [rmse],'MAPE': [mape] })\n",
    "results = pd.concat([results, tempResults])\n",
    "results = results[['Method', 'RMSE', 'MAPE']]\n",
    "results\n",
    "\n",
    "### Auto Regressive Moving Average Method (ARMA)\n",
    "\n",
    "model = ARIMA(train_data_boxcox_diff,order = (4,0,3))\n",
    "model_fit=model.fit()\n",
    "print(model_fit.params)\n",
    "\n",
    "### Recover original time series forecast\n",
    "\n",
    "y_hat_arma = data_boxcox_diff.copy()\n",
    "y_hat_arma['arma_forecast_boxcox_diff'] = model_fit.predict(data_boxcox_diff.index.min(),data_boxcox_diff.index.max())\n",
    "y_hat_arma['arma_forecast_boxcox'] = y_hat_arma['arma_forecast_boxcox_diff'].cumsum() \n",
    "y_hat_arma['arma_forecast_boxcox'] = y_hat_arma['arma_forecast_boxcox'].add(data_boxcox[0])\n",
    "y_hat_arma['arma_forecast'] = np.exp(y_hat_arma['arma_forecast_boxcox'])\n",
    "\n",
    "### Plot train,test and forecast\n",
    "\n",
    "plt.figure(figsize=(12,4))\n",
    "plt.plot( train['APACCorporate'], label='Train')\n",
    "plt.plot(test['APACCorporate'], label='Test')\n",
    "plt.plot(y_hat_arma['arma_forecast'][test.index.min():], label='Auto Regressive Moving Average Method(ARMA)')\n",
    "plt.legend(loc='best')\n",
    "plt.title('Auto Regressive Moving Average Method(ARMA)')\n",
    "plt.show()\n",
    "\n",
    "### Calculate RMSE and MAPE\n",
    "\n",
    "rmse = np.sqrt(mean_squared_error(test['APACCorporate'],y_hat_arma['arma_forecast'][test.index.min():])).round(2)\n",
    "mape = np.round(np.mean(np.abs(test['APACCorporate']-y_hat_arma['arma_forecast'][test.index.min():])/test['APACCorporate'])*100,2)\n",
    "\n",
    "tempResults = pd.DataFrame({'Method':['Auto Regressive Moving Average (ARMA) method'], 'RMSE': [rmse],'MAPE': [mape] })\n",
    "results = pd.concat([results, tempResults])\n",
    "results = results[['Method', 'RMSE', 'MAPE']]\n",
    "results\n",
    "\n",
    "### Auto Regressive Integrated  Moving Average Method (ARIMA)\n",
    "\n",
    "model = ARIMA(train_data_boxcox,order = (4,1,3))\n",
    "model_fit=model.fit()\n",
    "print(model_fit.params)\n",
    "\n",
    "### Recover original time series forecast\n",
    "\n",
    "y_hat_arima = data_boxcox_diff.copy()\n",
    "y_hat_arima['arima_forecast_boxcox_diff'] = model_fit.predict(data_boxcox_diff.index.min(),data_boxcox_diff.index.max())\n",
    "y_hat_arima['arima_forecast_boxcox'] = y_hat_arima['arima_forecast_boxcox_diff'].cumsum() \n",
    "y_hat_arima['arima_forecast_boxcox'] = y_hat_arima['arima_forecast_boxcox'].add(data_boxcox[0])\n",
    "y_hat_arima['arima_forecast'] = np.exp(y_hat_arima['arima_forecast_boxcox'])\n",
    "\n",
    "### Plot train,test and forecast\n",
    "\n",
    "plt.figure(figsize=(12,4))\n",
    "plt.plot( train['APACCorporate'], label='Train')\n",
    "plt.plot(test['APACCorporate'], label='Test')\n",
    "plt.plot(y_hat_arima['arima_forecast'][test.index.min():], label='Auto Regressive Integrated Moving Average Method(ARIMA)')\n",
    "plt.legend(loc='best')\n",
    "plt.title('Auto Regressive Integrated Moving Average Method(ARIMA)')\n",
    "plt.show()\n",
    "\n",
    "### Calculate RMSE and MAPE\n",
    "\n",
    "rmse = np.sqrt(mean_squared_error(test['APACCorporate'],y_hat_arima['arima_forecast'][test.index.min():])).round(2)\n",
    "mape = np.round(np.mean(np.abs(test['APACCorporate']-y_hat_arima['arima_forecast'][test.index.min():])/test['APACCorporate'])*100,2)\n",
    "\n",
    "tempResults = pd.DataFrame({'Method':['Auto Regressive Integrated Moving Average (ARIMA) method'], 'RMSE': [rmse],'MAPE': [mape] })\n",
    "results = pd.concat([results, tempResults])\n",
    "results = results[['Method', 'RMSE', 'MAPE']]\n",
    "results\n",
    "\n",
    "### Seasonal Auto Regressive Integrated Moving Average(SARIMA)\n",
    "\n",
    "from statsmodels.tsa.statespace.sarimax import SARIMAX\n",
    "model = SARIMAX(train_data_boxcox,order = (7,2,9),seasonal_order = (3,1,1,12))\n",
    "model_fit=model.fit()\n",
    "print(model_fit.params)\n",
    "\n",
    "### Recover original time series forecast\n",
    "\n",
    "y_hat_sarima = data_boxcox_diff.copy()\n",
    "y_hat_sarima['sarima_forecast_boxcox'] = model_fit.predict(data_boxcox_diff.index.min(),data_boxcox_diff.index.max())\n",
    "y_hat_sarima['sarima_forecast'] = np.exp(y_hat_sarima['sarima_forecast_boxcox'])\n",
    "\n",
    "### Plot train,test and forecast\n",
    "\n",
    "plt.figure(figsize=(12,4))\n",
    "plt.plot( train['APACCorporate'], label='Train')\n",
    "plt.plot(test['APACCorporate'], label='Test')\n",
    "plt.plot(y_hat_sarima['sarima_forecast'][test.index.min():], label=' Seasonal Auto Regressive Integrated Moving Average Method(SARIMA)')\n",
    "plt.legend(loc='best')\n",
    "plt.title('Seasonal Auto Regressive Integrated Moving Average Method(SARIMA)')\n",
    "plt.show()\n",
    "\n",
    "### Calculate RMSE and MAPE\n",
    "\n",
    "rmse = np.sqrt(mean_squared_error(test['APACCorporate'],y_hat_sarima['sarima_forecast'][test.index.min():])).round(2)\n",
    "mape = np.round(np.mean(np.abs(test['APACCorporate']-y_hat_sarima['sarima_forecast'][test.index.min():])/test['APACCorporate'])*100,2)\n",
    "\n",
    "tempResults = pd.DataFrame({'Method':['Seasonal Auto Regressive Integrated Moving Average (SARIMA) method'], 'RMSE': [rmse],'MAPE': [mape] })\n",
    "results = pd.concat([results, tempResults])\n",
    "results = results[['Method', 'RMSE', 'MAPE']]\n",
    "results"
   ]
  }
 ],
 "metadata": {
  "kernelspec": {
   "display_name": "Python 3",
   "language": "python",
   "name": "python3"
  },
  "language_info": {
   "codemirror_mode": {
    "name": "ipython",
    "version": 3
   },
   "file_extension": ".py",
   "mimetype": "text/x-python",
   "name": "python",
   "nbconvert_exporter": "python",
   "pygments_lexer": "ipython3",
   "version": "3.7.3"
  }
 },
 "nbformat": 4,
 "nbformat_minor": 4
}
