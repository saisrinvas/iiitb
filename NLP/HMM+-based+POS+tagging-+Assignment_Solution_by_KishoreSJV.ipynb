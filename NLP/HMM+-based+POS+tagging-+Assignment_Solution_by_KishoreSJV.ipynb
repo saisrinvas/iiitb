{
 "cells": [
  {
   "cell_type": "markdown",
   "metadata": {},
   "source": [
    " ##                     <font color = red size =15>  POS Tagging Assignment Solution\n"
   ]
  },
  {
   "cell_type": "markdown",
   "metadata": {},
   "source": [
    "#### <font color = VIOLET size = 5 > Problem Statement :</font>\n",
    "\n",
    "- Need to handle POS Tagging for Unknown words by Modifying the Viterbi algorithm with at least two techniques. \n"
   ]
  },
  {
   "cell_type": "markdown",
   "metadata": {},
   "source": [
    "### <font color = BROWN size = 4> Solution Approach : </font>\n",
    "\n",
    "\n",
    "1. Plain Vanila Viterbi Model\n",
    "    - 1.1 Evaluating the tagging accuracy on validation set\n",
    "    - 1.2 Identifying the incorrectly tagged words\n",
    "    - 1.3 Identifying the unknown words tagging\n",
    "    - 1.4 Evaluating the tagging accuracy on test set\n",
    "        \n",
    "2. Assigning frequently occuring Tag for unknown words with Viterbi Model\n",
    "    - 2.1 Evaluating the validation set\n",
    "    - 2.2 Identifying the incorrect Tagged words\n",
    "    - 2.3 Evaluating the tagging accuracy on test set\n",
    "    \n",
    "3. Probability Technique(using transition probability for unknown words) with Viterbi Model\n",
    "    - 3.1 Evaluating the validation set\n",
    "    - 3.2 Identifying the incorrect Tagged words\n",
    "    - 3.3 Evaluating the tagging accuracy on test set\n",
    "\n",
    "4. Rule Based Technique with Viterbi Model\n",
    "    - 4.1 Evaluating the validation set\n",
    "    - 4.2 Identifying the incorrect Tagged words\n",
    "    - 4.3 Evaluating the tagging accuracy on test set\n",
    "    \n",
    "5. Comparing accuracy for all the four models on the validation set\n",
    "\n",
    "6. Comparision of incorrectly tagged by original POS tagger vs which are got corrected by your modifications\n"
   ]
  },
  {
   "cell_type": "markdown",
   "metadata": {},
   "source": [
    "<font color = GOLDGREEN size = 5> Importing Required Packages & Libraries</font>"
   ]
  },
  {
   "cell_type": "code",
   "execution_count": 1,
   "metadata": {},
   "outputs": [],
   "source": [
    "#Import statements:\n",
    "import random\n",
    "import requests\n",
    "import numpy as np\n",
    "import pandas as pd\n",
    "import pprint, time\n",
    "import seaborn as sns\n",
    "import matplotlib.pyplot as plt\n",
    "import nltk, re, pprint\n",
    "from nltk.tokenize import word_tokenize\n",
    "from sklearn.model_selection import train_test_split"
   ]
  },
  {
   "cell_type": "code",
   "execution_count": 2,
   "metadata": {},
   "outputs": [],
   "source": [
    "# reading the Treebank tagged sentences\n",
    "nltk_data = list(nltk.corpus.treebank.tagged_sents(tagset='universal'))"
   ]
  },
  {
   "cell_type": "code",
   "execution_count": 3,
   "metadata": {
    "scrolled": true
   },
   "outputs": [
    {
     "name": "stdout",
     "output_type": "stream",
     "text": [
      "[[('Pierre', 'NOUN'), ('Vinken', 'NOUN'), (',', '.'), ('61', 'NUM'), ('years', 'NOUN'), ('old', 'ADJ'), (',', '.'), ('will', 'VERB'), ('join', 'VERB'), ('the', 'DET'), ('board', 'NOUN'), ('as', 'ADP'), ('a', 'DET'), ('nonexecutive', 'ADJ'), ('director', 'NOUN'), ('Nov.', 'NOUN'), ('29', 'NUM'), ('.', '.')], [('Mr.', 'NOUN'), ('Vinken', 'NOUN'), ('is', 'VERB'), ('chairman', 'NOUN'), ('of', 'ADP'), ('Elsevier', 'NOUN'), ('N.V.', 'NOUN'), (',', '.'), ('the', 'DET'), ('Dutch', 'NOUN'), ('publishing', 'VERB'), ('group', 'NOUN'), ('.', '.')]]\n"
     ]
    }
   ],
   "source": [
    "# first few tagged sentences\n",
    "print(nltk_data[:2])"
   ]
  },
  {
   "cell_type": "code",
   "execution_count": 4,
   "metadata": {},
   "outputs": [
    {
     "name": "stdout",
     "output_type": "stream",
     "text": [
      "Length of the tagged data:  3914\n"
     ]
    }
   ],
   "source": [
    "print(\"Length of the tagged data: \",len(nltk_data))"
   ]
  },
  {
   "cell_type": "code",
   "execution_count": 5,
   "metadata": {},
   "outputs": [
    {
     "name": "stdout",
     "output_type": "stream",
     "text": [
      "Length of train set :  3718 \n",
      "\n",
      "Length of validation set :  196 \n",
      "\n",
      "The head of train set: \n",
      " \n",
      " [[('Mr.', 'NOUN'), ('Dahl', 'NOUN'), (',', '.'), ('a', 'DET'), ('registered', 'VERB'), ('representative', 'NOUN'), ('in', 'ADP'), ('the', 'DET'), ('insurance', 'NOUN'), ('business', 'NOUN'), (',', '.'), ('said', 'VERB'), ('0', 'X'), ('he', 'PRON'), ('``', '.'), ('screwed', 'VERB'), ('up', 'PRT'), (\"''\", '.'), ('because', 'ADP'), ('he', 'PRON'), ('did', 'VERB'), (\"n't\", 'ADV'), ('realize', 'VERB'), ('0', 'X'), ('he', 'PRON'), ('was', 'VERB'), ('breaking', 'VERB'), ('securities', 'NOUN'), ('laws', 'NOUN'), ('.', '.')], [('Under', 'ADP'), ('the', 'DET'), ('measure', 'NOUN'), ('passed', 'VERB'), ('*', 'X'), ('yesterday', 'NOUN'), (',', '.'), ('the', 'DET'), ('minimum', 'ADJ'), ('wage', 'NOUN'), ('would', 'VERB'), ('rise', 'VERB'), ('to', 'PRT'), ('$', '.'), ('3.80', 'NUM'), ('*U*', 'X'), ('next', 'ADJ'), ('April', 'NOUN'), ('.', '.')], [('The', 'DET'), ('Illinois', 'NOUN'), ('Supreme', 'NOUN'), ('Court', 'NOUN'), ('ordered', 'VERB'), ('the', 'DET'), ('commission', 'NOUN'), ('*-1', 'X'), ('to', 'PRT'), ('audit', 'VERB'), ('Commonwealth', 'NOUN'), ('Edison', 'NOUN'), (\"'s\", 'PRT'), ('construction', 'NOUN'), ('expenses', 'NOUN'), ('and', 'CONJ'), ('refund', 'VERB'), ('any', 'DET'), ('unreasonable', 'ADJ'), ('expenses', 'NOUN'), ('.', '.')], [('While', 'ADP'), ('the', 'DET'), ('S&P', 'NOUN'), ('tally', 'NOUN'), ('does', 'VERB'), (\"n't\", 'ADV'), ('measure', 'VERB'), ('the', 'DET'), ('magnitude', 'NOUN'), ('of', 'ADP'), ('dividend', 'NOUN'), ('changes', 'NOUN'), (',', '.'), ('a', 'DET'), ('further', 'ADJ'), ('slippage', 'NOUN'), ('in', 'ADP'), ('the', 'DET'), ('number', 'NOUN'), ('of', 'ADP'), ('dividend', 'NOUN'), ('increases', 'NOUN'), ('could', 'VERB'), ('be', 'VERB'), ('a', 'DET'), ('harbinger', 'NOUN'), ('of', 'ADP'), ('slower', 'ADJ'), ('dividend', 'NOUN'), ('growth', 'NOUN'), ('next', 'ADP'), ('year', 'NOUN'), ('.', '.')], [('*-1', 'X'), ('Starting', 'VERB'), ('with', 'ADP'), ('Congressman', 'NOUN'), ('Mario', 'NOUN'), ('Biaggi', 'NOUN'), ('-LRB-', '.'), ('now', 'ADV'), ('serving', 'VERB'), ('a', 'DET'), ('jail', 'NOUN'), ('sentence', 'NOUN'), ('-RRB-', '.'), (',', '.'), ('the', 'DET'), ('company', 'NOUN'), ('began', 'VERB'), ('a', 'DET'), ('career', 'NOUN'), ('of', 'ADP'), ('*', 'X'), ('bribing', 'VERB'), ('federal', 'ADJ'), (',', '.'), ('state', 'NOUN'), ('and', 'CONJ'), ('local', 'ADJ'), ('public', 'ADJ'), ('officials', 'NOUN'), ('and', 'CONJ'), ('those', 'DET'), ('close', 'ADJ'), ('to', 'PRT'), ('public', 'ADJ'), ('officials', 'NOUN'), (',', '.'), ('right', 'ADV'), ('up', 'ADP'), ('to', 'PRT'), ('*RNR*-2', 'X'), ('and', 'CONJ'), ('including', 'VERB'), ('*RNR*-2', 'X'), ('E.', 'NOUN'), ('Robert', 'NOUN'), ('Wallach', 'NOUN'), (',', '.'), ('close', 'ADJ'), ('friend', 'NOUN'), ('and', 'CONJ'), ('adviser', 'NOUN'), ('to', 'PRT'), ('former', 'ADJ'), ('Attorney', 'NOUN'), ('General', 'NOUN'), ('Ed', 'NOUN'), ('Meese', 'NOUN'), ('.', '.')]]\n"
     ]
    }
   ],
   "source": [
    "# Splitting into train and test\n",
    "random.seed(97)\n",
    "train_set,validation_set = train_test_split(nltk_data,test_size=0.05,random_state=97)\n",
    "print(\"Length of train set : \",len(train_set),'\\n')\n",
    "print(\"Length of validation set : \",len(validation_set),'\\n')\n",
    "print(\"The head of train set: \\n\",'\\n',train_set[:5])"
   ]
  },
  {
   "cell_type": "code",
   "execution_count": 6,
   "metadata": {},
   "outputs": [
    {
     "name": "stdout",
     "output_type": "stream",
     "text": [
      "Length of train tagged words:  95565\n",
      "Length of validation_set tagged words:  5111\n"
     ]
    }
   ],
   "source": [
    "# Getting list of train set tagged words\n",
    "train_tagged_words = [tup for sent in train_set for tup in sent]\n",
    "print(\"Length of train tagged words: \",len(train_tagged_words))\n",
    "\n",
    "# Getting list of validate set tagged words\n",
    "validation_tagged_words1 = [tup for sent in validation_set for tup in sent]\n",
    "print(\"Length of validation_set tagged words: \",len(validation_tagged_words1))"
   ]
  },
  {
   "cell_type": "code",
   "execution_count": 7,
   "metadata": {
    "scrolled": true
   },
   "outputs": [
    {
     "name": "stdout",
     "output_type": "stream",
     "text": [
      "The head of the tokens:  ['Mr.', 'Dahl', ',', 'a', 'registered', 'representative', 'in', 'the', 'insurance', 'business']\n"
     ]
    }
   ],
   "source": [
    "# Getting tokens of train set word corpus:\n",
    "tokens = [pair[0] for pair in train_tagged_words]\n",
    "print(\"The head of the tokens: \",tokens[:10])"
   ]
  },
  {
   "cell_type": "code",
   "execution_count": 8,
   "metadata": {},
   "outputs": [
    {
     "name": "stdout",
     "output_type": "stream",
     "text": [
      "The length of the unique vocabulary:  12064 words\n"
     ]
    }
   ],
   "source": [
    "# vocabulary of taken corpus:\n",
    "V = set(tokens)\n",
    "print(\"The length of the unique vocabulary: \",len(V),\"words\")"
   ]
  },
  {
   "cell_type": "code",
   "execution_count": 9,
   "metadata": {},
   "outputs": [
    {
     "name": "stdout",
     "output_type": "stream",
     "text": [
      "The length of the unique tags in the corpus:  12 \n",
      "\n",
      "The unique tags tagged for the corpus: \n",
      " \n",
      " {'PRON', 'CONJ', 'PRT', 'ADV', 'NOUN', 'X', 'ADJ', 'NUM', 'DET', 'VERB', '.', 'ADP'}\n"
     ]
    }
   ],
   "source": [
    "# number of tags\n",
    "Tags = [pair[1] for pair in train_tagged_words]\n",
    "Unique_Tags=set(Tags)\n",
    "print(\"The length of the unique tags in the corpus: \",len(Unique_Tags),'\\n')\n",
    "print(\"The unique tags tagged for the corpus: \\n\",'\\n',Unique_Tags)"
   ]
  },
  {
   "cell_type": "code",
   "execution_count": 10,
   "metadata": {},
   "outputs": [
    {
     "name": "stdout",
     "output_type": "stream",
     "text": [
      "Most common tags:  [('NOUN', 27321), ('VERB', 12902), ('.', 11131), ('ADP', 9331), ('DET', 8245)]\n"
     ]
    }
   ],
   "source": [
    "#Frequency of tags in the data set and most frequent tag\n",
    "from collections import Counter\n",
    "tag_counts = Counter(Tags)\n",
    "tag_counts\n",
    "# Most common tag\n",
    "print(\"Most common tags: \",tag_counts.most_common(5))"
   ]
  },
  {
   "cell_type": "markdown",
   "metadata": {},
   "source": [
    "The most occured tag is: **Noun**"
   ]
  },
  {
   "cell_type": "markdown",
   "metadata": {},
   "source": [
    "<font color = BROWN size = 5>  POS Tagging Algorithm - HMM </font>\n",
    "\n",
    "We'll use the HMM algorithm to tag the words. Given a sequence of words to be tagged, the task is to assign the most probable tag to the word. \n",
    "\n",
    "In other words, to every word w, assign the tag t that maximises the likelihood P(t/w). Since P(t/w) = P(w/t). P(t) / P(w), after ignoring P(w), we have to compute P(w/t) and P(t).\n",
    "\n",
    "\n",
    "P(w/t) is basically the probability that given a tag (say NN), what is the probability of it being w (say 'building'). This can be computed by computing the fraction of all NNs which are equal to w, i.e. \n",
    "\n",
    "P(w/t) = count(w, t) / count(t). \n",
    "\n",
    "\n",
    "The term P(t) is the probability of tag t, and in a tagging task, we assume that a tag will depend only on the previous tag. In other words, the probability of a tag being NN will depend only on the previous tag t(n-1). So for e.g. if t(n-1) is a JJ, then t(n) is likely to be an NN since adjectives often precede a noun (blue coat, tall building etc.).\n",
    "\n",
    "\n",
    "Given the penn treebank tagged dataset, we can compute the two terms P(w/t) and P(t) and store them in two large matrices. The matrix of P(w/t) will be sparse, since each word will not be seen with most tags ever, and those terms will thus be zero. \n"
   ]
  },
  {
   "cell_type": "markdown",
   "metadata": {},
   "source": [
    "<font color = Blue size = 5> Computing Transition Probabilities </font>"
   ]
  },
  {
   "cell_type": "code",
   "execution_count": 11,
   "metadata": {},
   "outputs": [],
   "source": [
    "# compute tag given tag: tag2(t2) given tag1 (t1), i.e. Transition Probability\n",
    "\n",
    "def t2_given_t1(t2, t1, train_bag = train_tagged_words):\n",
    "    \n",
    "    # Calculate No.of times tag t1 appears\n",
    "    tags = [pair[1] for pair in train_bag]\n",
    "    count_t1 = len([t for t in tags if t==t1])\n",
    "    \n",
    "    # Calculate No.of times t1 is followed by tag t2\n",
    "    count_t2_t1 = 0\n",
    "    for index in range(len(tags)-1):\n",
    "        if tags[index]==t1 and tags[index+1] == t2:\n",
    "            count_t2_t1 += 1\n",
    "    return (count_t2_t1, count_t1)"
   ]
  },
  {
   "cell_type": "markdown",
   "metadata": {},
   "source": [
    "<font color = Blue size = 5> Computing Emission Probabilities </font>"
   ]
  },
  {
   "cell_type": "code",
   "execution_count": 12,
   "metadata": {
    "scrolled": true
   },
   "outputs": [],
   "source": [
    "# computing P(w/t) and storing in T x V matrix\n",
    "t = len(Unique_Tags)\n",
    "v = len(V)\n",
    "w_given_t = np.zeros((t, v))"
   ]
  },
  {
   "cell_type": "code",
   "execution_count": 13,
   "metadata": {},
   "outputs": [],
   "source": [
    "#  Method to compute word given tag is: Emission Probability\n",
    "def word_given_tag(word, tag, train_bag = train_tagged_words):\n",
    "    \n",
    "    # Calculate No.of times tag t appears\n",
    "    tag_list = [pair for pair in train_bag if pair[1]==tag]\n",
    "    count_tag = len(tag_list)\n",
    "    \n",
    "    # Calculate No.of times word w has been tagged as tag t\n",
    "    w_given_tag_list = [pair[0] for pair in tag_list if pair[0]==word]\n",
    "    count_w_given_tag = len(w_given_tag_list)\n",
    "    \n",
    "    return (count_w_given_tag, count_tag)"
   ]
  },
  {
   "cell_type": "code",
   "execution_count": 14,
   "metadata": {
    "scrolled": true
   },
   "outputs": [
    {
     "name": "stdout",
     "output_type": "stream",
     "text": [
      "t x t transition matrix:  \n",
      " [[8.03366490e-03 5.35577675e-03 1.22417752e-02 3.48125473e-02\n",
      "  2.08110169e-01 9.29609761e-02 7.30680972e-02 7.26855407e-03\n",
      "  9.56388656e-03 4.86227989e-01 3.97857688e-02 2.25707721e-02]\n",
      " [5.93692027e-02 4.63821896e-04 5.10204071e-03 5.56586273e-02\n",
      "  3.46938789e-01 7.88497180e-03 1.17810763e-01 4.12801467e-02\n",
      "  1.20129868e-01 1.56771794e-01 3.52504626e-02 5.33395186e-02]\n",
      " [1.76355317e-02 2.28608749e-03 1.95950363e-03 1.01241022e-02\n",
      "  2.47550622e-01 1.33899413e-02 8.52384046e-02 5.78053556e-02\n",
      "  9.79751796e-02 4.01698232e-01 4.31090780e-02 2.12279558e-02]\n",
      " [1.52267460e-02 7.28235673e-03 1.45647135e-02 8.04369450e-02\n",
      "  3.14465426e-02 2.35021524e-02 1.29758358e-01 3.11155245e-02\n",
      "  6.85203597e-02 3.45249921e-01 1.35054618e-01 1.17841773e-01]\n",
      " [4.72164247e-03 4.29340079e-02 4.40320633e-02 1.71662830e-02\n",
      "  2.62911320e-01 2.91350968e-02 1.22250281e-02 9.69949830e-03\n",
      "  1.29204644e-02 1.47542179e-01 2.40401164e-01 1.76311269e-01]\n",
      " [5.65438382e-02 1.00063533e-02 1.84561625e-01 2.62071155e-02\n",
      "  6.24205843e-02 7.49682337e-02 1.68360863e-02 2.85895797e-03\n",
      "  5.43202050e-02 2.03303680e-01 1.64707750e-01 1.43265560e-01]\n",
      " [6.56383345e-04 1.65736787e-02 1.01739420e-02 4.75877896e-03\n",
      "  6.99212313e-01 2.06760745e-02 6.72792941e-02 2.10042670e-02\n",
      "  4.59468318e-03 1.24712829e-02 6.48178533e-02 7.77814239e-02]\n",
      " [1.47405663e-03 1.38561325e-02 2.68278308e-02 2.65330193e-03\n",
      "  3.53183955e-01 2.09610850e-01 3.39033008e-02 1.84257075e-01\n",
      "  3.24292458e-03 1.76886786e-02 1.18808962e-01 3.44929248e-02]\n",
      " [3.39599769e-03 4.85142518e-04 1.21285630e-04 1.26137054e-02\n",
      "  6.36385679e-01 4.58459668e-02 2.06549421e-01 2.23165546e-02\n",
      "  5.57913864e-03 3.94178294e-02 1.78289879e-02 9.46027879e-03]\n",
      " [3.56533863e-02 5.34800813e-03 3.16230059e-02 8.13052207e-02\n",
      "  1.10447995e-01 2.18183234e-01 6.45636320e-02 2.27871649e-02\n",
      "  1.33855224e-01 1.69508606e-01 3.51108350e-02 9.16137025e-02]\n",
      " [6.65708408e-02 5.81259541e-02 2.51549715e-03 5.25559261e-02\n",
      "  2.21902788e-01 2.71314345e-02 4.41110395e-02 8.16638246e-02\n",
      "  1.73389629e-01 8.85814428e-02 9.30733979e-02 9.02883857e-02]\n",
      " [6.88029155e-02 8.57357169e-04 1.50037510e-03 1.35033755e-02\n",
      "  3.21294606e-01 3.47229652e-02 1.07598327e-01 6.32300898e-02\n",
      "  3.23330820e-01 8.03772360e-03 3.98671106e-02 1.72543135e-02]]\n"
     ]
    }
   ],
   "source": [
    "# creating t x t transition matrix of tags\n",
    "# each column is t2, each row is t1\n",
    "# thus M(i, j) represents P(tj given ti)\n",
    "\n",
    "tags_matrix = np.zeros((len(Unique_Tags), len(Unique_Tags)), dtype='float32')\n",
    "for i, t1 in enumerate(list(Unique_Tags)):\n",
    "    for j, t2 in enumerate(list(Unique_Tags)): \n",
    "        tags_matrix[i, j] = t2_given_t1(t2, t1)[0]/t2_given_t1(t2, t1)[1]\n",
    "print(\"t x t transition matrix: \",'\\n',tags_matrix)       "
   ]
  },
  {
   "cell_type": "code",
   "execution_count": 15,
   "metadata": {},
   "outputs": [
    {
     "data": {
      "text/html": [
       "<div>\n",
       "<style scoped>\n",
       "    .dataframe tbody tr th:only-of-type {\n",
       "        vertical-align: middle;\n",
       "    }\n",
       "\n",
       "    .dataframe tbody tr th {\n",
       "        vertical-align: top;\n",
       "    }\n",
       "\n",
       "    .dataframe thead th {\n",
       "        text-align: right;\n",
       "    }\n",
       "</style>\n",
       "<table border=\"1\" class=\"dataframe\">\n",
       "  <thead>\n",
       "    <tr style=\"text-align: right;\">\n",
       "      <th></th>\n",
       "      <th>PRON</th>\n",
       "      <th>CONJ</th>\n",
       "      <th>PRT</th>\n",
       "      <th>ADV</th>\n",
       "      <th>NOUN</th>\n",
       "      <th>X</th>\n",
       "      <th>ADJ</th>\n",
       "      <th>NUM</th>\n",
       "      <th>DET</th>\n",
       "      <th>VERB</th>\n",
       "      <th>.</th>\n",
       "      <th>ADP</th>\n",
       "    </tr>\n",
       "  </thead>\n",
       "  <tbody>\n",
       "    <tr>\n",
       "      <th>PRON</th>\n",
       "      <td>0.008034</td>\n",
       "      <td>0.005356</td>\n",
       "      <td>0.012242</td>\n",
       "      <td>0.034813</td>\n",
       "      <td>0.208110</td>\n",
       "      <td>0.092961</td>\n",
       "      <td>0.073068</td>\n",
       "      <td>0.007269</td>\n",
       "      <td>0.009564</td>\n",
       "      <td>0.486228</td>\n",
       "      <td>0.039786</td>\n",
       "      <td>0.022571</td>\n",
       "    </tr>\n",
       "    <tr>\n",
       "      <th>CONJ</th>\n",
       "      <td>0.059369</td>\n",
       "      <td>0.000464</td>\n",
       "      <td>0.005102</td>\n",
       "      <td>0.055659</td>\n",
       "      <td>0.346939</td>\n",
       "      <td>0.007885</td>\n",
       "      <td>0.117811</td>\n",
       "      <td>0.041280</td>\n",
       "      <td>0.120130</td>\n",
       "      <td>0.156772</td>\n",
       "      <td>0.035250</td>\n",
       "      <td>0.053340</td>\n",
       "    </tr>\n",
       "    <tr>\n",
       "      <th>PRT</th>\n",
       "      <td>0.017636</td>\n",
       "      <td>0.002286</td>\n",
       "      <td>0.001960</td>\n",
       "      <td>0.010124</td>\n",
       "      <td>0.247551</td>\n",
       "      <td>0.013390</td>\n",
       "      <td>0.085238</td>\n",
       "      <td>0.057805</td>\n",
       "      <td>0.097975</td>\n",
       "      <td>0.401698</td>\n",
       "      <td>0.043109</td>\n",
       "      <td>0.021228</td>\n",
       "    </tr>\n",
       "    <tr>\n",
       "      <th>ADV</th>\n",
       "      <td>0.015227</td>\n",
       "      <td>0.007282</td>\n",
       "      <td>0.014565</td>\n",
       "      <td>0.080437</td>\n",
       "      <td>0.031447</td>\n",
       "      <td>0.023502</td>\n",
       "      <td>0.129758</td>\n",
       "      <td>0.031116</td>\n",
       "      <td>0.068520</td>\n",
       "      <td>0.345250</td>\n",
       "      <td>0.135055</td>\n",
       "      <td>0.117842</td>\n",
       "    </tr>\n",
       "    <tr>\n",
       "      <th>NOUN</th>\n",
       "      <td>0.004722</td>\n",
       "      <td>0.042934</td>\n",
       "      <td>0.044032</td>\n",
       "      <td>0.017166</td>\n",
       "      <td>0.262911</td>\n",
       "      <td>0.029135</td>\n",
       "      <td>0.012225</td>\n",
       "      <td>0.009699</td>\n",
       "      <td>0.012920</td>\n",
       "      <td>0.147542</td>\n",
       "      <td>0.240401</td>\n",
       "      <td>0.176311</td>\n",
       "    </tr>\n",
       "    <tr>\n",
       "      <th>X</th>\n",
       "      <td>0.056544</td>\n",
       "      <td>0.010006</td>\n",
       "      <td>0.184562</td>\n",
       "      <td>0.026207</td>\n",
       "      <td>0.062421</td>\n",
       "      <td>0.074968</td>\n",
       "      <td>0.016836</td>\n",
       "      <td>0.002859</td>\n",
       "      <td>0.054320</td>\n",
       "      <td>0.203304</td>\n",
       "      <td>0.164708</td>\n",
       "      <td>0.143266</td>\n",
       "    </tr>\n",
       "    <tr>\n",
       "      <th>ADJ</th>\n",
       "      <td>0.000656</td>\n",
       "      <td>0.016574</td>\n",
       "      <td>0.010174</td>\n",
       "      <td>0.004759</td>\n",
       "      <td>0.699212</td>\n",
       "      <td>0.020676</td>\n",
       "      <td>0.067279</td>\n",
       "      <td>0.021004</td>\n",
       "      <td>0.004595</td>\n",
       "      <td>0.012471</td>\n",
       "      <td>0.064818</td>\n",
       "      <td>0.077781</td>\n",
       "    </tr>\n",
       "    <tr>\n",
       "      <th>NUM</th>\n",
       "      <td>0.001474</td>\n",
       "      <td>0.013856</td>\n",
       "      <td>0.026828</td>\n",
       "      <td>0.002653</td>\n",
       "      <td>0.353184</td>\n",
       "      <td>0.209611</td>\n",
       "      <td>0.033903</td>\n",
       "      <td>0.184257</td>\n",
       "      <td>0.003243</td>\n",
       "      <td>0.017689</td>\n",
       "      <td>0.118809</td>\n",
       "      <td>0.034493</td>\n",
       "    </tr>\n",
       "    <tr>\n",
       "      <th>DET</th>\n",
       "      <td>0.003396</td>\n",
       "      <td>0.000485</td>\n",
       "      <td>0.000121</td>\n",
       "      <td>0.012614</td>\n",
       "      <td>0.636386</td>\n",
       "      <td>0.045846</td>\n",
       "      <td>0.206549</td>\n",
       "      <td>0.022317</td>\n",
       "      <td>0.005579</td>\n",
       "      <td>0.039418</td>\n",
       "      <td>0.017829</td>\n",
       "      <td>0.009460</td>\n",
       "    </tr>\n",
       "    <tr>\n",
       "      <th>VERB</th>\n",
       "      <td>0.035653</td>\n",
       "      <td>0.005348</td>\n",
       "      <td>0.031623</td>\n",
       "      <td>0.081305</td>\n",
       "      <td>0.110448</td>\n",
       "      <td>0.218183</td>\n",
       "      <td>0.064564</td>\n",
       "      <td>0.022787</td>\n",
       "      <td>0.133855</td>\n",
       "      <td>0.169509</td>\n",
       "      <td>0.035111</td>\n",
       "      <td>0.091614</td>\n",
       "    </tr>\n",
       "    <tr>\n",
       "      <th>.</th>\n",
       "      <td>0.066571</td>\n",
       "      <td>0.058126</td>\n",
       "      <td>0.002515</td>\n",
       "      <td>0.052556</td>\n",
       "      <td>0.221903</td>\n",
       "      <td>0.027131</td>\n",
       "      <td>0.044111</td>\n",
       "      <td>0.081664</td>\n",
       "      <td>0.173390</td>\n",
       "      <td>0.088581</td>\n",
       "      <td>0.093073</td>\n",
       "      <td>0.090288</td>\n",
       "    </tr>\n",
       "    <tr>\n",
       "      <th>ADP</th>\n",
       "      <td>0.068803</td>\n",
       "      <td>0.000857</td>\n",
       "      <td>0.001500</td>\n",
       "      <td>0.013503</td>\n",
       "      <td>0.321295</td>\n",
       "      <td>0.034723</td>\n",
       "      <td>0.107598</td>\n",
       "      <td>0.063230</td>\n",
       "      <td>0.323331</td>\n",
       "      <td>0.008038</td>\n",
       "      <td>0.039867</td>\n",
       "      <td>0.017254</td>\n",
       "    </tr>\n",
       "  </tbody>\n",
       "</table>\n",
       "</div>"
      ],
      "text/plain": [
       "          PRON      CONJ       PRT       ADV      NOUN         X       ADJ  \\\n",
       "PRON  0.008034  0.005356  0.012242  0.034813  0.208110  0.092961  0.073068   \n",
       "CONJ  0.059369  0.000464  0.005102  0.055659  0.346939  0.007885  0.117811   \n",
       "PRT   0.017636  0.002286  0.001960  0.010124  0.247551  0.013390  0.085238   \n",
       "ADV   0.015227  0.007282  0.014565  0.080437  0.031447  0.023502  0.129758   \n",
       "NOUN  0.004722  0.042934  0.044032  0.017166  0.262911  0.029135  0.012225   \n",
       "X     0.056544  0.010006  0.184562  0.026207  0.062421  0.074968  0.016836   \n",
       "ADJ   0.000656  0.016574  0.010174  0.004759  0.699212  0.020676  0.067279   \n",
       "NUM   0.001474  0.013856  0.026828  0.002653  0.353184  0.209611  0.033903   \n",
       "DET   0.003396  0.000485  0.000121  0.012614  0.636386  0.045846  0.206549   \n",
       "VERB  0.035653  0.005348  0.031623  0.081305  0.110448  0.218183  0.064564   \n",
       ".     0.066571  0.058126  0.002515  0.052556  0.221903  0.027131  0.044111   \n",
       "ADP   0.068803  0.000857  0.001500  0.013503  0.321295  0.034723  0.107598   \n",
       "\n",
       "           NUM       DET      VERB         .       ADP  \n",
       "PRON  0.007269  0.009564  0.486228  0.039786  0.022571  \n",
       "CONJ  0.041280  0.120130  0.156772  0.035250  0.053340  \n",
       "PRT   0.057805  0.097975  0.401698  0.043109  0.021228  \n",
       "ADV   0.031116  0.068520  0.345250  0.135055  0.117842  \n",
       "NOUN  0.009699  0.012920  0.147542  0.240401  0.176311  \n",
       "X     0.002859  0.054320  0.203304  0.164708  0.143266  \n",
       "ADJ   0.021004  0.004595  0.012471  0.064818  0.077781  \n",
       "NUM   0.184257  0.003243  0.017689  0.118809  0.034493  \n",
       "DET   0.022317  0.005579  0.039418  0.017829  0.009460  \n",
       "VERB  0.022787  0.133855  0.169509  0.035111  0.091614  \n",
       ".     0.081664  0.173390  0.088581  0.093073  0.090288  \n",
       "ADP   0.063230  0.323331  0.008038  0.039867  0.017254  "
      ]
     },
     "execution_count": 15,
     "metadata": {},
     "output_type": "execute_result"
    }
   ],
   "source": [
    "# convert the matrix to a dataframe(tags_df) for better readability\n",
    "tags_df = pd.DataFrame(tags_matrix, columns = list(Unique_Tags), index=list(Unique_Tags))\n",
    "tags_df"
   ]
  },
  {
   "cell_type": "code",
   "execution_count": 16,
   "metadata": {
    "scrolled": true
   },
   "outputs": [
    {
     "data": {
      "text/plain": [
       "PRON    0.066571\n",
       "CONJ    0.058126\n",
       "PRT     0.002515\n",
       "ADV     0.052556\n",
       "NOUN    0.221903\n",
       "X       0.027131\n",
       "ADJ     0.044111\n",
       "NUM     0.081664\n",
       "DET     0.173390\n",
       "VERB    0.088581\n",
       ".       0.093073\n",
       "ADP     0.090288\n",
       "Name: ., dtype: float32"
      ]
     },
     "execution_count": 16,
     "metadata": {},
     "output_type": "execute_result"
    }
   ],
   "source": [
    "tags_df.loc['.', :]"
   ]
  },
  {
   "cell_type": "code",
   "execution_count": 17,
   "metadata": {
    "scrolled": true
   },
   "outputs": [
    {
     "data": {
      "image/png": "[encoded data removed]",
      "text/plain": [
       "<Figure size 1296x864 with 2 Axes>"
      ]
     },
     "metadata": {
      "needs_background": "light"
     },
     "output_type": "display_data"
    }
   ],
   "source": [
    "# Heatmap of tags matrix as below:\n",
    "# T(i, j) means P(tag j given tag i)\n",
    "plt.figure(figsize=(18, 12))\n",
    "sns.heatmap(tags_df,annot=True)\n",
    "plt.show()"
   ]
  },
  {
   "cell_type": "code",
   "execution_count": 18,
   "metadata": {},
   "outputs": [
    {
     "data": {
      "image/png": "[encoded data removed]",
      "text/plain": [
       "<Figure size 1296x864 with 2 Axes>"
      ]
     },
     "metadata": {
      "needs_background": "light"
     },
     "output_type": "display_data"
    }
   ],
   "source": [
    "# frequent tags Heatmap:\n",
    "# filter the df to get P(t2, t1) > 0.5\n",
    "tags_frequent = tags_df[tags_df>0.5]\n",
    "plt.figure(figsize=(18, 12))\n",
    "sns.heatmap(tags_frequent,annot=True)\n",
    "plt.show()"
   ]
  },
  {
   "cell_type": "markdown",
   "metadata": {},
   "source": [
    "<font color = Brown size = 3> Tagging using vanila Viterbi algorithm and then we will modify it based on Lexicon, Rule based and Probabilistic methods for handling unknown words. </font>"
   ]
  },
  {
   "cell_type": "markdown",
   "metadata": {},
   "source": [
    "<font color= Blue size = 5>Step 1. Initially Building the vanilla Viterbi based POS tagger </font>\n",
    "\n",
    "Let's now use the computed probabilities P(w, tag) and P(t2, t1) to assign tags to each word in the document. We'll run through each word w and compute P(tag/w)=P(w/tag).P(tag) for each tag in the tag set, and then assign the tag having the max P(tag/w).\n",
    "\n",
    "We'll store the assigned tags in a list of tuples, similar to the list 'train_tagged_words'. Each tuple will be a (token, assigned_tag). As we progress further in the list, each tag to be assigned will use the tag of the previous token.\n",
    "\n",
    "Note: P(tag|start) = P(tag|'.') "
   ]
  },
  {
   "cell_type": "markdown",
   "metadata": {},
   "source": [
    "Steps As part of Plain Vanila Viterbi Model:\n",
    "    - 1.1 Evaluating the tagging accuracy on validation set\n",
    "    - 1.2 Identifying the incorrectly tagged words\n",
    "    - 1.3 Identifying the unknown words tagging\n",
    "    - 1.4 Evaluating the tagging accuracy on test set"
   ]
  },
  {
   "cell_type": "code",
   "execution_count": 19,
   "metadata": {},
   "outputs": [],
   "source": [
    "# Viterbi Heuristic\n",
    "def Viterbi(words, train_bag = train_tagged_words):\n",
    "    state = []\n",
    "    T = list(set([pair[1] for pair in train_bag]))\n",
    "    \n",
    "    for key, word in enumerate(words):\n",
    "        #initialise list of probability column for a given observation\n",
    "        p = [] \n",
    "        for tag in T:\n",
    "            \n",
    "            if key == 0:\n",
    "                transition_p = tags_df.loc['.', tag]\n",
    "                \n",
    "            else:\n",
    "                transition_p = tags_df.loc[state[-1], tag]\n",
    "                \n",
    "                \n",
    "            # compute emission and state probabilities\n",
    "            emission_p = word_given_tag(words[key], tag)[0]/word_given_tag(words[key], tag)[1]\n",
    "            state_probability = emission_p * transition_p    \n",
    "            p.append(state_probability)\n",
    "            \n",
    "        pmax = max(p)\n",
    "        # getting state for which probability is maximum\n",
    "        state_max = T[p.index(pmax)] \n",
    "        state.append(state_max)\n",
    "        \n",
    "    return list(zip(words, state))\n",
    "\n"
   ]
  },
  {
   "cell_type": "markdown",
   "metadata": {},
   "source": [
    "<font color= Brown size = 5> 1.1 Evaluating the tagging accuracy on validation set </font>"
   ]
  },
  {
   "cell_type": "code",
   "execution_count": 20,
   "metadata": {},
   "outputs": [],
   "source": [
    "# list of tagged words for the validation dataset\n",
    "validation_run_base = [tup for sent in validation_set for tup in sent]\n",
    "\n",
    "# list of untagged words\n",
    "validation_tagged_words = [tup[0] for sent in validation_set for tup in sent]"
   ]
  },
  {
   "cell_type": "code",
   "execution_count": 21,
   "metadata": {},
   "outputs": [
    {
     "name": "stdout",
     "output_type": "stream",
     "text": [
      "Length of validation tagged words:  5111\n"
     ]
    }
   ],
   "source": [
    "print(\"Length of validation tagged words: \",len(validation_tagged_words))"
   ]
  },
  {
   "cell_type": "code",
   "execution_count": 22,
   "metadata": {},
   "outputs": [
    {
     "name": "stdout",
     "output_type": "stream",
     "text": [
      "Time taken in seconds:  1129.9221768379211 \n",
      "\n",
      "First 20 Tagged Sequence:\n",
      " \n",
      " [('The', 'DET'), ('Democrat', 'NOUN'), (\"'s\", 'PRT'), ('proposal', 'NOUN'), ('is', 'VERB'), ('described', 'VERB'), ('*-1', 'X'), ('by', 'ADP'), ('government', 'NOUN'), ('sources', 'NOUN'), ('and', 'CONJ'), ('lobbyists', 'NOUN'), ('as', 'ADP'), ('significantly', 'ADV'), ('weaker', 'ADJ'), ('than', 'ADP'), ('the', 'DET'), ('president', 'NOUN'), (\"'s\", 'PRT'), ('plan', 'NOUN')]\n"
     ]
    }
   ],
   "source": [
    "# tagging the validation sentences\n",
    "start = time.time()\n",
    "tagged_seq = Viterbi(validation_tagged_words)\n",
    "end = time.time()\n",
    "difference = end-start\n",
    "print(\"Time taken in seconds: \", difference,'\\n')\n",
    "print(\"First 20 Tagged Sequence:\\n\",'\\n',tagged_seq[:20])"
   ]
  },
  {
   "cell_type": "markdown",
   "metadata": {},
   "source": [
    "#### Accuracy of validation set on vanila viterbi"
   ]
  },
  {
   "cell_type": "code",
   "execution_count": 23,
   "metadata": {
    "scrolled": true
   },
   "outputs": [
    {
     "name": "stdout",
     "output_type": "stream",
     "text": [
      "Validation set accuracy on vanila viterbi model:  0.9053022891801996\n"
     ]
    }
   ],
   "source": [
    "#Accuracy\n",
    "check = [i for i, j in zip(tagged_seq, validation_run_base) if i == j]\n",
    "accuracy = len(check)/len(tagged_seq)\n",
    "print(\"Validation set accuracy on vanila viterbi model: \",accuracy)"
   ]
  },
  {
   "cell_type": "markdown",
   "metadata": {},
   "source": [
    "<font color= Brown size = 5> 1.2  Identifying incorrect tagged cases </font>"
   ]
  },
  {
   "cell_type": "code",
   "execution_count": 24,
   "metadata": {},
   "outputs": [
    {
     "name": "stdout",
     "output_type": "stream",
     "text": [
      "Incorrect tagged cases: \n",
      " \n",
      " [[('lobbyists', 'NOUN'), (('as', 'ADP'), ('as', 'ADV'))], [('the', 'DET'), (('genie', 'PRON'), ('genie', 'NOUN'))], [('A', 'DET'), (('licensing', 'PRON'), ('licensing', 'NOUN'))], [('lawsuit', 'NOUN'), (('challenging', 'PRON'), ('challenging', 'VERB'))], [('to', 'PRT'), (('contest', 'PRON'), ('contest', 'VERB'))], [('Health', 'NOUN'), (('Review', 'PRON'), ('Review', 'NOUN'))], [('the', 'DET'), (('band-wagon', 'PRON'), ('band-wagon', 'ADJ'))], [('days', 'NOUN'), (('picks', 'PRON'), ('picks', 'VERB'))], [('picks', 'VERB'), (('up', 'ADV'), ('up', 'PRT'))], [('new', 'ADJ'), (('impetus', 'PRON'), ('impetus', 'NOUN'))], [('the', 'DET'), (('statue', 'PRON'), ('statue', 'NOUN'))], [('Thomas', 'NOUN'), (('Jefferson', 'PRON'), ('Jefferson', 'NOUN'))], [('Jefferson', 'NOUN'), (('dissolves', 'PRON'), ('dissolves', 'VERB'))], [('take', 'VERB'), (('away', 'ADV'), ('away', 'PRT'))], [('.', '.'), (('Video', 'PRON'), ('Video', 'NOUN'))], [('Video', 'NOUN'), (('Tip', 'PRON'), ('Tip', 'NOUN'))], [('his', 'PRON'), (('finest', 'PRON'), ('finest', 'ADJ'))], [('Moody', 'NOUN'), ((\"'s\", 'PRT'), (\"'s\", 'VERB'))], [('move', 'NOUN'), (('that', 'ADP'), ('that', 'DET'))], [('its', 'PRON'), (('borrowings', 'PRON'), ('borrowings', 'NOUN'))], [('and', 'CONJ'), (('signal', 'NOUN'), ('signal', 'VERB'))], [('To', 'PRT'), (('further', 'ADJ'), ('further', 'ADV'))], [('further', 'ADV'), (('load', 'NOUN'), ('load', 'VERB'))], [('Lane', 'NOUN'), (('dreamed', 'PRON'), ('dreamed', 'VERB'))], [('dreamed', 'VERB'), (('up', 'ADV'), ('up', 'PRT'))], [('highly', 'ADV'), (('improbable', 'PRON'), ('improbable', 'ADJ'))], [(\"'s\", 'PRT'), (('shop', 'PRON'), ('shop', 'NOUN'))], [('expensive', 'ADJ'), (('high-rise', 'PRON'), ('high-rise', 'ADJ'))], [('.', '.'), (('Weatherly', 'PRON'), ('Weatherly', 'NOUN'))], [('Eugene', 'NOUN'), (('Keehn', 'PRON'), ('Keehn', 'NOUN'))], [('William', 'NOUN'), (('Northy', 'PRON'), ('Northy', 'NOUN'))], [('Northy', 'NOUN'), (('Prater', 'PRON'), ('Prater', 'NOUN'))], [('of', 'ADP'), (('Mercer', 'PRON'), ('Mercer', 'NOUN'))], [(',', '.'), (('Wash.', 'PRON'), ('Wash.', 'NOUN'))], [('*-1', 'X'), (('marketing', 'NOUN'), ('marketing', 'VERB'))], [('on', 'ADP'), (('Novell', 'PRON'), ('Novell', 'NOUN'))], [(\"'s\", 'PRT'), (('NetWare', 'PRON'), ('NetWare', 'NOUN'))], [('network', 'NOUN'), (('operating', 'NOUN'), ('operating', 'VERB'))], [('*-1', 'X'), (('single-A', 'PRON'), ('single-A', 'ADJ'))], [('Campbell', 'NOUN'), (('Soups', 'PRON'), ('Soups', 'NOUN'))], [('a', 'DET'), (('run', 'VERB'), ('run', 'NOUN'))], [('*T*-2', 'X'), (('Mike', 'PRON'), ('Mike', 'NOUN'))], [('at', 'ADP'), (('DDB', 'PRON'), ('DDB', 'NOUN'))], [('not', 'ADV'), (('there', 'DET'), ('there', 'ADV'))], [('*T*-1', 'X'), (('Cedric', 'PRON'), ('Cedric', 'NOUN'))], [('Wine', 'NOUN'), (('Cellar', 'PRON'), ('Cellar', 'NOUN'))], [('drug', 'NOUN'), (('trafficking', 'PRON'), ('trafficking', 'NOUN'))], [('the', 'DET'), (('Andean', 'PRON'), ('Andean', 'ADJ'))], [('will', 'VERB'), (('rule', 'NOUN'), ('rule', 'VERB'))], [('on', 'ADP'), (('viewing', 'PRON'), ('viewing', 'VERB'))], [('especially', 'ADV'), (('absurd', 'PRON'), ('absurd', 'ADJ'))], [('to', 'PRT'), (('inform', 'PRON'), ('inform', 'VERB'))], [('of', 'ADP'), (('Marina', 'PRON'), ('Marina', 'NOUN'))], [('Marina', 'NOUN'), (('del', 'PRON'), ('del', 'DET'))], [('del', 'DET'), (('Rey', 'PRON'), ('Rey', 'NOUN'))], [('for', 'ADP'), (('alleged', 'ADJ'), ('alleged', 'VERB'))], [('of', 'ADP'), (('reporting', 'NOUN'), ('reporting', 'VERB'))], [('in', 'ADP'), (('excess', 'ADJ'), ('excess', 'NOUN'))], [('the', 'DET'), (('narcotics', 'PRON'), ('narcotics', 'NOUN'))], [(',', '.'), (('publishing', 'NOUN'), ('publishing', 'VERB'))], [('publishing', 'VERB'), (('entrepreneur', 'PRON'), ('entrepreneur', 'NOUN'))], [('entrepreneur', 'NOUN'), (('Patricia', 'PRON'), ('Patricia', 'NOUN'))], [('straight', 'ADJ'), (('scoop', 'VERB'), ('scoop', 'NOUN'))], [('bad', 'ADJ'), (('movies', 'PRON'), ('movies', 'NOUN'))], [('Gregory', 'NOUN'), (('Peck', 'PRON'), ('Peck', 'NOUN'))], [('a', 'DET'), (('marvelously', 'PRON'), ('marvelously', 'ADV'))], [('marvelously', 'ADV'), (('loose', 'PRON'), ('loose', 'ADJ'))], [('energetic', 'ADJ'), (('portrayal', 'PRON'), ('portrayal', 'NOUN'))], [('to', 'PRT'), (('rebound', 'NOUN'), ('rebound', 'VERB'))], [('``', '.'), (('temptation', 'PRON'), ('temptation', 'NOUN'))], [('for', 'ADP'), (('managements', 'PRON'), ('managements', 'NOUN'))], [('would', 'VERB'), (('slow', 'ADJ'), ('slow', 'VERB'))], [('have', 'VERB'), (('accounted', 'PRON'), ('accounted', 'VERB'))], [('for', 'ADP'), (('as', 'ADP'), ('as', 'ADV'))], [('the', 'DET'), (('sterling', 'PRON'), ('sterling', 'NOUN'))], [('health', 'NOUN'), (('care', 'VERB'), ('care', 'NOUN'))], [('care', 'NOUN'), (('providers', 'PRON'), ('providers', 'NOUN'))], [('and', 'CONJ'), (('that', 'DET'), ('that', 'ADP'))], [('of', 'ADP'), (('pregnant', 'PRON'), ('pregnant', 'ADJ'))], [('.', '.'), (('Wilbur', 'PRON'), ('Wilbur', 'NOUN'))], [('of', 'ADP'), (('Rothschild', 'PRON'), ('Rothschild', 'NOUN'))], [('might', 'VERB'), (('speed', 'NOUN'), ('speed', 'VERB'))], [('``', '.'), (('photographic', 'PRON'), ('photographic', 'ADJ'))], [('confidence', 'NOUN'), (('stayed', 'PRON'), ('stayed', 'VERB'))], [('the', 'DET'), (('unsettling', 'PRON'), ('unsettling', 'ADJ'))], [('.', '.'), (('Orders', 'PRON'), ('Orders', 'NOUN'))], [('for', 'ADP'), (('durable', 'PRON'), ('durable', 'ADJ'))], [('up', 'ADV'), (('0.2', 'PRON'), ('0.2', 'NUM'))], [('$', '.'), (('127.03', 'PRON'), ('127.03', 'NUM'))], [('month', 'NOUN'), (('before', 'ADP'), ('before', 'ADV'))], [('Mark', 'NOUN'), (('Shepperd', 'PRON'), ('Shepperd', 'NOUN'))], [('at', 'ADP'), (('UBS', 'PRON'), ('UBS', 'NOUN'))], [('&', 'CONJ'), (('Drew', 'PRON'), ('Drew', 'NOUN'))], [('fairly', 'ADV'), (('irrelevant', 'PRON'), ('irrelevant', 'ADJ'))], [('.', '.'), (('Tray', 'PRON'), ('Tray', 'NOUN'))], [('Tray', 'NOUN'), (('Bon', 'PRON'), ('Bon', 'NOUN'))], [('?', '.'), (('Midwesco', 'PRON'), ('Midwesco', 'NOUN'))], [('Midwesco', 'NOUN'), (('Filter', 'PRON'), ('Filter', 'NOUN'))], [('of', 'ADP'), (('830,000', 'PRON'), ('830,000', 'NUM'))], [('.', '.'), (('Inventories', 'PRON'), ('Inventories', 'NOUN'))], [('closely', 'ADV'), (('watched', 'PRON'), ('watched', 'VERB'))], [('of', 'ADP'), (('softening', 'NOUN'), ('softening', 'VERB'))], [('in', 'ADP'), (('working', 'ADJ'), ('working', 'VERB'))], [('company', 'NOUN'), (('plugged', 'PRON'), ('plugged', 'VERB'))], [('itself', 'PRON'), (('right', 'NOUN'), ('right', 'ADV'))], [('*', 'X'), (('rebuilding', 'PRON'), ('rebuilding', 'VERB'))], [('Reagan', 'NOUN'), ((\"'80s\", 'PRON'), (\"'80s\", 'NUM'))], [('which', 'DET'), (('*T*-141', 'PRON'), ('*T*-141', 'X'))], [('community', 'NOUN'), (('papers', 'PRON'), ('papers', 'NOUN'))], [('*', 'X'), (('SWITCHING', 'PRON'), ('SWITCHING', 'VERB'))], [('SWITCHING', 'VERB'), (('TO', 'PRON'), ('TO', 'PRT'))], [('THE', 'DET'), (('DEFENSE', 'PRON'), ('DEFENSE', 'NOUN'))], [('*', 'X'), (('Choose', 'PRON'), ('Choose', 'VERB'))], [('them', 'PRON'), (('out', 'PRT'), ('out', 'ADP'))], [('be', 'VERB'), (('deprived', 'PRON'), ('deprived', 'VERB'))], [(',', '.'), (('families', 'PRON'), ('families', 'NOUN'))], [('the', 'DET'), (('backdrop', 'PRON'), ('backdrop', 'NOUN'))], [('of', 'ADP'), (('continuous', 'PRON'), ('continuous', 'ADJ'))], [('to', 'PRT'), (('fund', 'NOUN'), ('fund', 'VERB'))], [('global', 'ADJ'), (('warming', 'PRON'), ('warming', 'NOUN'))], [('African', 'ADJ'), (('elephant', 'PRON'), ('elephant', 'NOUN'))], [('.', '.'), (('Glaxo', 'PRON'), ('Glaxo', 'NOUN'))], [('#', '.'), (('14.13', 'PRON'), ('14.13', 'NUM'))], [('best', 'ADJ'), (('known', 'ADJ'), ('known', 'VERB'))], [('the', 'DET'), (('creator', 'PRON'), ('creator', 'NOUN'))], [('team', 'NOUN'), (('car-development', 'PRON'), ('car-development', 'NOUN'))], [('car-development', 'NOUN'), (('approach', 'VERB'), ('approach', 'NOUN'))], [('approach', 'NOUN'), (('that', 'ADP'), ('that', 'DET'))], [('two', 'NUM'), (('midsized', 'ADJ'), ('midsized', 'VERB'))], [('cars', 'NOUN'), (('that', 'ADP'), ('that', 'DET'))], [('maker', 'NOUN'), (('record', 'NOUN'), ('record', 'VERB'))], [('to', 'PRT'), (('eclipse', 'PRON'), ('eclipse', 'VERB'))], [('the', 'DET'), (('top-selling', 'PRON'), ('top-selling', 'ADJ'))], [('top-selling', 'ADJ'), (('nameplate', 'PRON'), ('nameplate', 'NOUN'))], [('yielding', 'VERB'), (('9.32', 'PRON'), ('9.32', 'NUM'))], [('a', 'DET'), (('12-year', 'PRON'), ('12-year', 'ADJ'))], [('12-year', 'ADJ'), (('average', 'ADJ'), ('average', 'NOUN'))], [('of', 'ADP'), (('school-sponsored', 'PRON'), ('school-sponsored', 'ADJ'))], [('Ms.', 'NOUN'), (('Ensrud', 'PRON'), ('Ensrud', 'NOUN'))], [('a', 'DET'), (('free-lance', 'PRON'), ('free-lance', 'ADJ'))], [('an', 'DET'), (('all-cash', 'PRON'), ('all-cash', 'ADJ'))], [('The', 'DET'), (('school-board', 'PRON'), ('school-board', 'NOUN'))], [('was', 'VERB'), (('crowded', 'PRON'), ('crowded', 'VERB'))], [('who', 'PRON'), (('*T*-98', 'PRON'), ('*T*-98', 'X'))], [('to', 'PRT'), (('testify', 'PRON'), ('testify', 'VERB'))], [('the', 'DET'), (('most', 'ADJ'), ('most', 'ADV'))], [(':', '.'), (('day-care', 'PRON'), ('day-care', 'ADJ'))], [('day-care', 'ADJ'), (('centers', 'VERB'), ('centers', 'NOUN'))], [('centers', 'NOUN'), (('that', 'ADP'), ('that', 'DET'))], [('previously', 'ADV'), (('spurned', 'PRON'), ('spurned', 'VERB'))], [('People', 'NOUN'), (('close', 'VERB'), ('close', 'ADJ'))], [('to', 'PRT'), (('guarantee', 'NOUN'), ('guarantee', 'VERB'))], [('estimated', 'VERB'), (('seven-million-ton', 'PRON'), ('seven-million-ton', 'ADJ'))], [('seven-million-ton', 'ADJ'), (('cut', 'VERB'), ('cut', 'NOUN'))], [('emissions', 'NOUN'), (('that', 'ADP'), ('that', 'DET'))], [('to', 'PRT'), (('acid', 'ADJ'), ('acid', 'NOUN'))], [('the', 'DET'), (('shipboard', 'PRON'), ('shipboard', 'NOUN'))], [('meetings', 'NOUN'), (('next', 'ADP'), ('next', 'ADJ'))], [('and', 'CONJ'), (('Soviet', 'ADJ'), ('Soviet', 'NOUN'))], [('waters', 'NOUN'), (('off', 'PRT'), ('off', 'ADP'))], [('off', 'ADP'), (('Malta', 'PRON'), ('Malta', 'NOUN'))], [('.', '.'), (('Common', 'NOUN'), ('Common', 'ADJ'))], [('Van', 'NOUN'), (('Nuys', 'PRON'), ('Nuys', 'NOUN'))], [('$', '.'), (('132,000', 'PRON'), ('132,000', 'NUM'))], [('*-2', 'X'), (('bombarding', 'PRON'), ('bombarding', 'VERB'))], [('with', 'ADP'), (('neutrons', 'PRON'), ('neutrons', 'NOUN'))], [('process', 'NOUN'), (('that', 'ADP'), ('that', 'DET'))], [('some', 'DET'), (('radioactivity', 'PRON'), ('radioactivity', 'NOUN'))], [('for', 'ADP'), (('large-scale', 'PRON'), ('large-scale', 'ADJ'))], [('A', 'DET'), (('stockbroker', 'PRON'), ('stockbroker', 'NOUN'))], [('a', 'DET'), (('profession', 'PRON'), ('profession', 'NOUN'))], [('considerable', 'ADJ'), (('skill', 'PRON'), ('skill', 'NOUN'))], [('leading', 'VERB'), (('proponent', 'PRON'), ('proponent', 'NOUN'))], [('``', '.'), (('peaceful', 'PRON'), ('peaceful', 'ADJ'))], [('a', 'DET'), (('catch', 'VERB'), ('catch', 'NOUN'))], [('of', 'ADP'), (('Western', 'NOUN'), ('Western', 'ADJ'))], [('to', 'PRT'), (('seduce', 'PRON'), ('seduce', 'VERB'))], [('seduce', 'VERB'), (('socialist', 'PRON'), ('socialist', 'ADJ'))], [('the', 'DET'), (('capitalist', 'PRON'), ('capitalist', 'ADJ'))], [('record', 'NOUN'), (('corn-buying', 'PRON'), ('corn-buying', 'ADJ'))], [('corn-buying', 'ADJ'), (('binge', 'PRON'), ('binge', 'NOUN'))], [('the', 'DET'), (('Soviet', 'ADJ'), ('Soviet', 'NOUN'))], [('serious', 'ADJ'), (('bottlenecks', 'PRON'), ('bottlenecks', 'NOUN'))], [('grain', 'NOUN'), (('pipeline', 'PRON'), ('pipeline', 'NOUN'))], [('at', 'ADP'), (('60.36', 'PRON'), ('60.36', 'NUM'))], [('current', 'ADJ'), (('duo', 'PRON'), ('duo', 'NOUN'))], [('the', 'DET'), (('past', 'ADJ'), ('past', 'NOUN'))], [('he', 'PRON'), (('blames', 'PRON'), ('blames', 'VERB'))], [('can', 'VERB'), (('steal', 'PRON'), ('steal', 'VERB'))], [('with', 'ADP'), (('Premier', 'PRON'), ('Premier', 'NOUN'))], [('Li', 'NOUN'), (('Peng', 'PRON'), ('Peng', 'NOUN'))], [('he', 'PRON'), (('hoped', 'PRON'), ('hoped', 'VERB'))], [(\"n't\", 'ADV'), (('encounter', 'PRON'), ('encounter', 'VERB'))], [('machine', 'NOUN'), (('guns', 'PRON'), ('guns', 'NOUN'))], [('Treasury', 'NOUN'), (('estimates', 'NOUN'), ('estimates', 'VERB'))], [('it', 'PRON'), (('decides', 'PRON'), ('decides', 'VERB'))], [('to', 'PRT'), (('aim', 'NOUN'), ('aim', 'VERB'))], [('he', 'PRON'), (('doubts', 'PRON'), ('doubts', 'VERB'))], [('been', 'VERB'), (('disruptive', 'PRON'), ('disruptive', 'ADJ'))], [('to', 'PRT'), (('offer', 'NOUN'), ('offer', 'VERB'))], [('a', 'DET'), (('cost-sharing', 'NOUN'), ('cost-sharing', 'ADJ'))], [('mechanism', 'NOUN'), (('that', 'ADP'), ('that', 'DET'))], [('*-3', 'X'), (('subsidize', 'PRON'), ('subsidize', 'VERB'))], [('the', 'DET'), (('clean-up', 'PRON'), ('clean-up', 'ADJ'))], [('clean-up', 'ADJ'), (('costs', 'VERB'), ('costs', 'NOUN'))], [('dirtiest', 'ADJ'), (('coal-fired', 'PRON'), ('coal-fired', 'ADJ'))], [('*-3', 'X'), (('sparing', 'PRON'), ('sparing', 'VERB'))], [('from', 'ADP'), (('exorbitant', 'PRON'), ('exorbitant', 'ADJ'))], [('exorbitant', 'ADJ'), (('jumps', 'PRON'), ('jumps', 'NOUN'))], [('The', 'DET'), (('downgrading', 'PRON'), ('downgrading', 'NOUN'))], [('sent', 'VERB'), (('shivers', 'PRON'), ('shivers', 'NOUN'))], [('won', 'VERB'), (('grant', 'VERB'), ('grant', 'NOUN'))], [('advised', 'VERB'), (('cheerleaders', 'PRON'), ('cheerleaders', 'NOUN'))], [('the', 'DET'), (('pep', 'PRON'), ('pep', 'NOUN'))], [('``', '.'), (('Cultural', 'PRON'), ('Cultural', 'ADJ'))], [('Cultural', 'ADJ'), (('Literacy', 'PRON'), ('Literacy', 'NOUN'))], [('in', 'ADP'), (('Western', 'NOUN'), ('Western', 'ADJ'))], [('school', 'NOUN'), (('PTA', 'PRON'), ('PTA', 'NOUN'))], [('``', '.'), (('Teacher', 'PRON'), ('Teacher', 'NOUN'))], [('investors', 'NOUN'), (('acquires', 'PRON'), ('acquires', 'VERB'))], [('the', 'DET'), (('expectation', 'PRON'), ('expectation', 'NOUN'))], [('funds', 'NOUN'), (('generated', 'PRON'), ('generated', 'VERB'))], [('failed', 'VERB'), (('labor-management', 'NOUN'), ('labor-management', 'ADJ'))], [('for', 'ADP'), (('alleged', 'ADJ'), ('alleged', 'VERB'))], [('alleged', 'VERB'), (('workplace', 'PRON'), ('workplace', 'NOUN'))], [('Artist', 'NOUN'), (('hangs', 'PRON'), ('hangs', 'VERB'))], [('in', 'ADP'), (('Greenwich', 'PRON'), ('Greenwich', 'NOUN'))], [('Greenwich', 'NOUN'), (('Village', 'PRON'), ('Village', 'NOUN'))], [('a', 'DET'), (('strip', 'VERB'), ('strip', 'NOUN'))], [('of', 'ADP'), (('Sixth', 'PRON'), ('Sixth', 'NOUN'))], [('Avenue', 'NOUN'), (('populated', 'PRON'), ('populated', 'VERB'))], [('by', 'ADP'), (('jugglers', 'PRON'), ('jugglers', 'NOUN'))], [(',', '.'), (('magicians', 'PRON'), ('magicians', 'NOUN'))], [('other', 'ADJ'), (('good-natured', 'PRON'), ('good-natured', 'ADJ'))], [('good-natured', 'ADJ'), (('hustlers', 'PRON'), ('hustlers', 'NOUN'))], [('``', '.'), (('Whether', 'PRON'), ('Whether', 'ADP'))], [('Manufacturers', 'NOUN'), (('Hanover', 'PRON'), ('Hanover', 'NOUN'))], [('was', 'VERB'), (('47.1', 'PRON'), ('47.1', 'NUM'))], [('radio', 'NOUN'), (('show', 'VERB'), ('show', 'NOUN'))], [('``', '.'), (('enraged', 'PRON'), ('enraged', 'VERB'))], [('the', 'DET'), (('Little', 'ADJ'), ('Little', 'NOUN'))], [('Her', 'PRON'), (('immediate', 'PRON'), ('immediate', 'ADJ'))], [('nervous', 'ADJ'), (('breakdown', 'PRON'), ('breakdown', 'NOUN'))], [('*', 'X'), (('guarding', 'PRON'), ('guarding', 'VERB'))], [('contradict', 'VERB'), (('that', 'ADP'), ('that', 'DET'))], [('-LRB-', '.'), (('technically', 'PRON'), ('technically', 'ADV'))], [('a', 'DET'), (('limitation', 'PRON'), ('limitation', 'NOUN'))], [('short', 'ADJ'), (('leash', 'PRON'), ('leash', 'NOUN'))], [('the', 'DET'), (('executive', 'ADJ'), ('executive', 'NOUN'))], [('vehicles', 'NOUN'), (('classed', 'PRON'), ('classed', 'VERB'))], [('carry', 'VERB'), (('more', 'ADV'), ('more', 'ADJ'))], [('and', 'CONJ'), (('therefore', 'PRON'), ('therefore', 'ADV'))], [('movie', 'NOUN'), (('ends', 'NOUN'), ('ends', 'VERB'))], [('anything', 'NOUN'), (('whimsical', 'PRON'), ('whimsical', 'ADJ'))], [('or', 'CONJ'), (('enviable', 'PRON'), ('enviable', 'ADJ'))], [(',', '.'), (('beaten', 'VERB'), ('beaten', 'ADJ'))], [('*ICH*-1', 'X'), (('Gayle', 'PRON'), ('Gayle', 'NOUN'))], [('incentive', 'NOUN'), (('pay', 'VERB'), ('pay', 'NOUN'))], [('opened', 'VERB'), (('up', 'ADV'), ('up', 'PRT'))], [('a', 'DET'), (('can', 'VERB'), ('can', 'NOUN'))], [('of', 'ADP'), (('worms', 'PRON'), ('worms', 'NOUN'))], [('``', '.'), (('Varying', 'PRON'), ('Varying', 'ADJ'))], [('and', 'CONJ'), (('life-style', 'PRON'), ('life-style', 'NOUN'))], [('numerous', 'ADJ'), (('sub-markets', 'PRON'), ('sub-markets', 'NOUN'))], [('will', 'VERB'), (('slow', 'ADJ'), ('slow', 'VERB'))], [('have', 'VERB'), (('more', 'ADV'), ('more', 'ADJ'))], [('as', 'ADP'), (('athletic', 'PRON'), ('athletic', 'ADJ'))], [('*-2', 'X'), (('to', 'PRT'), ('to', 'ADJ'))], [('to', 'ADJ'), (('appeal', 'VERB'), ('appeal', 'NOUN'))], [(',', '.'), (('immediate', 'PRON'), ('immediate', 'ADJ'))], [('is', 'VERB'), (('imperative', 'PRON'), ('imperative', 'ADJ'))], [('publishes', 'VERB'), (('The', 'DET'), ('The', 'NOUN'))], [(',', '.'), (('Barron', 'PRON'), ('Barron', 'NOUN'))], [('Barron', 'NOUN'), ((\"'s\", 'VERB'), (\"'s\", 'PRT'))], [('10', 'NUM'), (('citizen-sparked', 'PRON'), ('citizen-sparked', 'ADJ'))], [('state', 'NOUN'), (('ballots', 'PRON'), ('ballots', 'NOUN'))], [('any', 'DET'), (('odd-year', 'PRON'), ('odd-year', 'ADJ'))], [('*U*', 'X'), (('charge', 'VERB'), ('charge', 'NOUN'))], [('$', '.'), (('12.09', 'PRON'), ('12.09', 'NUM'))], [('sales', 'NOUN'), (('materialize', 'PRON'), ('materialize', 'VERB'))], [('$', '.'), (('36', 'PRON'), ('36', 'NUM'))], [('the', 'DET'), (('vacancy', 'PRON'), ('vacancy', 'NOUN'))], [('a', 'DET'), (('rash', 'PRON'), ('rash', 'NOUN'))], [('portfolios', 'NOUN'), (('that', 'ADP'), ('that', 'DET'))], [('to', 'PRT'), (('computerize', 'PRON'), ('computerize', 'VERB'))], [('market', 'NOUN'), (('niches', 'PRON'), ('niches', 'NOUN'))], [('niches', 'NOUN'), (('that', 'ADP'), ('that', 'DET'))], [('that', 'DET'), (('*T*-199', 'PRON'), ('*T*-199', 'X'))], [('the', 'DET'), (('third-largest', 'PRON'), ('third-largest', 'ADJ'))], [('the', 'DET'), (('fifth-largest', 'PRON'), ('fifth-largest', 'ADJ'))], [('.', '.'), (('Domestic', 'PRON'), ('Domestic', 'ADJ'))], [('and', 'CONJ'), (('bulldozers', 'PRON'), ('bulldozers', 'NOUN'))], [('to', 'PRT'), (('142.84', 'PRON'), ('142.84', 'NUM'))], [('from', 'ADP'), (('126.15', 'PRON'), ('126.15', 'NUM'))], [('*-1', 'X'), (('attending', 'PRON'), ('attending', 'VERB'))], [('students', 'NOUN'), (('adequately', 'PRON'), ('adequately', 'ADV'))], [('.', '.'), (('Fundamentalists', 'PRON'), ('Fundamentalists', 'NOUN'))], [('an', 'DET'), (('eight-count', 'PRON'), ('eight-count', 'ADJ'))], [('eight-count', 'ADJ'), (('indictment', 'PRON'), ('indictment', 'NOUN'))], [('its', 'PRON'), (('Vice', 'PRON'), ('Vice', 'NOUN'))], [('T.', 'NOUN'), (('Sherwin', 'PRON'), ('Sherwin', 'NOUN'))], [('to', 'PRT'), (('manipulate', 'PRON'), ('manipulate', 'VERB'))], [('Union', 'NOUN'), (('Carbide', 'PRON'), ('Carbide', 'NOUN'))], [(\"'s\", 'PRT'), (('planned', 'VERB'), ('planned', 'ADJ'))], [('the', 'DET'), (('harassment', 'PRON'), ('harassment', 'NOUN'))], [('harassment', 'NOUN'), (('consists', 'PRON'), ('consists', 'VERB'))], [(\"'s\", 'PRT'), (('year-long', 'PRON'), ('year-long', 'ADJ'))], [('$', '.'), (('472', 'PRON'), ('472', 'NUM'))], [('respected', 'VERB'), (('nameplate', 'PRON'), ('nameplate', 'NOUN'))], [('among', 'ADP'), (('American', 'ADJ'), ('American', 'NOUN'))], [('an', 'DET'), (('American', 'ADJ'), ('American', 'NOUN'))], [('company', 'NOUN'), (('distributed', 'PRON'), ('distributed', 'VERB'))], [(\"'s\", 'PRT'), (('unitholders', 'PRON'), ('unitholders', 'NOUN'))], [('expanded', 'VERB'), (('trade', 'VERB'), ('trade', 'NOUN'))], [('the', 'DET'), (('Overseas', 'PRON'), ('Overseas', 'NOUN'))], [('Overseas', 'NOUN'), (('Private', 'ADJ'), ('Private', 'NOUN'))], [('way', 'NOUN'), (('sanctions', 'NOUN'), ('sanctions', 'VERB'))], [('the', 'DET'), (('dismal', 'PRON'), ('dismal', 'ADJ'))], [('some', 'DET'), (('light', 'ADJ'), ('light', 'NOUN'))], [('the', 'DET'), (('dark', 'PRON'), ('dark', 'ADJ'))], [('where', 'ADV'), (('high-stakes', 'PRON'), ('high-stakes', 'ADJ'))], [('has', 'VERB'), (('enhanced', 'PRON'), ('enhanced', 'VERB'))], [('the', 'DET'), (('temptation', 'PRON'), ('temptation', 'NOUN'))], [('to', 'PRT'), (('cheat', 'PRON'), ('cheat', 'VERB'))], [('.', '.'), (('Separately', 'ADV'), ('Separately', 'NOUN'))], [('market', 'NOUN'), (('emergencies', 'PRON'), ('emergencies', 'NOUN'))], [(\"n't\", 'ADV'), (('hospitable', 'PRON'), ('hospitable', 'ADJ'))], [('``', '.'), (('Survey', 'PRON'), ('Survey', 'NOUN'))], [('$', '.'), (('214', 'PRON'), ('214', 'NUM'))], [('%', 'NOUN'), (('rise', 'VERB'), ('rise', 'NOUN'))], [(',', '.'), (('reports', 'NOUN'), ('reports', 'VERB'))], [('Washington', 'NOUN'), (('Post', 'PRON'), ('Post', 'NOUN'))], [('due', 'ADJ'), (('1995', 'PRON'), ('1995', 'NUM'))], [('fell', 'VERB'), (('9\\\\/32', 'PRON'), ('9\\\\/32', 'NUM'))], [('to', 'PRT'), (('103', 'PRON'), ('103', 'NUM'))], [('yield', 'VERB'), (('11.10', 'PRON'), ('11.10', 'NUM'))], [('The', 'DET'), (('sad', 'PRON'), ('sad', 'ADJ'))], [('stellar', 'ADJ'), (('performers', 'PRON'), ('performers', 'NOUN'))], [('performers', 'NOUN'), (('first', 'ADJ'), ('first', 'ADV'))], [('to', 'PRT'), (('grapple', 'PRON'), ('grapple', 'VERB'))], [('ended', 'VERB'), (('Sept.30', 'PRON'), ('Sept.30', 'NUM'))], [('earned', 'VERB'), (('16.68', 'PRON'), ('16.68', 'NUM'))], [('US$', '.'), (('116.7', 'PRON'), ('116.7', 'NUM'))], [('from', 'ADP'), (('12.68', 'PRON'), ('12.68', 'NUM'))], [('.', '.'), (('Fourteen', 'PRON'), ('Fourteen', 'NUM'))], [('with', 'ADP'), (('jurisdiction', 'PRON'), ('jurisdiction', 'NOUN'))], [('the', 'DET'), (('EEOC', 'PRON'), ('EEOC', 'NOUN'))], [('his', 'PRON'), (('judgment', 'PRON'), ('judgment', 'NOUN'))], [('a', 'DET'), (('stable', 'ADJ'), ('stable', 'NOUN'))], [('-LRB-', '.'), (('Lafite-Rothschild', 'PRON'), ('Lafite-Rothschild', 'NOUN'))], [(',', '.'), (('Haut-Brion', 'PRON'), ('Haut-Brion', 'NOUN'))], [(',', '.'), (('Grand', 'PRON'), ('Grand', 'NOUN'))], [('Grand', 'NOUN'), (('Cru', 'PRON'), ('Cru', 'NOUN'))], [('-RRB-', '.'), (('deluxe', 'PRON'), ('deluxe', 'ADJ'))], [('deluxe', 'ADJ'), (('Champagnes', 'PRON'), ('Champagnes', 'NOUN'))], [('-LRB-', '.'), (('Dom', 'PRON'), ('Dom', 'NOUN'))], [('Dom', 'NOUN'), (('Perignon', 'PRON'), ('Perignon', 'NOUN'))], [(',', '.'), (('rarefied', 'PRON'), ('rarefied', 'VERB'))], [('or', 'CONJ'), (('Trockenbeerenauslesen', 'PRON'), ('Trockenbeerenauslesen', 'NOUN'))], [('Trockenbeerenauslesen', 'NOUN'), (('Rieslings', 'PRON'), ('Rieslings', 'NOUN'))], [('Brunello', 'NOUN'), (('Riserva', 'PRON'), ('Riserva', 'NOUN'))], [('to', 'PRT'), (('duck', 'PRON'), ('duck', 'VERB'))], [(\"n't\", 'ADV'), (('identify', 'PRON'), ('identify', 'VERB'))], [('which', 'DET'), (('identical', 'PRON'), ('identical', 'ADJ'))], [('no', 'DET'), (('smiles', 'PRON'), ('smiles', 'NOUN'))], [(',', '.'), (('Mont', 'PRON'), ('Mont', 'NOUN'))], [('Bush', 'NOUN'), (('loses', 'PRON'), ('loses', 'VERB'))], [('as', 'ADP'), (('Morrison', 'PRON'), ('Morrison', 'NOUN'))], [('v.', 'CONJ'), (('Olson', 'PRON'), ('Olson', 'NOUN'))], [('to', 'PRT'), (('sacrifice', 'PRON'), ('sacrifice', 'VERB'))], [('we', 'PRON'), (('evaluated', 'PRON'), ('evaluated', 'VERB'))], [('way', 'NOUN'), (('out', 'PRT'), ('out', 'ADP'))], [('the', 'DET'), (('roof', 'PRON'), ('roof', 'NOUN'))], [('be', 'VERB'), (('depressed', 'PRON'), ('depressed', 'VERB'))], [('depressed', 'VERB'), (('*-92', 'PRON'), ('*-92', 'X'))], [('*-92', 'X'), (('more', 'ADJ'), ('more', 'ADV'))], [('five', 'NUM'), (('inches', 'PRON'), ('inches', 'NOUN'))], [('$', '.'), (('184', 'PRON'), ('184', 'NUM'))], [('for', 'ADP'), (('*-30', 'PRON'), ('*-30', 'X'))], [('most', 'ADJ'), (('alcoholics', 'PRON'), ('alcoholics', 'NOUN'))], [('a', 'DET'), (('holding', 'NOUN'), ('holding', 'VERB'))], [('to', 'PRT'), (('craft', 'PRON'), ('craft', 'VERB'))], [('insist', 'VERB'), (('on', 'ADP'), ('on', 'PRT'))], [('*-5', 'X'), (('jumping', 'PRON'), ('jumping', 'VERB'))], [('jumping', 'VERB'), (('in', 'ADP'), ('in', 'ADV'))], [('only', 'ADJ'), (('advice', 'PRON'), ('advice', 'NOUN'))], [('party', 'NOUN'), (('late', 'ADJ'), ('late', 'ADV'))], [('be', 'VERB'), (('ready', 'PRON'), ('ready', 'ADJ'))], [('the', 'DET'), (('audit', 'VERB'), ('audit', 'NOUN'))], [(\"'s\", 'PRT'), (('stand', 'VERB'), ('stand', 'NOUN'))], [('an', 'DET'), (('obsession', 'PRON'), ('obsession', 'NOUN'))], [('Stephanie', 'NOUN'), (('Pattenden', 'PRON'), ('Pattenden', 'NOUN'))], [('best', 'ADJ'), (('female', 'ADJ'), ('female', 'NOUN'))], [('third-quarter', 'NOUN'), (('net', 'NOUN'), ('net', 'ADJ'))], [(',', '.'), (('versus', 'PRON'), ('versus', 'CONJ'))], [('$', '.'), (('5.3', 'PRON'), ('5.3', 'NUM'))], [('$', '.'), (('1.61', 'PRON'), ('1.61', 'NUM'))], [('year', 'NOUN'), (('earlier', 'ADV'), ('earlier', 'ADJ'))], [('Richard', 'NOUN'), (('Breeden', 'PRON'), ('Breeden', 'NOUN'))], [('circuit', 'NOUN'), (('breakers', 'PRON'), ('breakers', 'NOUN'))], [('breakers', 'NOUN'), (('that', 'ADP'), ('that', 'DET'))], [('that', 'DET'), (('*T*-215', 'PRON'), ('*T*-215', 'X'))], [('peaks', 'NOUN'), (('earlier', 'ADV'), ('earlier', 'ADJ'))], [('government', 'NOUN'), (('curtailed', 'PRON'), ('curtailed', 'VERB'))], [('with', 'ADP'), (('land-idling', 'PRON'), ('land-idling', 'ADJ'))], [('reduce', 'VERB'), (('price-depressing', 'PRON'), ('price-depressing', 'ADJ'))], [('price-depressing', 'ADJ'), (('surpluses', 'PRON'), ('surpluses', 'NOUN'))], [('the', 'DET'), (('desire', 'PRON'), ('desire', 'NOUN'))], [('driving', 'VERB'), (('force', 'VERB'), ('force', 'NOUN'))], [('is', 'VERB'), (('sufficient', 'PRON'), ('sufficient', 'ADJ'))], [('plunged', 'VERB'), (('about', 'ADP'), ('about', 'ADV'))], [('A.', 'NOUN'), (('DiLoreto', 'PRON'), ('DiLoreto', 'NOUN'))], [('metal', 'NOUN'), (('container', 'PRON'), ('container', 'NOUN'))], [('succeeding', 'VERB'), (('Delmont', 'PRON'), ('Delmont', 'NOUN'))], [('chief', 'NOUN'), (('operating', 'NOUN'), ('operating', 'VERB'))], [('were', 'VERB'), (('tidily', 'PRON'), ('tidily', 'ADV'))], [(',', '.'), (('847', 'PRON'), ('847', 'NUM'))], [('to', 'PRT'), (('644', 'PRON'), ('644', 'NUM'))], [('a', 'DET'), (('leading', 'VERB'), ('leading', 'ADJ'))], [('are', 'VERB'), (('no', 'DET'), ('no', 'ADV'))], [('longer', 'ADJ'), (('subject', 'NOUN'), ('subject', 'ADJ'))], [('and', 'CONJ'), (('vicissitudes', 'PRON'), ('vicissitudes', 'NOUN'))], [('major', 'ADJ'), (('plus', 'CONJ'), ('plus', 'NOUN'))], [('our', 'PRON'), (('view', 'VERB'), ('view', 'NOUN'))], [('a', 'DET'), (('whirling', 'PRON'), ('whirling', 'ADJ'))], [('whirling', 'ADJ'), (('rampage', 'PRON'), ('rampage', 'NOUN'))], [('through', 'ADP'), (('supermarket', 'PRON'), ('supermarket', 'NOUN'))], [('supermarket', 'NOUN'), (('aisles', 'PRON'), ('aisles', 'NOUN'))], [('to', 'PRT'), (('identify', 'PRON'), ('identify', 'VERB'))], [('good', 'ADJ'), (('guys', 'PRON'), ('guys', 'NOUN'))], [('``', '.'), (('Little', 'NOUN'), ('Little', 'ADV'))], [('by', 'ADP'), (('little', 'ADJ'), ('little', 'ADV'))], [('on', 'ADP'), (('Judicial', 'PRON'), ('Judicial', 'NOUN'))], [('Judicial', 'NOUN'), (('Conduct', 'PRON'), ('Conduct', 'NOUN'))], [('which', 'DET'), (('*T*-138', 'PRON'), ('*T*-138', 'X'))], [('is', 'VERB'), (('empowered', 'PRON'), ('empowered', 'VERB'))], [('-LRB-', '.'), (('Topix', 'PRON'), ('Topix', 'NOUN'))], [('gained', 'VERB'), (('16.05', 'PRON'), ('16.05', 'NUM'))], [('down', 'ADV'), (('1.46', 'PRON'), ('1.46', 'NUM'))], [('or', 'CONJ'), (('0.05', 'PRON'), ('0.05', 'NUM'))], [('at', 'ADP'), (('2691.19', 'PRON'), ('2691.19', 'NUM'))], [('seeking', 'VERB'), (('comment', 'VERB'), ('comment', 'NOUN'))], [('an', 'DET'), (('editing', 'PRON'), ('editing', 'NOUN'))], [('editing', 'NOUN'), (('error', 'PRON'), ('error', 'NOUN'))], [('H.', 'NOUN'), (('Hallett', 'PRON'), ('Hallett', 'NOUN'))], [('Hallett', 'NOUN'), (('mistakenly', 'PRON'), ('mistakenly', 'ADV'))], [('the', 'DET'), (('NRDC', 'PRON'), ('NRDC', 'NOUN'))], [('on', 'ADP'), (('66.5', 'PRON'), ('66.5', 'NUM'))], [('By', 'ADP'), (('1997', 'PRON'), ('1997', 'NUM'))], [('remaining', 'VERB'), (('uses', 'VERB'), ('uses', 'NOUN'))], [('of', 'ADP'), (('cancer-causing', 'PRON'), ('cancer-causing', 'ADJ'))], [('be', 'VERB'), (('outlawed', 'PRON'), ('outlawed', 'VERB'))], [('always', 'ADV'), (('tanked', 'PRON'), ('tanked', 'VERB'))], [('partly', 'ADV'), (('one', 'NUM'), ('one', 'NOUN'))], [('personal', 'ADJ'), (('downfall', 'PRON'), ('downfall', 'NOUN'))], [('then', 'ADV'), (('overseas', 'ADJ'), ('overseas', 'ADV'))], [('$', '.'), (('27.1', 'PRON'), ('27.1', 'NUM'))], [('bill', 'NOUN'), (('that', 'ADP'), ('that', 'DET'))], [(\"'s\", 'PRT'), (('95', 'PRON'), ('95', 'NUM'))], [('about', 'ADP'), (('24,000', 'PRON'), ('24,000', 'NUM'))], [('its', 'PRON'), (('offer', 'VERB'), ('offer', 'NOUN'))], [('The', 'DET'), (('assistant', 'NOUN'), ('assistant', 'ADJ'))], [(\"'s\", 'PRT'), (('beleaguered', 'PRON'), ('beleaguered', 'VERB'))], [('joining', 'VERB'), (('forces', 'VERB'), ('forces', 'NOUN'))], [('*', 'X'), (('boosting', 'PRON'), ('boosting', 'VERB'))], [('the', 'DET'), (('American', 'ADJ'), ('American', 'NOUN'))], [('``', '.'), (('derivatives', 'PRON'), ('derivatives', 'NOUN'))], [('times', 'NOUN'), (('as', 'ADP'), ('as', 'ADV'))], [('the', 'DET'), (('underlying', 'ADJ'), ('underlying', 'VERB'))], [('loaded', 'VERB'), (('south', 'PRON'), ('south', 'ADV'))], [('*T*-1', 'X'), (('feeds', 'PRON'), ('feeds', 'VERB'))], [('the', 'DET'), (('1980s', 'NOUN'), ('1980s', 'NUM'))], [('the', 'DET'), (('more', 'ADJ'), ('more', 'ADV'))], [('the', 'DET'), (('1990s', 'NOUN'), ('1990s', 'NUM'))], [(',', '.'), (('proprietor', 'PRON'), ('proprietor', 'NOUN'))], [('Wine', 'NOUN'), (('Cellars', 'PRON'), ('Cellars', 'NOUN'))], [('in', 'ADP'), (('Napa', 'PRON'), ('Napa', 'NOUN'))], [('price', 'NOUN'), (('tag', 'PRON'), ('tag', 'NOUN'))], [(',', '.'), (('traced', 'PRON'), ('traced', 'VERB'))], [('another', 'DET'), (('wave', 'PRON'), ('wave', 'NOUN'))], [('.', '.'), (('Advancing', 'PRON'), ('Advancing', 'VERB'))], [('led', 'VERB'), (('decliners', 'PRON'), ('decliners', 'NOUN'))], [('by', 'ADP'), (('847', 'PRON'), ('847', 'NUM'))], [('to', 'PRT'), (('644', 'PRON'), ('644', 'NUM'))]]\n"
     ]
    }
   ],
   "source": [
    "incorrect_tagged_cases = [[validation_run_base[i-1],j] for i, j in enumerate(zip(tagged_seq, validation_run_base)) if j[0]!=j[1]]\n",
    "print(\"Incorrect tagged cases: \\n\",'\\n',incorrect_tagged_cases)"
   ]
  },
  {
   "cell_type": "code",
   "execution_count": 25,
   "metadata": {},
   "outputs": [
    {
     "name": "stdout",
     "output_type": "stream",
     "text": [
      "length of incorrect tagged words using vanila viterbi:  484\n"
     ]
    }
   ],
   "source": [
    "print(\"length of incorrect tagged words using vanila viterbi: \",len(incorrect_tagged_cases))"
   ]
  },
  {
   "cell_type": "markdown",
   "metadata": {},
   "source": [
    "<font color= Brown size = 5>  1.3 Identifying unknown words in validation set </font>"
   ]
  },
  {
   "cell_type": "code",
   "execution_count": 26,
   "metadata": {},
   "outputs": [
    {
     "name": "stdout",
     "output_type": "stream",
     "text": [
      "Length of vocabulary for train set:  12064\n"
     ]
    }
   ],
   "source": [
    "# Check if validation data set has unknown words\n",
    "words_train_set = [pair[0] for pair in train_tagged_words]\n",
    "# Vocablary of training dataset\n",
    "vocab_train_set = set(words_train_set)\n",
    "print(\"Length of vocabulary for train set: \",len(vocab_train_set))"
   ]
  },
  {
   "cell_type": "code",
   "execution_count": 27,
   "metadata": {},
   "outputs": [
    {
     "name": "stdout",
     "output_type": "stream",
     "text": [
      "Length of vocabulary for validation set:  1951\n"
     ]
    }
   ],
   "source": [
    "words_validation_set = [pair[0] for pair in validation_tagged_words1]\n",
    "# vocablary of validation dataset\n",
    "vocab_validation_set = set(words_validation_set)\n",
    "print(\"Length of vocabulary for validation set: \",len(vocab_validation_set))"
   ]
  },
  {
   "cell_type": "code",
   "execution_count": 28,
   "metadata": {},
   "outputs": [
    {
     "name": "stdout",
     "output_type": "stream",
     "text": [
      "Length of unknown words in validation set:  344\n"
     ]
    }
   ],
   "source": [
    "unknown_words = np.setdiff1d(words_validation_set,words_train_set)\n",
    "print(\"Length of unknown words in validation set: \",len(unknown_words))"
   ]
  },
  {
   "cell_type": "markdown",
   "metadata": {},
   "source": [
    "<font color= Blue size = 5> Inference:</font>\n",
    "    - Computed accuracy on vanila viterbi model is: 90.53\n",
    "    - There are 484 incorrect tagged words and 344 unknown words."
   ]
  },
  {
   "cell_type": "markdown",
   "metadata": {},
   "source": [
    "<font color= Brown size = 5> 1.4  Evaluating tagging accuracy on test set </font>"
   ]
  },
  {
   "cell_type": "code",
   "execution_count": 29,
   "metadata": {},
   "outputs": [
    {
     "name": "stdout",
     "output_type": "stream",
     "text": [
      "Time taken in seconds:  36.77663040161133\n",
      "First 20 Tagged Sequence:\n",
      " \n",
      " [('The', 'DET'), ('Democrat', 'NOUN'), (\"'s\", 'PRT'), ('proposal', 'NOUN'), ('is', 'VERB'), ('described', 'VERB'), ('*-1', 'X'), ('by', 'ADP'), ('government', 'NOUN'), ('sources', 'NOUN'), ('and', 'CONJ'), ('lobbyists', 'NOUN'), ('as', 'ADP'), ('significantly', 'ADV'), ('weaker', 'ADJ'), ('than', 'ADP'), ('the', 'DET'), ('president', 'NOUN'), (\"'s\", 'PRT'), ('plan', 'NOUN')]\n"
     ]
    }
   ],
   "source": [
    "# The sentences given in the testfile are stored in a variable\n",
    "sentences=\"Android is a mobile operating system developed by Google. Android has been the best-selling OS worldwide on smartphones since 2011 and on tablets since 2013. Google and Twitter made a deal in 2015 that gave Google access to Twitter's firehose. Twitter is an online news and social networking service on which users post and interact with messages known as tweets. Before entering politics, Donald Trump was a domineering businessman and a television personality. The 2018 FIFA World Cup is the 21st FIFA World Cup, an international football tournament contested once every four years. This is the first World Cup to be held in Eastern Europe and the 11th time that it has been held in Europe. Show me the cheapest round trips from Dallas to Atlanta I would like to see flights from Denver to Philadelphia. Show me the price of the flights leaving Atlanta at about 3 in the afternoon and arriving in San Francisco. NASA invited social media users to experience the launch of ICESAT-2 Satellite.\"\n",
    "\n",
    "# Tokenizing the sentences\n",
    "test_words = word_tokenize(sentences)\n",
    "\n",
    "\n",
    "# Tagging using nltk_pos_tag\n",
    "test_run_base= nltk.pos_tag(test_words,tagset='universal')\n",
    "\n",
    "# Validating on the test set\n",
    "start = time.time()\n",
    "tagged_seq_test=Viterbi(test_words)\n",
    "end = time.time()\n",
    "difference = end-start\n",
    "print(\"Time taken in seconds: \", difference)\n",
    "print(\"First 20 Tagged Sequence:\\n\",'\\n',tagged_seq[:20])\n"
   ]
  },
  {
   "cell_type": "code",
   "execution_count": 30,
   "metadata": {},
   "outputs": [
    {
     "name": "stdout",
     "output_type": "stream",
     "text": [
      "Test set accuracy on vanila viterbi model:  0.7569060773480663\n"
     ]
    }
   ],
   "source": [
    "# accuracy\n",
    "check = [i for i, j in zip(tagged_seq_test, test_run_base) if i == j]\n",
    "accuracy_t = len(check)/len(tagged_seq_test)\n",
    "print(\"Test set accuracy on vanila viterbi model: \",accuracy_t)"
   ]
  },
  {
   "cell_type": "code",
   "execution_count": 31,
   "metadata": {},
   "outputs": [
    {
     "data": {
      "text/html": [
       "<div>\n",
       "<style scoped>\n",
       "    .dataframe tbody tr th:only-of-type {\n",
       "        vertical-align: middle;\n",
       "    }\n",
       "\n",
       "    .dataframe tbody tr th {\n",
       "        vertical-align: top;\n",
       "    }\n",
       "\n",
       "    .dataframe thead th {\n",
       "        text-align: right;\n",
       "    }\n",
       "</style>\n",
       "<table border=\"1\" class=\"dataframe\">\n",
       "  <thead>\n",
       "    <tr style=\"text-align: right;\">\n",
       "      <th></th>\n",
       "      <th>Method</th>\n",
       "      <th>Validation_Accuracy</th>\n",
       "      <th>Test_Accuracy</th>\n",
       "      <th>Number of Incorrect Tagged Words</th>\n",
       "    </tr>\n",
       "  </thead>\n",
       "  <tbody>\n",
       "    <tr>\n",
       "      <th>0</th>\n",
       "      <td>VanilaViterbi</td>\n",
       "      <td>0.905302</td>\n",
       "      <td>0.756906</td>\n",
       "      <td>484</td>\n",
       "    </tr>\n",
       "  </tbody>\n",
       "</table>\n",
       "</div>"
      ],
      "text/plain": [
       "          Method  Validation_Accuracy  Test_Accuracy  \\\n",
       "0  VanilaViterbi             0.905302       0.756906   \n",
       "\n",
       "   Number of Incorrect Tagged Words  \n",
       "0                               484  "
      ]
     },
     "execution_count": 31,
     "metadata": {},
     "output_type": "execute_result"
    }
   ],
   "source": [
    "tempResults = pd.DataFrame({'Method':['VanilaViterbi'], 'Validation_Accuracy': [accuracy],'Test_Accuracy': [accuracy_t],'Number of Incorrect Tagged Words': len(incorrect_tagged_cases) })\n",
    "tempResults"
   ]
  },
  {
   "cell_type": "markdown",
   "metadata": {},
   "source": [
    "### Solve the problem of unknown words: \n",
    "\n",
    "- Handling unknown words can be done using : Lexicon, Probabilistic and Rule based techniques. \n"
   ]
  },
  {
   "cell_type": "markdown",
   "metadata": {},
   "source": [
    "<font color= Blue size = 5> **Approach 1**: Lexicon </font>\n",
    "- To start with we will start with Lexicon (Tagging by assigning most frequently occuring tag to unknown words)"
   ]
  },
  {
   "cell_type": "markdown",
   "metadata": {},
   "source": [
    "<font color=Brown size =5> Step 2. Assigning **frequently** occuring tag for **unknown tags** </font>"
   ]
  },
  {
   "cell_type": "code",
   "execution_count": 32,
   "metadata": {},
   "outputs": [],
   "source": [
    "#This function extracts the most frequently occuring tag in dataset and assigns the unknown word with that tag.\n",
    "#This function takes the train dataset as input\n",
    "def frequency_based_tagging(train_bag=train_tagged_words):\n",
    "    #Extract tags\n",
    "    tags = [tag for (word, tag) in train_bag]\n",
    "    \n",
    "    #Find most frequently occuring tag and return it to tag unknown word.\n",
    "    predicted_tag = nltk.FreqDist(tags).max()\n",
    "        \n",
    "    return predicted_tag"
   ]
  },
  {
   "cell_type": "code",
   "execution_count": 33,
   "metadata": {},
   "outputs": [],
   "source": [
    "#modified Viterbi by tagging unknown words with most frequently tagged tag.\n",
    "def Viterbi_freq_tag(words, train_bag = train_tagged_words):\n",
    "    state = []\n",
    "    T = list(set([pair[1] for pair in train_bag]))\n",
    "    \n",
    "    for key, word in enumerate(words):\n",
    "        #initialise list of probability column for a given observation\n",
    "        p = [] \n",
    "        for tag in T:\n",
    "            if key == 0:\n",
    "                transition_p = tags_df.loc['.', tag]\n",
    "            else:\n",
    "                transition_p = tags_df.loc[state[-1], tag]\n",
    "                \n",
    "            # compute emission and state probabilities\n",
    "            emission_p = word_given_tag(words[key], tag)[0]/word_given_tag(words[key], tag)[1]\n",
    "            state_probability = emission_p * transition_p    \n",
    "            p.append(state_probability)\n",
    "            \n",
    "        pmax = max(p)\n",
    "        state_max = T[p.index(pmax)]    \n",
    "        \n",
    "        if(pmax==0):\n",
    "            state_max = frequency_based_tagging() # assign frequency based  tagging\n",
    "        else:\n",
    "            if state_max != 'X':\n",
    "                # getting state for which probability is maximum\n",
    "                state_max = T[p.index(pmax)]                \n",
    "            \n",
    "        \n",
    "        state.append(state_max)\n",
    "    return list(zip(words, state))"
   ]
  },
  {
   "cell_type": "markdown",
   "metadata": {},
   "source": [
    "<font color = Brown size = 5> 2.1 Evaluating tagging accuracy on validation set </font>"
   ]
  },
  {
   "cell_type": "code",
   "execution_count": 34,
   "metadata": {},
   "outputs": [
    {
     "name": "stdout",
     "output_type": "stream",
     "text": [
      "Time taken in seconds:  1228.3423726558685\n",
      "First 20 Tagged Sequence:\n",
      " \n",
      " [('The', 'DET'), ('Democrat', 'NOUN'), (\"'s\", 'PRT'), ('proposal', 'NOUN'), ('is', 'VERB'), ('described', 'VERB'), ('*-1', 'X'), ('by', 'ADP'), ('government', 'NOUN'), ('sources', 'NOUN'), ('and', 'CONJ'), ('lobbyists', 'NOUN'), ('as', 'ADP'), ('significantly', 'ADV'), ('weaker', 'ADJ'), ('than', 'ADP'), ('the', 'DET'), ('president', 'NOUN'), (\"'s\", 'PRT'), ('plan', 'NOUN')] \n",
      "\n",
      "Validation set accuracy on modified viterbi model(Frequently occured tag):  0.9389551946781451\n"
     ]
    }
   ],
   "source": [
    "# tagging the test sentences\n",
    "start = time.time()\n",
    "tagged_seq = Viterbi_freq_tag(validation_tagged_words)\n",
    "end = time.time()\n",
    "difference = end-start\n",
    "\n",
    "print(\"Time taken in seconds: \", difference)\n",
    "print(\"First 20 Tagged Sequence:\\n\",'\\n',tagged_seq[:20],'\\n')\n",
    "\n",
    "# accuracy\n",
    "check = [i for i, j in zip(tagged_seq, validation_run_base) if i == j]\n",
    "accuracy = len(check)/len(tagged_seq)\n",
    "print(\"Validation set accuracy on modified viterbi model(Frequently occured tag): \",accuracy)"
   ]
  },
  {
   "cell_type": "markdown",
   "metadata": {},
   "source": [
    "<font color = Brown size = 5> 2.2 Identifying incorrect tagged cases </font>"
   ]
  },
  {
   "cell_type": "code",
   "execution_count": 35,
   "metadata": {},
   "outputs": [
    {
     "name": "stdout",
     "output_type": "stream",
     "text": [
      "List of incorrect tagged cases: \n",
      " \n",
      " [[('lobbyists', 'NOUN'), (('as', 'ADP'), ('as', 'ADV'))], [('genie', 'NOUN'), (('back', 'PRT'), ('back', 'ADV'))], [('lawsuit', 'NOUN'), (('challenging', 'NOUN'), ('challenging', 'VERB'))], [('to', 'PRT'), (('contest', 'NOUN'), ('contest', 'VERB'))], [('the', 'DET'), (('band-wagon', 'NOUN'), ('band-wagon', 'ADJ'))], [('days', 'NOUN'), (('picks', 'NOUN'), ('picks', 'VERB'))], [('Jefferson', 'NOUN'), (('dissolves', 'NOUN'), ('dissolves', 'VERB'))], [('take', 'VERB'), (('away', 'ADV'), ('away', 'PRT'))], [('his', 'PRON'), (('finest', 'NOUN'), ('finest', 'ADJ'))], [('Moody', 'NOUN'), ((\"'s\", 'PRT'), (\"'s\", 'VERB'))], [('move', 'NOUN'), (('that', 'ADP'), ('that', 'DET'))], [('and', 'CONJ'), (('signal', 'NOUN'), ('signal', 'VERB'))], [('To', 'PRT'), (('further', 'ADJ'), ('further', 'ADV'))], [('further', 'ADV'), (('load', 'NOUN'), ('load', 'VERB'))], [('Lane', 'NOUN'), (('dreamed', 'NOUN'), ('dreamed', 'VERB'))], [('highly', 'ADV'), (('improbable', 'NOUN'), ('improbable', 'ADJ'))], [('expensive', 'ADJ'), (('high-rise', 'NOUN'), ('high-rise', 'ADJ'))], [('*-1', 'X'), (('marketing', 'NOUN'), ('marketing', 'VERB'))], [('network', 'NOUN'), (('operating', 'NOUN'), ('operating', 'VERB'))], [('*-1', 'X'), (('single-A', 'NOUN'), ('single-A', 'ADJ'))], [('a', 'DET'), (('run', 'VERB'), ('run', 'NOUN'))], [('not', 'ADV'), (('there', 'DET'), ('there', 'ADV'))], [('the', 'DET'), (('Andean', 'NOUN'), ('Andean', 'ADJ'))], [('will', 'VERB'), (('rule', 'NOUN'), ('rule', 'VERB'))], [('on', 'ADP'), (('viewing', 'NOUN'), ('viewing', 'VERB'))], [('especially', 'ADV'), (('absurd', 'NOUN'), ('absurd', 'ADJ'))], [('to', 'PRT'), (('inform', 'NOUN'), ('inform', 'VERB'))], [('Marina', 'NOUN'), (('del', 'NOUN'), ('del', 'DET'))], [('for', 'ADP'), (('alleged', 'ADJ'), ('alleged', 'VERB'))], [('of', 'ADP'), (('reporting', 'NOUN'), ('reporting', 'VERB'))], [('in', 'ADP'), (('excess', 'ADJ'), ('excess', 'NOUN'))], [(',', '.'), (('publishing', 'NOUN'), ('publishing', 'VERB'))], [('straight', 'ADJ'), (('scoop', 'VERB'), ('scoop', 'NOUN'))], [('a', 'DET'), (('marvelously', 'NOUN'), ('marvelously', 'ADV'))], [('marvelously', 'ADV'), (('loose', 'NOUN'), ('loose', 'ADJ'))], [('to', 'PRT'), (('rebound', 'NOUN'), ('rebound', 'VERB'))], [('would', 'VERB'), (('slow', 'ADJ'), ('slow', 'VERB'))], [('have', 'VERB'), (('accounted', 'NOUN'), ('accounted', 'VERB'))], [('for', 'ADP'), (('as', 'ADP'), ('as', 'ADV'))], [('health', 'NOUN'), (('care', 'VERB'), ('care', 'NOUN'))], [('and', 'CONJ'), (('that', 'DET'), ('that', 'ADP'))], [('of', 'ADP'), (('pregnant', 'NOUN'), ('pregnant', 'ADJ'))], [('might', 'VERB'), (('speed', 'NOUN'), ('speed', 'VERB'))], [('``', '.'), (('photographic', 'NOUN'), ('photographic', 'ADJ'))], [('confidence', 'NOUN'), (('stayed', 'NOUN'), ('stayed', 'VERB'))], [('the', 'DET'), (('unsettling', 'NOUN'), ('unsettling', 'ADJ'))], [('for', 'ADP'), (('durable', 'NOUN'), ('durable', 'ADJ'))], [('up', 'ADV'), (('0.2', 'NOUN'), ('0.2', 'NUM'))], [('$', '.'), (('127.03', 'NOUN'), ('127.03', 'NUM'))], [('month', 'NOUN'), (('before', 'ADP'), ('before', 'ADV'))], [('fairly', 'ADV'), (('irrelevant', 'NOUN'), ('irrelevant', 'ADJ'))], [('of', 'ADP'), (('830,000', 'NOUN'), ('830,000', 'NUM'))], [('closely', 'ADV'), (('watched', 'NOUN'), ('watched', 'VERB'))], [('of', 'ADP'), (('softening', 'NOUN'), ('softening', 'VERB'))], [('in', 'ADP'), (('working', 'ADJ'), ('working', 'VERB'))], [('company', 'NOUN'), (('plugged', 'NOUN'), ('plugged', 'VERB'))], [('itself', 'PRON'), (('right', 'NOUN'), ('right', 'ADV'))], [('*', 'X'), (('rebuilding', 'NOUN'), ('rebuilding', 'VERB'))], [('Reagan', 'NOUN'), ((\"'80s\", 'NOUN'), (\"'80s\", 'NUM'))], [('which', 'DET'), (('*T*-141', 'NOUN'), ('*T*-141', 'X'))], [('*', 'X'), (('SWITCHING', 'NOUN'), ('SWITCHING', 'VERB'))], [('SWITCHING', 'VERB'), (('TO', 'NOUN'), ('TO', 'PRT'))], [('*', 'X'), (('Choose', 'NOUN'), ('Choose', 'VERB'))], [('them', 'PRON'), (('out', 'PRT'), ('out', 'ADP'))], [('be', 'VERB'), (('deprived', 'NOUN'), ('deprived', 'VERB'))], [('of', 'ADP'), (('continuous', 'NOUN'), ('continuous', 'ADJ'))], [('to', 'PRT'), (('fund', 'NOUN'), ('fund', 'VERB'))], [('#', '.'), (('14.13', 'NOUN'), ('14.13', 'NUM'))], [('best', 'ADJ'), (('known', 'ADJ'), ('known', 'VERB'))], [('approach', 'NOUN'), (('that', 'ADP'), ('that', 'DET'))], [('two', 'NUM'), (('midsized', 'ADJ'), ('midsized', 'VERB'))], [('cars', 'NOUN'), (('that', 'ADP'), ('that', 'DET'))], [('maker', 'NOUN'), (('record', 'NOUN'), ('record', 'VERB'))], [('to', 'PRT'), (('eclipse', 'NOUN'), ('eclipse', 'VERB'))], [('the', 'DET'), (('top-selling', 'NOUN'), ('top-selling', 'ADJ'))], [('yielding', 'VERB'), (('9.32', 'NOUN'), ('9.32', 'NUM'))], [('a', 'DET'), (('12-year', 'NOUN'), ('12-year', 'ADJ'))], [('of', 'ADP'), (('school-sponsored', 'NOUN'), ('school-sponsored', 'ADJ'))], [('a', 'DET'), (('free-lance', 'NOUN'), ('free-lance', 'ADJ'))], [('an', 'DET'), (('all-cash', 'NOUN'), ('all-cash', 'ADJ'))], [('was', 'VERB'), (('crowded', 'NOUN'), ('crowded', 'VERB'))], [('who', 'PRON'), (('*T*-98', 'NOUN'), ('*T*-98', 'X'))], [('to', 'PRT'), (('testify', 'NOUN'), ('testify', 'VERB'))], [('the', 'DET'), (('most', 'ADJ'), ('most', 'ADV'))], [(':', '.'), (('day-care', 'NOUN'), ('day-care', 'ADJ'))], [('day-care', 'ADJ'), (('centers', 'VERB'), ('centers', 'NOUN'))], [('centers', 'NOUN'), (('that', 'ADP'), ('that', 'DET'))], [('previously', 'ADV'), (('spurned', 'NOUN'), ('spurned', 'VERB'))], [('People', 'NOUN'), (('close', 'VERB'), ('close', 'ADJ'))], [('to', 'PRT'), (('guarantee', 'NOUN'), ('guarantee', 'VERB'))], [('estimated', 'VERB'), (('seven-million-ton', 'NOUN'), ('seven-million-ton', 'ADJ'))], [('seven-million-ton', 'ADJ'), (('cut', 'VERB'), ('cut', 'NOUN'))], [('emissions', 'NOUN'), (('that', 'ADP'), ('that', 'DET'))], [('to', 'PRT'), (('acid', 'ADJ'), ('acid', 'NOUN'))], [('meetings', 'NOUN'), (('next', 'ADP'), ('next', 'ADJ'))], [('and', 'CONJ'), (('Soviet', 'ADJ'), ('Soviet', 'NOUN'))], [('waters', 'NOUN'), (('off', 'PRT'), ('off', 'ADP'))], [('.', '.'), (('Common', 'NOUN'), ('Common', 'ADJ'))], [('$', '.'), (('132,000', 'NOUN'), ('132,000', 'NUM'))], [('*-2', 'X'), (('bombarding', 'NOUN'), ('bombarding', 'VERB'))], [('process', 'NOUN'), (('that', 'ADP'), ('that', 'DET'))], [('for', 'ADP'), (('large-scale', 'NOUN'), ('large-scale', 'ADJ'))], [('large-scale', 'ADJ'), (('commercial', 'NOUN'), ('commercial', 'ADJ'))], [('commercial', 'ADJ'), (('use', 'VERB'), ('use', 'NOUN'))], [('``', '.'), (('peaceful', 'NOUN'), ('peaceful', 'ADJ'))], [('a', 'DET'), (('catch', 'VERB'), ('catch', 'NOUN'))], [('of', 'ADP'), (('Western', 'NOUN'), ('Western', 'ADJ'))], [('to', 'PRT'), (('seduce', 'NOUN'), ('seduce', 'VERB'))], [('seduce', 'VERB'), (('socialist', 'NOUN'), ('socialist', 'ADJ'))], [('the', 'DET'), (('capitalist', 'NOUN'), ('capitalist', 'ADJ'))], [('record', 'NOUN'), (('corn-buying', 'NOUN'), ('corn-buying', 'ADJ'))], [('the', 'DET'), (('Soviet', 'ADJ'), ('Soviet', 'NOUN'))], [('at', 'ADP'), (('60.36', 'NOUN'), ('60.36', 'NUM'))], [('the', 'DET'), (('past', 'ADJ'), ('past', 'NOUN'))], [('he', 'PRON'), (('blames', 'NOUN'), ('blames', 'VERB'))], [('can', 'VERB'), (('steal', 'NOUN'), ('steal', 'VERB'))], [('he', 'PRON'), (('hoped', 'NOUN'), ('hoped', 'VERB'))], [(\"n't\", 'ADV'), (('encounter', 'NOUN'), ('encounter', 'VERB'))], [('Treasury', 'NOUN'), (('estimates', 'NOUN'), ('estimates', 'VERB'))], [('it', 'PRON'), (('decides', 'NOUN'), ('decides', 'VERB'))], [('to', 'PRT'), (('aim', 'NOUN'), ('aim', 'VERB'))], [('he', 'PRON'), (('doubts', 'NOUN'), ('doubts', 'VERB'))], [('been', 'VERB'), (('disruptive', 'NOUN'), ('disruptive', 'ADJ'))], [('to', 'PRT'), (('offer', 'NOUN'), ('offer', 'VERB'))], [('a', 'DET'), (('cost-sharing', 'NOUN'), ('cost-sharing', 'ADJ'))], [('mechanism', 'NOUN'), (('that', 'ADP'), ('that', 'DET'))], [('*-3', 'X'), (('subsidize', 'NOUN'), ('subsidize', 'VERB'))], [('the', 'DET'), (('clean-up', 'NOUN'), ('clean-up', 'ADJ'))], [('dirtiest', 'ADJ'), (('coal-fired', 'NOUN'), ('coal-fired', 'ADJ'))], [('*-3', 'X'), (('sparing', 'NOUN'), ('sparing', 'VERB'))], [('from', 'ADP'), (('exorbitant', 'NOUN'), ('exorbitant', 'ADJ'))], [('won', 'VERB'), (('grant', 'VERB'), ('grant', 'NOUN'))], [('``', '.'), (('Cultural', 'NOUN'), ('Cultural', 'ADJ'))], [('in', 'ADP'), (('Western', 'NOUN'), ('Western', 'ADJ'))], [('investors', 'NOUN'), (('acquires', 'NOUN'), ('acquires', 'VERB'))], [('funds', 'NOUN'), (('generated', 'NOUN'), ('generated', 'VERB'))], [('failed', 'VERB'), (('labor-management', 'NOUN'), ('labor-management', 'ADJ'))], [('for', 'ADP'), (('alleged', 'ADJ'), ('alleged', 'VERB'))], [('Artist', 'NOUN'), (('hangs', 'NOUN'), ('hangs', 'VERB'))], [('a', 'DET'), (('strip', 'VERB'), ('strip', 'NOUN'))], [('Avenue', 'NOUN'), (('populated', 'NOUN'), ('populated', 'VERB'))], [('other', 'ADJ'), (('good-natured', 'NOUN'), ('good-natured', 'ADJ'))], [('``', '.'), (('Whether', 'NOUN'), ('Whether', 'ADP'))], [('was', 'VERB'), (('47.1', 'NOUN'), ('47.1', 'NUM'))], [('radio', 'NOUN'), (('show', 'VERB'), ('show', 'NOUN'))], [('``', '.'), (('enraged', 'NOUN'), ('enraged', 'VERB'))], [('the', 'DET'), (('Little', 'ADJ'), ('Little', 'NOUN'))], [('Her', 'PRON'), (('immediate', 'NOUN'), ('immediate', 'ADJ'))], [('*', 'X'), (('guarding', 'NOUN'), ('guarding', 'VERB'))], [('contradict', 'VERB'), (('that', 'ADP'), ('that', 'DET'))], [('-LRB-', '.'), (('technically', 'NOUN'), ('technically', 'ADV'))], [('the', 'DET'), (('executive', 'ADJ'), ('executive', 'NOUN'))], [('vehicles', 'NOUN'), (('classed', 'NOUN'), ('classed', 'VERB'))], [('carry', 'VERB'), (('more', 'ADV'), ('more', 'ADJ'))], [('and', 'CONJ'), (('therefore', 'NOUN'), ('therefore', 'ADV'))], [('movie', 'NOUN'), (('ends', 'NOUN'), ('ends', 'VERB'))], [('anything', 'NOUN'), (('whimsical', 'NOUN'), ('whimsical', 'ADJ'))], [('or', 'CONJ'), (('enviable', 'NOUN'), ('enviable', 'ADJ'))], [(',', '.'), (('beaten', 'VERB'), ('beaten', 'ADJ'))], [('incentive', 'NOUN'), (('pay', 'VERB'), ('pay', 'NOUN'))], [('opened', 'VERB'), (('up', 'ADV'), ('up', 'PRT'))], [('a', 'DET'), (('can', 'VERB'), ('can', 'NOUN'))], [('``', '.'), (('Varying', 'NOUN'), ('Varying', 'ADJ'))], [('will', 'VERB'), (('slow', 'ADJ'), ('slow', 'VERB'))], [('have', 'VERB'), (('more', 'ADV'), ('more', 'ADJ'))], [('as', 'ADP'), (('athletic', 'NOUN'), ('athletic', 'ADJ'))], [('*-2', 'X'), (('to', 'PRT'), ('to', 'ADJ'))], [('to', 'ADJ'), (('appeal', 'VERB'), ('appeal', 'NOUN'))], [(',', '.'), (('immediate', 'NOUN'), ('immediate', 'ADJ'))], [('is', 'VERB'), (('imperative', 'NOUN'), ('imperative', 'ADJ'))], [('publishes', 'VERB'), (('The', 'DET'), ('The', 'NOUN'))], [('10', 'NUM'), (('citizen-sparked', 'NOUN'), ('citizen-sparked', 'ADJ'))], [('any', 'DET'), (('odd-year', 'NOUN'), ('odd-year', 'ADJ'))], [('*U*', 'X'), (('charge', 'VERB'), ('charge', 'NOUN'))], [('$', '.'), (('12.09', 'NOUN'), ('12.09', 'NUM'))], [('sales', 'NOUN'), (('materialize', 'NOUN'), ('materialize', 'VERB'))], [('$', '.'), (('36', 'NOUN'), ('36', 'NUM'))], [('portfolios', 'NOUN'), (('that', 'ADP'), ('that', 'DET'))], [('to', 'PRT'), (('computerize', 'NOUN'), ('computerize', 'VERB'))], [('niches', 'NOUN'), (('that', 'ADP'), ('that', 'DET'))], [('that', 'DET'), (('*T*-199', 'NOUN'), ('*T*-199', 'X'))], [('the', 'DET'), (('third-largest', 'NOUN'), ('third-largest', 'ADJ'))], [('the', 'DET'), (('fifth-largest', 'NOUN'), ('fifth-largest', 'ADJ'))], [('.', '.'), (('Domestic', 'NOUN'), ('Domestic', 'ADJ'))], [('to', 'PRT'), (('142.84', 'NOUN'), ('142.84', 'NUM'))], [('from', 'ADP'), (('126.15', 'NOUN'), ('126.15', 'NUM'))], [('*-1', 'X'), (('attending', 'NOUN'), ('attending', 'VERB'))], [('students', 'NOUN'), (('adequately', 'NOUN'), ('adequately', 'ADV'))], [('an', 'DET'), (('eight-count', 'NOUN'), ('eight-count', 'ADJ'))], [('to', 'PRT'), (('manipulate', 'NOUN'), ('manipulate', 'VERB'))], [(\"'s\", 'PRT'), (('planned', 'VERB'), ('planned', 'ADJ'))], [('harassment', 'NOUN'), (('consists', 'NOUN'), ('consists', 'VERB'))], [(\"'s\", 'PRT'), (('year-long', 'NOUN'), ('year-long', 'ADJ'))], [('$', '.'), (('472', 'NOUN'), ('472', 'NUM'))], [('among', 'ADP'), (('American', 'ADJ'), ('American', 'NOUN'))], [('an', 'DET'), (('American', 'ADJ'), ('American', 'NOUN'))], [('company', 'NOUN'), (('distributed', 'NOUN'), ('distributed', 'VERB'))], [('expanded', 'VERB'), (('trade', 'VERB'), ('trade', 'NOUN'))], [('Overseas', 'NOUN'), (('Private', 'ADJ'), ('Private', 'NOUN'))], [('way', 'NOUN'), (('sanctions', 'NOUN'), ('sanctions', 'VERB'))], [('the', 'DET'), (('dismal', 'NOUN'), ('dismal', 'ADJ'))], [('some', 'DET'), (('light', 'ADJ'), ('light', 'NOUN'))], [('the', 'DET'), (('dark', 'NOUN'), ('dark', 'ADJ'))], [('where', 'ADV'), (('high-stakes', 'NOUN'), ('high-stakes', 'ADJ'))], [('has', 'VERB'), (('enhanced', 'NOUN'), ('enhanced', 'VERB'))], [('to', 'PRT'), (('cheat', 'NOUN'), ('cheat', 'VERB'))], [('.', '.'), (('Separately', 'ADV'), ('Separately', 'NOUN'))], [(\"n't\", 'ADV'), (('hospitable', 'NOUN'), ('hospitable', 'ADJ'))], [('$', '.'), (('214', 'NOUN'), ('214', 'NUM'))], [('%', 'NOUN'), (('rise', 'VERB'), ('rise', 'NOUN'))], [(',', '.'), (('reports', 'NOUN'), ('reports', 'VERB'))], [('due', 'ADJ'), (('1995', 'NOUN'), ('1995', 'NUM'))], [('fell', 'VERB'), (('9\\\\/32', 'NOUN'), ('9\\\\/32', 'NUM'))], [('to', 'PRT'), (('103', 'NOUN'), ('103', 'NUM'))], [('yield', 'VERB'), (('11.10', 'NOUN'), ('11.10', 'NUM'))], [('The', 'DET'), (('sad', 'NOUN'), ('sad', 'ADJ'))], [('performers', 'NOUN'), (('first', 'ADJ'), ('first', 'ADV'))], [('to', 'PRT'), (('grapple', 'NOUN'), ('grapple', 'VERB'))], [('ended', 'VERB'), (('Sept.30', 'NOUN'), ('Sept.30', 'NUM'))], [('earned', 'VERB'), (('16.68', 'NOUN'), ('16.68', 'NUM'))], [('US$', '.'), (('116.7', 'NOUN'), ('116.7', 'NUM'))], [('from', 'ADP'), (('12.68', 'NOUN'), ('12.68', 'NUM'))], [('.', '.'), (('Fourteen', 'NOUN'), ('Fourteen', 'NUM'))], [('a', 'DET'), (('stable', 'ADJ'), ('stable', 'NOUN'))], [('-RRB-', '.'), (('deluxe', 'NOUN'), ('deluxe', 'ADJ'))], [(',', '.'), (('rarefied', 'NOUN'), ('rarefied', 'VERB'))], [('to', 'PRT'), (('duck', 'NOUN'), ('duck', 'VERB'))], [(\"n't\", 'ADV'), (('identify', 'NOUN'), ('identify', 'VERB'))], [('which', 'DET'), (('identical', 'NOUN'), ('identical', 'ADJ'))], [('Bush', 'NOUN'), (('loses', 'NOUN'), ('loses', 'VERB'))], [('to', 'PRT'), (('sacrifice', 'NOUN'), ('sacrifice', 'VERB'))], [('we', 'PRON'), (('evaluated', 'NOUN'), ('evaluated', 'VERB'))], [('way', 'NOUN'), (('out', 'PRT'), ('out', 'ADP'))], [('be', 'VERB'), (('depressed', 'NOUN'), ('depressed', 'VERB'))], [('depressed', 'VERB'), (('*-92', 'NOUN'), ('*-92', 'X'))], [('$', '.'), (('184', 'NOUN'), ('184', 'NUM'))], [('for', 'ADP'), (('*-30', 'NOUN'), ('*-30', 'X'))], [('a', 'DET'), (('holding', 'NOUN'), ('holding', 'VERB'))], [('to', 'PRT'), (('craft', 'NOUN'), ('craft', 'VERB'))], [('insist', 'VERB'), (('on', 'ADP'), ('on', 'PRT'))], [('*-5', 'X'), (('jumping', 'NOUN'), ('jumping', 'VERB'))], [('jumping', 'VERB'), (('in', 'ADP'), ('in', 'ADV'))], [('party', 'NOUN'), (('late', 'ADJ'), ('late', 'ADV'))], [('be', 'VERB'), (('ready', 'NOUN'), ('ready', 'ADJ'))], [('the', 'DET'), (('audit', 'VERB'), ('audit', 'NOUN'))], [(\"'s\", 'PRT'), (('stand', 'VERB'), ('stand', 'NOUN'))], [('best', 'ADJ'), (('female', 'ADJ'), ('female', 'NOUN'))], [('third-quarter', 'NOUN'), (('net', 'NOUN'), ('net', 'ADJ'))], [(',', '.'), (('versus', 'NOUN'), ('versus', 'CONJ'))], [('versus', 'CONJ'), (('net', 'NOUN'), ('net', 'ADJ'))], [('$', '.'), (('5.3', 'NOUN'), ('5.3', 'NUM'))], [('$', '.'), (('1.61', 'NOUN'), ('1.61', 'NUM'))], [('year', 'NOUN'), (('earlier', 'ADV'), ('earlier', 'ADJ'))], [('breakers', 'NOUN'), (('that', 'ADP'), ('that', 'DET'))], [('that', 'DET'), (('*T*-215', 'NOUN'), ('*T*-215', 'X'))], [('peaks', 'NOUN'), (('earlier', 'ADV'), ('earlier', 'ADJ'))], [('government', 'NOUN'), (('curtailed', 'NOUN'), ('curtailed', 'VERB'))], [('with', 'ADP'), (('land-idling', 'NOUN'), ('land-idling', 'ADJ'))], [('reduce', 'VERB'), (('price-depressing', 'NOUN'), ('price-depressing', 'ADJ'))], [('driving', 'VERB'), (('force', 'VERB'), ('force', 'NOUN'))], [('is', 'VERB'), (('sufficient', 'NOUN'), ('sufficient', 'ADJ'))], [('plunged', 'VERB'), (('about', 'ADP'), ('about', 'ADV'))], [('chief', 'NOUN'), (('operating', 'NOUN'), ('operating', 'VERB'))], [('were', 'VERB'), (('tidily', 'NOUN'), ('tidily', 'ADV'))], [(',', '.'), (('847', 'NOUN'), ('847', 'NUM'))], [('to', 'PRT'), (('644', 'NOUN'), ('644', 'NUM'))], [('a', 'DET'), (('leading', 'VERB'), ('leading', 'ADJ'))], [('are', 'VERB'), (('no', 'DET'), ('no', 'ADV'))], [('longer', 'ADJ'), (('subject', 'NOUN'), ('subject', 'ADJ'))], [('major', 'ADJ'), (('plus', 'CONJ'), ('plus', 'NOUN'))], [('our', 'PRON'), (('view', 'VERB'), ('view', 'NOUN'))], [('a', 'DET'), (('whirling', 'NOUN'), ('whirling', 'ADJ'))], [('to', 'PRT'), (('identify', 'NOUN'), ('identify', 'VERB'))], [('``', '.'), (('Little', 'NOUN'), ('Little', 'ADV'))], [('by', 'ADP'), (('little', 'ADJ'), ('little', 'ADV'))], [('which', 'DET'), (('*T*-138', 'NOUN'), ('*T*-138', 'X'))], [('is', 'VERB'), (('empowered', 'NOUN'), ('empowered', 'VERB'))], [('gained', 'VERB'), (('16.05', 'NOUN'), ('16.05', 'NUM'))], [('down', 'ADV'), (('1.46', 'NOUN'), ('1.46', 'NUM'))], [('or', 'CONJ'), (('0.05', 'NOUN'), ('0.05', 'NUM'))], [('at', 'ADP'), (('2691.19', 'NOUN'), ('2691.19', 'NUM'))], [('seeking', 'VERB'), (('comment', 'VERB'), ('comment', 'NOUN'))], [('Hallett', 'NOUN'), (('mistakenly', 'NOUN'), ('mistakenly', 'ADV'))], [('on', 'ADP'), (('66.5', 'NOUN'), ('66.5', 'NUM'))], [('By', 'ADP'), (('1997', 'NOUN'), ('1997', 'NUM'))], [('remaining', 'VERB'), (('uses', 'VERB'), ('uses', 'NOUN'))], [('of', 'ADP'), (('cancer-causing', 'NOUN'), ('cancer-causing', 'ADJ'))], [('be', 'VERB'), (('outlawed', 'NOUN'), ('outlawed', 'VERB'))], [('always', 'ADV'), (('tanked', 'NOUN'), ('tanked', 'VERB'))], [('partly', 'ADV'), (('one', 'NUM'), ('one', 'NOUN'))], [('then', 'ADV'), (('overseas', 'ADJ'), ('overseas', 'ADV'))], [('$', '.'), (('27.1', 'NOUN'), ('27.1', 'NUM'))], [('bill', 'NOUN'), (('that', 'ADP'), ('that', 'DET'))], [(\"'s\", 'PRT'), (('95', 'NOUN'), ('95', 'NUM'))], [('about', 'ADP'), (('24,000', 'NOUN'), ('24,000', 'NUM'))], [('its', 'PRON'), (('offer', 'VERB'), ('offer', 'NOUN'))], [('The', 'DET'), (('assistant', 'NOUN'), ('assistant', 'ADJ'))], [(\"'s\", 'PRT'), (('beleaguered', 'NOUN'), ('beleaguered', 'VERB'))], [('joining', 'VERB'), (('forces', 'VERB'), ('forces', 'NOUN'))], [('*', 'X'), (('boosting', 'NOUN'), ('boosting', 'VERB'))], [('the', 'DET'), (('American', 'ADJ'), ('American', 'NOUN'))], [('times', 'NOUN'), (('as', 'ADP'), ('as', 'ADV'))], [('the', 'DET'), (('underlying', 'ADJ'), ('underlying', 'VERB'))], [('loaded', 'VERB'), (('south', 'NOUN'), ('south', 'ADV'))], [('*T*-1', 'X'), (('feeds', 'NOUN'), ('feeds', 'VERB'))], [('the', 'DET'), (('1980s', 'NOUN'), ('1980s', 'NUM'))], [('the', 'DET'), (('more', 'ADJ'), ('more', 'ADV'))], [('the', 'DET'), (('1990s', 'NOUN'), ('1990s', 'NUM'))], [(',', '.'), (('traced', 'NOUN'), ('traced', 'VERB'))], [('.', '.'), (('Advancing', 'NOUN'), ('Advancing', 'VERB'))], [('by', 'ADP'), (('847', 'NOUN'), ('847', 'NUM'))], [('to', 'PRT'), (('644', 'NOUN'), ('644', 'NUM'))]]\n"
     ]
    }
   ],
   "source": [
    "incorrect_tagged_cases = [[validation_run_base[i-1],j] for i, j in enumerate(zip(tagged_seq, validation_run_base)) if j[0]!=j[1]]\n",
    "print(\"List of incorrect tagged cases: \\n \\n\",incorrect_tagged_cases)"
   ]
  },
  {
   "cell_type": "code",
   "execution_count": 36,
   "metadata": {},
   "outputs": [
    {
     "name": "stdout",
     "output_type": "stream",
     "text": [
      "Length of incorrect tagged words using modified viterbi by tagging with most frequently tagged tag:  312\n"
     ]
    }
   ],
   "source": [
    "print(\"Length of incorrect tagged words using modified viterbi by tagging with most frequently tagged tag: \",len(incorrect_tagged_cases))"
   ]
  },
  {
   "cell_type": "markdown",
   "metadata": {},
   "source": [
    "<font color = Brown size = 5> 2.3  Evaluating tagging accuracy on test set</font>"
   ]
  },
  {
   "cell_type": "code",
   "execution_count": 37,
   "metadata": {},
   "outputs": [
    {
     "name": "stdout",
     "output_type": "stream",
     "text": [
      "Test set accuracy on modified viterbi model(Frequently occured tag):  0.9116022099447514\n"
     ]
    }
   ],
   "source": [
    "tagged_seq_test = Viterbi_freq_tag(test_words)\n",
    "# accuracy\n",
    "check = [i for i, j in zip(tagged_seq_test, test_run_base) if i == j]\n",
    "accuracy_t = len(check)/len(tagged_seq_test)\n",
    "print(\"Test set accuracy on modified viterbi model(Frequently occured tag): \",accuracy_t)"
   ]
  },
  {
   "cell_type": "code",
   "execution_count": 38,
   "metadata": {},
   "outputs": [
    {
     "data": {
      "text/html": [
       "<div>\n",
       "<style scoped>\n",
       "    .dataframe tbody tr th:only-of-type {\n",
       "        vertical-align: middle;\n",
       "    }\n",
       "\n",
       "    .dataframe tbody tr th {\n",
       "        vertical-align: top;\n",
       "    }\n",
       "\n",
       "    .dataframe thead th {\n",
       "        text-align: right;\n",
       "    }\n",
       "</style>\n",
       "<table border=\"1\" class=\"dataframe\">\n",
       "  <thead>\n",
       "    <tr style=\"text-align: right;\">\n",
       "      <th></th>\n",
       "      <th>Method</th>\n",
       "      <th>Validation_Accuracy</th>\n",
       "      <th>Test_Accuracy</th>\n",
       "      <th>Number of Incorrect Tagged Words</th>\n",
       "    </tr>\n",
       "  </thead>\n",
       "  <tbody>\n",
       "    <tr>\n",
       "      <th>0</th>\n",
       "      <td>VanilaViterbi</td>\n",
       "      <td>0.905302</td>\n",
       "      <td>0.756906</td>\n",
       "      <td>484</td>\n",
       "    </tr>\n",
       "    <tr>\n",
       "      <th>0</th>\n",
       "      <td>Modified Viterbi (Frequently tagged tag)</td>\n",
       "      <td>0.938955</td>\n",
       "      <td>0.911602</td>\n",
       "      <td>312</td>\n",
       "    </tr>\n",
       "  </tbody>\n",
       "</table>\n",
       "</div>"
      ],
      "text/plain": [
       "                                     Method  Validation_Accuracy  \\\n",
       "0                             VanilaViterbi             0.905302   \n",
       "0  Modified Viterbi (Frequently tagged tag)             0.938955   \n",
       "\n",
       "   Test_Accuracy  Number of Incorrect Tagged Words  \n",
       "0       0.756906                               484  \n",
       "0       0.911602                               312  "
      ]
     },
     "execution_count": 38,
     "metadata": {},
     "output_type": "execute_result"
    }
   ],
   "source": [
    "results = pd.DataFrame({'Method':['Modified Viterbi (Frequently tagged tag)'], 'Validation_Accuracy': [accuracy],'Test_Accuracy': [accuracy_t],'Number of Incorrect Tagged Words': len(incorrect_tagged_cases) })\n",
    "results = pd.concat([tempResults,results])\n",
    "results = results[['Method', 'Validation_Accuracy', 'Test_Accuracy','Number of Incorrect Tagged Words']]\n",
    "results"
   ]
  },
  {
   "cell_type": "markdown",
   "metadata": {},
   "source": [
    "Modified viterbi(frequently tagged tag) has performed better than plain viterbi"
   ]
  },
  {
   "cell_type": "markdown",
   "metadata": {},
   "source": [
    "### Sample cases to identify the difference are listed at the end"
   ]
  },
  {
   "cell_type": "markdown",
   "metadata": {},
   "source": [
    "<font color = Blue size = 5> Approach 2: Probabilistic method: </font>\n",
    "\n",
    "- If the word-tag pair is not found in the dataset, Vanilla Viterbi will yield the emission probability as ZERO\n",
    "\n",
    "- By considering only transition probability, we can smoothe out these ZERO values "
   ]
  },
  {
   "cell_type": "markdown",
   "metadata": {},
   "source": [
    "<font color = Brown size = 5> Step: 3 Probabilistic Method </font>"
   ]
  },
  {
   "cell_type": "code",
   "execution_count": 39,
   "metadata": {},
   "outputs": [],
   "source": [
    "# Modified Viterbi Heuristic- By considering only transition probability\n",
    "def Viterbi_Transition(words, train_bag = train_tagged_words):\n",
    "    state = []\n",
    "    \n",
    "    # Take the list of unique tags present in the corpus\n",
    "    T = sorted(list(set([pair[1] for pair in train_bag])))\n",
    "    V = [i[0] for i in train_bag]\n",
    "    \n",
    "    for key, word in enumerate(words):\n",
    "        #initialise list of probability column for a given observation\n",
    "        p = [] \n",
    "        \n",
    "        for tag in T:\n",
    "            if key == 0: #first word has key=0\n",
    "                transition_p = tags_df.loc['.', tag]\n",
    "            else:\n",
    "                transition_p = tags_df.loc[state[-1], tag]\n",
    "                \n",
    "            # compute emission and state probabilities\n",
    "            emission_p = word_given_tag(words[key], tag)[0]/word_given_tag(words[key], tag)[1]\n",
    "            \n",
    "            \n",
    "            # modification to the original vanilla viterbi algorithm. \n",
    "            # Vocab contains the list of unique words in training dataset\n",
    "            if word not in V: \n",
    "                state_probability = transition_p\n",
    "            else:\n",
    "                state_probability = emission_p * transition_p\n",
    "                \n",
    "            p.append(state_probability)\n",
    "            \n",
    "        pmax = max(p)\n",
    "        \n",
    "        # getting state for which probability is maximum\n",
    "        state_max = T[p.index(pmax)] \n",
    "        state.append(state_max)\n",
    "        \n",
    "    return list(zip(words, state))"
   ]
  },
  {
   "cell_type": "markdown",
   "metadata": {},
   "source": [
    "<font color = Borwn size = 5> 3.1 Evaluating tagging accuracy on validation set </font>"
   ]
  },
  {
   "cell_type": "code",
   "execution_count": 40,
   "metadata": {},
   "outputs": [
    {
     "name": "stdout",
     "output_type": "stream",
     "text": [
      "Time taken in seconds:  1166.097615480423\n",
      "First 20 Tagged Sequence:\n",
      " \n",
      " [('The', 'DET'), ('Democrat', 'NOUN'), (\"'s\", 'PRT'), ('proposal', 'NOUN'), ('is', 'VERB'), ('described', 'VERB'), ('*-1', 'X'), ('by', 'ADP'), ('government', 'NOUN'), ('sources', 'NOUN'), ('and', 'CONJ'), ('lobbyists', 'NOUN'), ('as', 'ADP'), ('significantly', 'ADV'), ('weaker', 'ADJ'), ('than', 'ADP'), ('the', 'DET'), ('president', 'NOUN'), (\"'s\", 'PRT'), ('plan', 'NOUN')]\n",
      "Validation set accuracy on modified viterbi model(probabilistic):  0.9391508511054588\n"
     ]
    }
   ],
   "source": [
    "# tagging the test sentences\n",
    "start = time.time()\n",
    "tagged_seq = Viterbi_Transition(validation_tagged_words)\n",
    "end = time.time()\n",
    "difference = end-start\n",
    "\n",
    "print(\"Time taken in seconds: \", difference)\n",
    "print(\"First 20 Tagged Sequence:\\n\",'\\n',tagged_seq[:20])\n",
    "\n",
    "\n",
    "# accuracy\n",
    "check = [i for i, j in zip(tagged_seq, validation_run_base) if i == j]\n",
    "accuracy = len(check)/len(tagged_seq)\n",
    "print(\"Validation set accuracy on modified viterbi model(probabilistic): \",accuracy)"
   ]
  },
  {
   "cell_type": "markdown",
   "metadata": {},
   "source": [
    "<font color = Borwn size = 5>  3.2 Identifying incorrect tagged cases </font>"
   ]
  },
  {
   "cell_type": "code",
   "execution_count": 41,
   "metadata": {},
   "outputs": [
    {
     "data": {
      "text/plain": [
       "[[('lobbyists', 'NOUN'), (('as', 'ADP'), ('as', 'ADV'))],\n",
       " [('genie', 'NOUN'), (('back', 'PRT'), ('back', 'ADV'))],\n",
       " [('lawsuit', 'NOUN'), (('challenging', 'NOUN'), ('challenging', 'VERB'))],\n",
       " [('the', 'DET'), (('band-wagon', 'NOUN'), ('band-wagon', 'ADJ'))],\n",
       " [('days', 'NOUN'), (('picks', 'NOUN'), ('picks', 'VERB'))],\n",
       " [('Jefferson', 'NOUN'), (('dissolves', 'NOUN'), ('dissolves', 'VERB'))],\n",
       " [('take', 'VERB'), (('away', 'ADV'), ('away', 'PRT'))],\n",
       " [('his', 'PRON'), (('finest', 'VERB'), ('finest', 'ADJ'))],\n",
       " [('Moody', 'NOUN'), ((\"'s\", 'PRT'), (\"'s\", 'VERB'))],\n",
       " [('move', 'NOUN'), (('that', 'ADP'), ('that', 'DET'))],\n",
       " [('its', 'PRON'), (('borrowings', 'VERB'), ('borrowings', 'NOUN'))],\n",
       " [('and', 'CONJ'), (('signal', 'NOUN'), ('signal', 'VERB'))],\n",
       " [('To', 'PRT'), (('further', 'ADJ'), ('further', 'ADV'))],\n",
       " [('further', 'ADV'), (('load', 'NOUN'), ('load', 'VERB'))],\n",
       " [('Lane', 'NOUN'), (('dreamed', 'NOUN'), ('dreamed', 'VERB'))],\n",
       " [('highly', 'ADV'), (('improbable', 'VERB'), ('improbable', 'ADJ'))],\n",
       " [(\"'s\", 'PRT'), (('shop', 'VERB'), ('shop', 'NOUN'))],\n",
       " [('expensive', 'ADJ'), (('high-rise', 'NOUN'), ('high-rise', 'ADJ'))],\n",
       " [('of', 'ADP'), (('Mercer', 'DET'), ('Mercer', 'NOUN'))],\n",
       " [('*-1', 'X'), (('marketing', 'NOUN'), ('marketing', 'VERB'))],\n",
       " [('on', 'ADP'), (('Novell', 'DET'), ('Novell', 'NOUN'))],\n",
       " [(\"'s\", 'PRT'), (('NetWare', 'VERB'), ('NetWare', 'NOUN'))],\n",
       " [('network', 'NOUN'), (('operating', 'NOUN'), ('operating', 'VERB'))],\n",
       " [('*-1', 'X'), (('single-A', 'VERB'), ('single-A', 'ADJ'))],\n",
       " [('a', 'DET'), (('run', 'VERB'), ('run', 'NOUN'))],\n",
       " [('*T*-2', 'X'), (('Mike', 'VERB'), ('Mike', 'NOUN'))],\n",
       " [('at', 'ADP'), (('DDB', 'DET'), ('DDB', 'NOUN'))],\n",
       " [('not', 'ADV'), (('there', 'DET'), ('there', 'ADV'))],\n",
       " [('*T*-1', 'X'), (('Cedric', 'VERB'), ('Cedric', 'NOUN'))],\n",
       " [('the', 'DET'), (('Andean', 'NOUN'), ('Andean', 'ADJ'))],\n",
       " [('will', 'VERB'), (('rule', 'NOUN'), ('rule', 'VERB'))],\n",
       " [('on', 'ADP'), (('viewing', 'DET'), ('viewing', 'VERB'))],\n",
       " [('especially', 'ADV'), (('absurd', 'VERB'), ('absurd', 'ADJ'))],\n",
       " [('of', 'ADP'), (('Marina', 'DET'), ('Marina', 'NOUN'))],\n",
       " [('Marina', 'NOUN'), (('del', 'NOUN'), ('del', 'DET'))],\n",
       " [('for', 'ADP'), (('alleged', 'ADJ'), ('alleged', 'VERB'))],\n",
       " [('of', 'ADP'), (('reporting', 'NOUN'), ('reporting', 'VERB'))],\n",
       " [('in', 'ADP'), (('excess', 'ADJ'), ('excess', 'NOUN'))],\n",
       " [(',', '.'), (('publishing', 'NOUN'), ('publishing', 'VERB'))],\n",
       " [('straight', 'ADJ'), (('scoop', 'VERB'), ('scoop', 'NOUN'))],\n",
       " [('a', 'DET'), (('marvelously', 'NOUN'), ('marvelously', 'ADV'))],\n",
       " [('marvelously', 'ADV'), (('loose', 'NOUN'), ('loose', 'ADJ'))],\n",
       " [('to', 'PRT'), (('rebound', 'NOUN'), ('rebound', 'VERB'))],\n",
       " [('for', 'ADP'), (('managements', 'DET'), ('managements', 'NOUN'))],\n",
       " [('would', 'VERB'), (('slow', 'ADJ'), ('slow', 'VERB'))],\n",
       " [('have', 'VERB'), (('accounted', 'X'), ('accounted', 'VERB'))],\n",
       " [('for', 'ADP'), (('as', 'ADP'), ('as', 'ADV'))],\n",
       " [('health', 'NOUN'), (('care', 'VERB'), ('care', 'NOUN'))],\n",
       " [('care', 'NOUN'), (('providers', 'X'), ('providers', 'NOUN'))],\n",
       " [('and', 'CONJ'), (('that', 'DET'), ('that', 'ADP'))],\n",
       " [('of', 'ADP'), (('pregnant', 'DET'), ('pregnant', 'ADJ'))],\n",
       " [('of', 'ADP'), (('Rothschild', 'DET'), ('Rothschild', 'NOUN'))],\n",
       " [('might', 'VERB'), (('speed', 'NOUN'), ('speed', 'VERB'))],\n",
       " [('``', '.'), (('photographic', 'NOUN'), ('photographic', 'ADJ'))],\n",
       " [('confidence', 'NOUN'), (('stayed', 'NOUN'), ('stayed', 'VERB'))],\n",
       " [('the', 'DET'), (('unsettling', 'NOUN'), ('unsettling', 'ADJ'))],\n",
       " [('for', 'ADP'), (('durable', 'DET'), ('durable', 'ADJ'))],\n",
       " [('up', 'ADV'), (('0.2', 'VERB'), ('0.2', 'NUM'))],\n",
       " [('$', '.'), (('127.03', 'NOUN'), ('127.03', 'NUM'))],\n",
       " [('month', 'NOUN'), (('before', 'ADP'), ('before', 'ADV'))],\n",
       " [('at', 'ADP'), (('UBS', 'DET'), ('UBS', 'NOUN'))],\n",
       " [('fairly', 'ADV'), (('irrelevant', 'VERB'), ('irrelevant', 'ADJ'))],\n",
       " [('of', 'ADP'), (('830,000', 'DET'), ('830,000', 'NUM'))],\n",
       " [('of', 'ADP'), (('softening', 'NOUN'), ('softening', 'VERB'))],\n",
       " [('in', 'ADP'), (('working', 'ADJ'), ('working', 'VERB'))],\n",
       " [('company', 'NOUN'), (('plugged', 'NOUN'), ('plugged', 'VERB'))],\n",
       " [('itself', 'PRON'), (('right', 'NOUN'), ('right', 'ADV'))],\n",
       " [('Reagan', 'NOUN'), ((\"'80s\", 'NOUN'), (\"'80s\", 'NUM'))],\n",
       " [('which', 'DET'), (('*T*-141', 'NOUN'), ('*T*-141', 'X'))],\n",
       " [('SWITCHING', 'VERB'), (('TO', 'X'), ('TO', 'PRT'))],\n",
       " [('them', 'PRON'), (('out', 'PRT'), ('out', 'ADP'))],\n",
       " [('be', 'VERB'), (('deprived', 'X'), ('deprived', 'VERB'))],\n",
       " [('of', 'ADP'), (('continuous', 'DET'), ('continuous', 'ADJ'))],\n",
       " [('to', 'PRT'), (('fund', 'NOUN'), ('fund', 'VERB'))],\n",
       " [('#', '.'), (('14.13', 'NOUN'), ('14.13', 'NUM'))],\n",
       " [('best', 'ADJ'), (('known', 'ADJ'), ('known', 'VERB'))],\n",
       " [('approach', 'NOUN'), (('that', 'ADP'), ('that', 'DET'))],\n",
       " [('two', 'NUM'), (('midsized', 'ADJ'), ('midsized', 'VERB'))],\n",
       " [('cars', 'NOUN'), (('that', 'ADP'), ('that', 'DET'))],\n",
       " [('maker', 'NOUN'), (('record', 'NOUN'), ('record', 'VERB'))],\n",
       " [('the', 'DET'), (('top-selling', 'NOUN'), ('top-selling', 'ADJ'))],\n",
       " [('yielding', 'VERB'), (('9.32', 'X'), ('9.32', 'NUM'))],\n",
       " [('a', 'DET'), (('12-year', 'NOUN'), ('12-year', 'ADJ'))],\n",
       " [('of', 'ADP'), (('school-sponsored', 'DET'), ('school-sponsored', 'ADJ'))],\n",
       " [('a', 'DET'), (('free-lance', 'NOUN'), ('free-lance', 'ADJ'))],\n",
       " [('an', 'DET'), (('all-cash', 'NOUN'), ('all-cash', 'ADJ'))],\n",
       " [('was', 'VERB'), (('crowded', 'X'), ('crowded', 'VERB'))],\n",
       " [('who', 'PRON'), (('*T*-98', 'VERB'), ('*T*-98', 'X'))],\n",
       " [('the', 'DET'), (('most', 'ADJ'), ('most', 'ADV'))],\n",
       " [(':', '.'), (('day-care', 'NOUN'), ('day-care', 'ADJ'))],\n",
       " [('day-care', 'ADJ'), (('centers', 'VERB'), ('centers', 'NOUN'))],\n",
       " [('centers', 'NOUN'), (('that', 'ADP'), ('that', 'DET'))],\n",
       " [('People', 'NOUN'), (('close', 'VERB'), ('close', 'ADJ'))],\n",
       " [('to', 'PRT'), (('guarantee', 'NOUN'), ('guarantee', 'VERB'))],\n",
       " [('estimated', 'VERB'),\n",
       "  (('seven-million-ton', 'X'), ('seven-million-ton', 'ADJ'))],\n",
       " [('seven-million-ton', 'ADJ'), (('cut', 'VERB'), ('cut', 'NOUN'))],\n",
       " [('emissions', 'NOUN'), (('that', 'ADP'), ('that', 'DET'))],\n",
       " [('to', 'PRT'), (('acid', 'ADJ'), ('acid', 'NOUN'))],\n",
       " [('meetings', 'NOUN'), (('next', 'ADP'), ('next', 'ADJ'))],\n",
       " [('and', 'CONJ'), (('Soviet', 'ADJ'), ('Soviet', 'NOUN'))],\n",
       " [('waters', 'NOUN'), (('off', 'PRT'), ('off', 'ADP'))],\n",
       " [('off', 'ADP'), (('Malta', 'VERB'), ('Malta', 'NOUN'))],\n",
       " [('.', '.'), (('Common', 'NOUN'), ('Common', 'ADJ'))],\n",
       " [('$', '.'), (('132,000', 'NOUN'), ('132,000', 'NUM'))],\n",
       " [('with', 'ADP'), (('neutrons', 'DET'), ('neutrons', 'NOUN'))],\n",
       " [('process', 'NOUN'), (('that', 'ADP'), ('that', 'DET'))],\n",
       " [('for', 'ADP'), (('large-scale', 'DET'), ('large-scale', 'ADJ'))],\n",
       " [('leading', 'VERB'), (('proponent', 'X'), ('proponent', 'NOUN'))],\n",
       " [('``', '.'), (('peaceful', 'NOUN'), ('peaceful', 'ADJ'))],\n",
       " [('a', 'DET'), (('catch', 'VERB'), ('catch', 'NOUN'))],\n",
       " [('of', 'ADP'), (('Western', 'NOUN'), ('Western', 'ADJ'))],\n",
       " [('seduce', 'VERB'), (('socialist', 'X'), ('socialist', 'ADJ'))],\n",
       " [('the', 'DET'), (('capitalist', 'NOUN'), ('capitalist', 'ADJ'))],\n",
       " [('record', 'NOUN'), (('corn-buying', 'NOUN'), ('corn-buying', 'ADJ'))],\n",
       " [('the', 'DET'), (('Soviet', 'ADJ'), ('Soviet', 'NOUN'))],\n",
       " [('at', 'ADP'), (('60.36', 'DET'), ('60.36', 'NUM'))],\n",
       " [('the', 'DET'), (('past', 'ADJ'), ('past', 'NOUN'))],\n",
       " [('can', 'VERB'), (('steal', 'X'), ('steal', 'VERB'))],\n",
       " [('with', 'ADP'), (('Premier', 'DET'), ('Premier', 'NOUN'))],\n",
       " [('Treasury', 'NOUN'), (('estimates', 'NOUN'), ('estimates', 'VERB'))],\n",
       " [('to', 'PRT'), (('aim', 'NOUN'), ('aim', 'VERB'))],\n",
       " [('been', 'VERB'), (('disruptive', 'X'), ('disruptive', 'ADJ'))],\n",
       " [('to', 'PRT'), (('offer', 'NOUN'), ('offer', 'VERB'))],\n",
       " [('a', 'DET'), (('cost-sharing', 'NOUN'), ('cost-sharing', 'ADJ'))],\n",
       " [('mechanism', 'NOUN'), (('that', 'ADP'), ('that', 'DET'))],\n",
       " [('the', 'DET'), (('clean-up', 'NOUN'), ('clean-up', 'ADJ'))],\n",
       " [('dirtiest', 'ADJ'), (('coal-fired', 'NOUN'), ('coal-fired', 'ADJ'))],\n",
       " [('from', 'ADP'), (('exorbitant', 'DET'), ('exorbitant', 'ADJ'))],\n",
       " [('sent', 'VERB'), (('shivers', 'X'), ('shivers', 'NOUN'))],\n",
       " [('won', 'VERB'), (('grant', 'VERB'), ('grant', 'NOUN'))],\n",
       " [('advised', 'VERB'), (('cheerleaders', 'X'), ('cheerleaders', 'NOUN'))],\n",
       " [('``', '.'), (('Cultural', 'NOUN'), ('Cultural', 'ADJ'))],\n",
       " [('in', 'ADP'), (('Western', 'NOUN'), ('Western', 'ADJ'))],\n",
       " [('investors', 'NOUN'), (('acquires', 'NOUN'), ('acquires', 'VERB'))],\n",
       " [('funds', 'NOUN'), (('generated', 'NOUN'), ('generated', 'VERB'))],\n",
       " [('failed', 'VERB'),\n",
       "  (('labor-management', 'NOUN'), ('labor-management', 'ADJ'))],\n",
       " [('for', 'ADP'), (('alleged', 'ADJ'), ('alleged', 'VERB'))],\n",
       " [('Artist', 'NOUN'), (('hangs', 'NOUN'), ('hangs', 'VERB'))],\n",
       " [('in', 'ADP'), (('Greenwich', 'DET'), ('Greenwich', 'NOUN'))],\n",
       " [('a', 'DET'), (('strip', 'VERB'), ('strip', 'NOUN'))],\n",
       " [('of', 'ADP'), (('Sixth', 'DET'), ('Sixth', 'NOUN'))],\n",
       " [('Avenue', 'NOUN'), (('populated', 'NOUN'), ('populated', 'VERB'))],\n",
       " [('by', 'ADP'), (('jugglers', 'DET'), ('jugglers', 'NOUN'))],\n",
       " [('other', 'ADJ'), (('good-natured', 'NOUN'), ('good-natured', 'ADJ'))],\n",
       " [('``', '.'), (('Whether', 'NOUN'), ('Whether', 'ADP'))],\n",
       " [('was', 'VERB'), (('47.1', 'X'), ('47.1', 'NUM'))],\n",
       " [('radio', 'NOUN'), (('show', 'VERB'), ('show', 'NOUN'))],\n",
       " [('``', '.'), (('enraged', 'NOUN'), ('enraged', 'VERB'))],\n",
       " [('the', 'DET'), (('Little', 'ADJ'), ('Little', 'NOUN'))],\n",
       " [('Her', 'PRON'), (('immediate', 'VERB'), ('immediate', 'ADJ'))],\n",
       " [('contradict', 'VERB'), (('that', 'ADP'), ('that', 'DET'))],\n",
       " [('-LRB-', '.'), (('technically', 'NOUN'), ('technically', 'ADV'))],\n",
       " [('the', 'DET'), (('executive', 'ADJ'), ('executive', 'NOUN'))],\n",
       " [('vehicles', 'NOUN'), (('classed', 'NOUN'), ('classed', 'VERB'))],\n",
       " [('carry', 'VERB'), (('more', 'ADV'), ('more', 'ADJ'))],\n",
       " [('and', 'CONJ'), (('therefore', 'NOUN'), ('therefore', 'ADV'))],\n",
       " [('movie', 'NOUN'), (('ends', 'NOUN'), ('ends', 'VERB'))],\n",
       " [('anything', 'NOUN'), (('whimsical', 'NOUN'), ('whimsical', 'ADJ'))],\n",
       " [('or', 'CONJ'), (('enviable', 'NOUN'), ('enviable', 'ADJ'))],\n",
       " [(',', '.'), (('beaten', 'VERB'), ('beaten', 'ADJ'))],\n",
       " [('*ICH*-1', 'X'), (('Gayle', 'VERB'), ('Gayle', 'NOUN'))],\n",
       " [('incentive', 'NOUN'), (('pay', 'VERB'), ('pay', 'NOUN'))],\n",
       " [('opened', 'VERB'), (('up', 'ADV'), ('up', 'PRT'))],\n",
       " [('a', 'DET'), (('can', 'VERB'), ('can', 'NOUN'))],\n",
       " [('of', 'ADP'), (('worms', 'DET'), ('worms', 'NOUN'))],\n",
       " [('``', '.'), (('Varying', 'NOUN'), ('Varying', 'ADJ'))],\n",
       " [('will', 'VERB'), (('slow', 'ADJ'), ('slow', 'VERB'))],\n",
       " [('have', 'VERB'), (('more', 'ADV'), ('more', 'ADJ'))],\n",
       " [('as', 'ADP'), (('athletic', 'DET'), ('athletic', 'ADJ'))],\n",
       " [('*-2', 'X'), (('to', 'PRT'), ('to', 'ADJ'))],\n",
       " [('to', 'ADJ'), (('appeal', 'VERB'), ('appeal', 'NOUN'))],\n",
       " [(',', '.'), (('immediate', 'NOUN'), ('immediate', 'ADJ'))],\n",
       " [('is', 'VERB'), (('imperative', 'X'), ('imperative', 'ADJ'))],\n",
       " [('publishes', 'VERB'), (('The', 'DET'), ('The', 'NOUN'))],\n",
       " [('10', 'NUM'), (('citizen-sparked', 'NOUN'), ('citizen-sparked', 'ADJ'))],\n",
       " [('any', 'DET'), (('odd-year', 'NOUN'), ('odd-year', 'ADJ'))],\n",
       " [('*U*', 'X'), (('charge', 'VERB'), ('charge', 'NOUN'))],\n",
       " [('$', '.'), (('12.09', 'NOUN'), ('12.09', 'NUM'))],\n",
       " [('sales', 'NOUN'), (('materialize', 'NOUN'), ('materialize', 'VERB'))],\n",
       " [('$', '.'), (('36', 'NOUN'), ('36', 'NUM'))],\n",
       " [('portfolios', 'NOUN'), (('that', 'ADP'), ('that', 'DET'))],\n",
       " [('niches', 'NOUN'), (('that', 'ADP'), ('that', 'DET'))],\n",
       " [('that', 'DET'), (('*T*-199', 'DET'), ('*T*-199', 'X'))],\n",
       " [('the', 'DET'), (('third-largest', 'NOUN'), ('third-largest', 'ADJ'))],\n",
       " [('the', 'DET'), (('fifth-largest', 'NOUN'), ('fifth-largest', 'ADJ'))],\n",
       " [('.', '.'), (('Domestic', 'NOUN'), ('Domestic', 'ADJ'))],\n",
       " [('to', 'PRT'), (('142.84', 'VERB'), ('142.84', 'NUM'))],\n",
       " [('from', 'ADP'), (('126.15', 'DET'), ('126.15', 'NUM'))],\n",
       " [('students', 'NOUN'), (('adequately', 'NOUN'), ('adequately', 'ADV'))],\n",
       " [('an', 'DET'), (('eight-count', 'NOUN'), ('eight-count', 'ADJ'))],\n",
       " [('its', 'PRON'), (('Vice', 'VERB'), ('Vice', 'NOUN'))],\n",
       " [(\"'s\", 'PRT'), (('planned', 'VERB'), ('planned', 'ADJ'))],\n",
       " [('harassment', 'NOUN'), (('consists', 'NOUN'), ('consists', 'VERB'))],\n",
       " [(\"'s\", 'PRT'), (('year-long', 'VERB'), ('year-long', 'ADJ'))],\n",
       " [('$', '.'), (('472', 'NOUN'), ('472', 'NUM'))],\n",
       " [('respected', 'VERB'), (('nameplate', 'X'), ('nameplate', 'NOUN'))],\n",
       " [('among', 'ADP'), (('American', 'ADJ'), ('American', 'NOUN'))],\n",
       " [('an', 'DET'), (('American', 'ADJ'), ('American', 'NOUN'))],\n",
       " [('company', 'NOUN'), (('distributed', 'NOUN'), ('distributed', 'VERB'))],\n",
       " [(\"'s\", 'PRT'), (('unitholders', 'VERB'), ('unitholders', 'NOUN'))],\n",
       " [('expanded', 'VERB'), (('trade', 'VERB'), ('trade', 'NOUN'))],\n",
       " [('Overseas', 'NOUN'), (('Private', 'ADJ'), ('Private', 'NOUN'))],\n",
       " [('way', 'NOUN'), (('sanctions', 'NOUN'), ('sanctions', 'VERB'))],\n",
       " [('the', 'DET'), (('dismal', 'NOUN'), ('dismal', 'ADJ'))],\n",
       " [('some', 'DET'), (('light', 'ADJ'), ('light', 'NOUN'))],\n",
       " [('the', 'DET'), (('dark', 'NOUN'), ('dark', 'ADJ'))],\n",
       " [('where', 'ADV'), (('high-stakes', 'VERB'), ('high-stakes', 'ADJ'))],\n",
       " [('has', 'VERB'), (('enhanced', 'X'), ('enhanced', 'VERB'))],\n",
       " [('.', '.'), (('Separately', 'ADV'), ('Separately', 'NOUN'))],\n",
       " [(\"n't\", 'ADV'), (('hospitable', 'VERB'), ('hospitable', 'ADJ'))],\n",
       " [('$', '.'), (('214', 'NOUN'), ('214', 'NUM'))],\n",
       " [('%', 'NOUN'), (('rise', 'VERB'), ('rise', 'NOUN'))],\n",
       " [(',', '.'), (('reports', 'NOUN'), ('reports', 'VERB'))],\n",
       " [('due', 'ADJ'), (('1995', 'NOUN'), ('1995', 'NUM'))],\n",
       " [('fell', 'VERB'), (('9\\\\/32', 'X'), ('9\\\\/32', 'NUM'))],\n",
       " [('to', 'PRT'), (('103', 'VERB'), ('103', 'NUM'))],\n",
       " [('yield', 'VERB'), (('11.10', 'X'), ('11.10', 'NUM'))],\n",
       " [('The', 'DET'), (('sad', 'NOUN'), ('sad', 'ADJ'))],\n",
       " [('performers', 'NOUN'), (('first', 'ADJ'), ('first', 'ADV'))],\n",
       " [('ended', 'VERB'), (('Sept.30', 'X'), ('Sept.30', 'NUM'))],\n",
       " [('earned', 'VERB'), (('16.68', 'X'), ('16.68', 'NUM'))],\n",
       " [('US$', '.'), (('116.7', 'NOUN'), ('116.7', 'NUM'))],\n",
       " [('from', 'ADP'), (('12.68', 'DET'), ('12.68', 'NUM'))],\n",
       " [('.', '.'), (('Fourteen', 'NOUN'), ('Fourteen', 'NUM'))],\n",
       " [('with', 'ADP'), (('jurisdiction', 'DET'), ('jurisdiction', 'NOUN'))],\n",
       " [('his', 'PRON'), (('judgment', 'VERB'), ('judgment', 'NOUN'))],\n",
       " [('a', 'DET'), (('stable', 'ADJ'), ('stable', 'NOUN'))],\n",
       " [('-RRB-', '.'), (('deluxe', 'NOUN'), ('deluxe', 'ADJ'))],\n",
       " [(',', '.'), (('rarefied', 'NOUN'), ('rarefied', 'VERB'))],\n",
       " [('which', 'DET'), (('identical', 'NOUN'), ('identical', 'ADJ'))],\n",
       " [('Bush', 'NOUN'), (('loses', 'NOUN'), ('loses', 'VERB'))],\n",
       " [('as', 'ADP'), (('Morrison', 'DET'), ('Morrison', 'NOUN'))],\n",
       " [('way', 'NOUN'), (('out', 'PRT'), ('out', 'ADP'))],\n",
       " [('be', 'VERB'), (('depressed', 'X'), ('depressed', 'VERB'))],\n",
       " [('depressed', 'VERB'), (('*-92', 'VERB'), ('*-92', 'X'))],\n",
       " [('$', '.'), (('184', 'NOUN'), ('184', 'NUM'))],\n",
       " [('for', 'ADP'), (('*-30', 'DET'), ('*-30', 'X'))],\n",
       " [('a', 'DET'), (('holding', 'NOUN'), ('holding', 'VERB'))],\n",
       " [('insist', 'VERB'), (('on', 'ADP'), ('on', 'PRT'))],\n",
       " [('jumping', 'VERB'), (('in', 'ADP'), ('in', 'ADV'))],\n",
       " [('party', 'NOUN'), (('late', 'ADJ'), ('late', 'ADV'))],\n",
       " [('be', 'VERB'), (('ready', 'X'), ('ready', 'ADJ'))],\n",
       " [('the', 'DET'), (('audit', 'VERB'), ('audit', 'NOUN'))],\n",
       " [(\"'s\", 'PRT'), (('stand', 'VERB'), ('stand', 'NOUN'))],\n",
       " [('best', 'ADJ'), (('female', 'ADJ'), ('female', 'NOUN'))],\n",
       " [('third-quarter', 'NOUN'), (('net', 'NOUN'), ('net', 'ADJ'))],\n",
       " [(',', '.'), (('versus', 'NOUN'), ('versus', 'CONJ'))],\n",
       " [('versus', 'CONJ'), (('net', 'NOUN'), ('net', 'ADJ'))],\n",
       " [('$', '.'), (('5.3', 'NOUN'), ('5.3', 'NUM'))],\n",
       " [('$', '.'), (('1.61', 'NOUN'), ('1.61', 'NUM'))],\n",
       " [('year', 'NOUN'), (('earlier', 'ADV'), ('earlier', 'ADJ'))],\n",
       " [('breakers', 'NOUN'), (('that', 'ADP'), ('that', 'DET'))],\n",
       " [('that', 'DET'), (('*T*-215', 'DET'), ('*T*-215', 'X'))],\n",
       " [('peaks', 'NOUN'), (('earlier', 'ADV'), ('earlier', 'ADJ'))],\n",
       " [('government', 'NOUN'), (('curtailed', 'NOUN'), ('curtailed', 'VERB'))],\n",
       " [('with', 'ADP'), (('land-idling', 'DET'), ('land-idling', 'ADJ'))],\n",
       " [('reduce', 'VERB'),\n",
       "  (('price-depressing', 'X'), ('price-depressing', 'ADJ'))],\n",
       " [('price-depressing', 'ADJ'), (('surpluses', 'VERB'), ('surpluses', 'NOUN'))],\n",
       " [('driving', 'VERB'), (('force', 'VERB'), ('force', 'NOUN'))],\n",
       " [('is', 'VERB'), (('sufficient', 'X'), ('sufficient', 'ADJ'))],\n",
       " [('plunged', 'VERB'), (('about', 'ADP'), ('about', 'ADV'))],\n",
       " [('succeeding', 'VERB'), (('Delmont', 'X'), ('Delmont', 'NOUN'))],\n",
       " [('chief', 'NOUN'), (('operating', 'NOUN'), ('operating', 'VERB'))],\n",
       " [('were', 'VERB'), (('tidily', 'X'), ('tidily', 'ADV'))],\n",
       " [(',', '.'), (('847', 'NOUN'), ('847', 'NUM'))],\n",
       " [('to', 'PRT'), (('644', 'VERB'), ('644', 'NUM'))],\n",
       " [('a', 'DET'), (('leading', 'VERB'), ('leading', 'ADJ'))],\n",
       " [('are', 'VERB'), (('no', 'DET'), ('no', 'ADV'))],\n",
       " [('longer', 'ADJ'), (('subject', 'NOUN'), ('subject', 'ADJ'))],\n",
       " [('major', 'ADJ'), (('plus', 'CONJ'), ('plus', 'NOUN'))],\n",
       " [('our', 'PRON'), (('view', 'VERB'), ('view', 'NOUN'))],\n",
       " [('a', 'DET'), (('whirling', 'NOUN'), ('whirling', 'ADJ'))],\n",
       " [('through', 'ADP'), (('supermarket', 'DET'), ('supermarket', 'NOUN'))],\n",
       " [('``', '.'), (('Little', 'NOUN'), ('Little', 'ADV'))],\n",
       " [('by', 'ADP'), (('little', 'ADJ'), ('little', 'ADV'))],\n",
       " [('on', 'ADP'), (('Judicial', 'DET'), ('Judicial', 'NOUN'))],\n",
       " [('which', 'DET'), (('*T*-138', 'NOUN'), ('*T*-138', 'X'))],\n",
       " [('is', 'VERB'), (('empowered', 'X'), ('empowered', 'VERB'))],\n",
       " [('gained', 'VERB'), (('16.05', 'X'), ('16.05', 'NUM'))],\n",
       " [('down', 'ADV'), (('1.46', 'VERB'), ('1.46', 'NUM'))],\n",
       " [('or', 'CONJ'), (('0.05', 'NOUN'), ('0.05', 'NUM'))],\n",
       " [('at', 'ADP'), (('2691.19', 'DET'), ('2691.19', 'NUM'))],\n",
       " [('seeking', 'VERB'), (('comment', 'VERB'), ('comment', 'NOUN'))],\n",
       " [('Hallett', 'NOUN'), (('mistakenly', 'NOUN'), ('mistakenly', 'ADV'))],\n",
       " [('on', 'ADP'), (('66.5', 'DET'), ('66.5', 'NUM'))],\n",
       " [('By', 'ADP'), (('1997', 'DET'), ('1997', 'NUM'))],\n",
       " [('remaining', 'VERB'), (('uses', 'VERB'), ('uses', 'NOUN'))],\n",
       " [('of', 'ADP'), (('cancer-causing', 'DET'), ('cancer-causing', 'ADJ'))],\n",
       " [('be', 'VERB'), (('outlawed', 'X'), ('outlawed', 'VERB'))],\n",
       " [('partly', 'ADV'), (('one', 'NUM'), ('one', 'NOUN'))],\n",
       " [('then', 'ADV'), (('overseas', 'ADJ'), ('overseas', 'ADV'))],\n",
       " [('$', '.'), (('27.1', 'NOUN'), ('27.1', 'NUM'))],\n",
       " [('bill', 'NOUN'), (('that', 'ADP'), ('that', 'DET'))],\n",
       " [(\"'s\", 'PRT'), (('95', 'VERB'), ('95', 'NUM'))],\n",
       " [('about', 'ADP'), (('24,000', 'DET'), ('24,000', 'NUM'))],\n",
       " [('its', 'PRON'), (('offer', 'VERB'), ('offer', 'NOUN'))],\n",
       " [('The', 'DET'), (('assistant', 'NOUN'), ('assistant', 'ADJ'))],\n",
       " [('joining', 'VERB'), (('forces', 'VERB'), ('forces', 'NOUN'))],\n",
       " [('the', 'DET'), (('American', 'ADJ'), ('American', 'NOUN'))],\n",
       " [('times', 'NOUN'), (('as', 'ADP'), ('as', 'ADV'))],\n",
       " [('the', 'DET'), (('underlying', 'ADJ'), ('underlying', 'VERB'))],\n",
       " [('loaded', 'VERB'), (('south', 'X'), ('south', 'ADV'))],\n",
       " [('the', 'DET'), (('1980s', 'NOUN'), ('1980s', 'NUM'))],\n",
       " [('the', 'DET'), (('more', 'ADJ'), ('more', 'ADV'))],\n",
       " [('the', 'DET'), (('1990s', 'NOUN'), ('1990s', 'NUM'))],\n",
       " [('in', 'ADP'), (('Napa', 'DET'), ('Napa', 'NOUN'))],\n",
       " [(',', '.'), (('traced', 'NOUN'), ('traced', 'VERB'))],\n",
       " [('.', '.'), (('Advancing', 'NOUN'), ('Advancing', 'VERB'))],\n",
       " [('led', 'VERB'), (('decliners', 'X'), ('decliners', 'NOUN'))],\n",
       " [('by', 'ADP'), (('847', 'DET'), ('847', 'NUM'))],\n",
       " [('to', 'PRT'), (('644', 'VERB'), ('644', 'NUM'))]]"
      ]
     },
     "execution_count": 41,
     "metadata": {},
     "output_type": "execute_result"
    }
   ],
   "source": [
    "incorrect_tagged_cases = [[validation_run_base[i-1],j] for i, j in enumerate(zip(tagged_seq, validation_run_base)) if j[0]!=j[1]]\n",
    "incorrect_tagged_cases"
   ]
  },
  {
   "cell_type": "code",
   "execution_count": 42,
   "metadata": {},
   "outputs": [
    {
     "name": "stdout",
     "output_type": "stream",
     "text": [
      "length of incorrect tagged words using modified viterbi model(probabilistic):  311\n"
     ]
    }
   ],
   "source": [
    "print(\"length of incorrect tagged words using modified viterbi model(probabilistic): \",len(incorrect_tagged_cases))"
   ]
  },
  {
   "cell_type": "markdown",
   "metadata": {},
   "source": [
    "<font color = Borwn size = 5>  3.3  Evaluating tagging accuracy on test set </font>"
   ]
  },
  {
   "cell_type": "code",
   "execution_count": 43,
   "metadata": {},
   "outputs": [
    {
     "name": "stdout",
     "output_type": "stream",
     "text": [
      "Test set accuracy on modified viterbi model(probabilistic):  0.861878453038674\n"
     ]
    }
   ],
   "source": [
    "tagged_seq_test = Viterbi_Transition(test_words)\n",
    "#Testset accuracy\n",
    "check = [i for i, j in zip(tagged_seq_test, test_run_base) if i == j]\n",
    "accuracy_t = len(check)/len(tagged_seq_test)\n",
    "print(\"Test set accuracy on modified viterbi model(probabilistic): \",accuracy_t)"
   ]
  },
  {
   "cell_type": "code",
   "execution_count": 44,
   "metadata": {},
   "outputs": [
    {
     "data": {
      "text/html": [
       "<div>\n",
       "<style scoped>\n",
       "    .dataframe tbody tr th:only-of-type {\n",
       "        vertical-align: middle;\n",
       "    }\n",
       "\n",
       "    .dataframe tbody tr th {\n",
       "        vertical-align: top;\n",
       "    }\n",
       "\n",
       "    .dataframe thead th {\n",
       "        text-align: right;\n",
       "    }\n",
       "</style>\n",
       "<table border=\"1\" class=\"dataframe\">\n",
       "  <thead>\n",
       "    <tr style=\"text-align: right;\">\n",
       "      <th></th>\n",
       "      <th>Method</th>\n",
       "      <th>Validation_Accuracy</th>\n",
       "      <th>Test_Accuracy</th>\n",
       "      <th>Number of Incorrect Tagged Words</th>\n",
       "    </tr>\n",
       "  </thead>\n",
       "  <tbody>\n",
       "    <tr>\n",
       "      <th>0</th>\n",
       "      <td>VanilaViterbi</td>\n",
       "      <td>0.905302</td>\n",
       "      <td>0.756906</td>\n",
       "      <td>484</td>\n",
       "    </tr>\n",
       "    <tr>\n",
       "      <th>0</th>\n",
       "      <td>Modified Viterbi (Frequently tagged tag)</td>\n",
       "      <td>0.938955</td>\n",
       "      <td>0.911602</td>\n",
       "      <td>312</td>\n",
       "    </tr>\n",
       "    <tr>\n",
       "      <th>0</th>\n",
       "      <td>Modified Viterbi (Probabilistic)</td>\n",
       "      <td>0.939151</td>\n",
       "      <td>0.861878</td>\n",
       "      <td>311</td>\n",
       "    </tr>\n",
       "  </tbody>\n",
       "</table>\n",
       "</div>"
      ],
      "text/plain": [
       "                                     Method  Validation_Accuracy  \\\n",
       "0                             VanilaViterbi             0.905302   \n",
       "0  Modified Viterbi (Frequently tagged tag)             0.938955   \n",
       "0          Modified Viterbi (Probabilistic)             0.939151   \n",
       "\n",
       "   Test_Accuracy  Number of Incorrect Tagged Words  \n",
       "0       0.756906                               484  \n",
       "0       0.911602                               312  \n",
       "0       0.861878                               311  "
      ]
     },
     "execution_count": 44,
     "metadata": {},
     "output_type": "execute_result"
    }
   ],
   "source": [
    "#combined results of previous modified viterbi along with Probabilistic model:\n",
    "tempResults = pd.DataFrame({'Method':['Modified Viterbi (Probabilistic)'], 'Validation_Accuracy': [accuracy],'Test_Accuracy': [accuracy_t],'Number of Incorrect Tagged Words': len(incorrect_tagged_cases) })\n",
    "results = pd.concat([results, tempResults])\n",
    "results = results[['Method', 'Validation_Accuracy', 'Test_Accuracy','Number of Incorrect Tagged Words']]\n",
    "results"
   ]
  },
  {
   "cell_type": "markdown",
   "metadata": {},
   "source": [
    "Probabilistic model has performed better than plain viterbi "
   ]
  },
  {
   "cell_type": "markdown",
   "metadata": {},
   "source": [
    "<font color = Blue size = 5>  Approach 3:  Rule Based  </font>"
   ]
  },
  {
   "cell_type": "markdown",
   "metadata": {},
   "source": [
    "- Rule Based technique for handling the unknown words, by modified Viterbi Algorithm. \n",
    "- If the state of the word is zero then use rule based engine, to tag the vocabulary to the words.\n",
    "- Defining the rules using regular expressions to tag."
   ]
  },
  {
   "cell_type": "markdown",
   "metadata": {},
   "source": [
    "<font color = Brown size=5 >  4. Rule Based Viterbi Heuristics: </font>"
   ]
  },
  {
   "cell_type": "code",
   "execution_count": 45,
   "metadata": {},
   "outputs": [],
   "source": [
    "# Defining the patterns using regular expression and tag based on these rules\n",
    "patterns =[\n",
    "    (r'^([0-9]|[aA-zZ])+\\-([0-9]|[aA-zZ])*$','ADJ'), # words such as '10-lap','30-day','York-based'\n",
    "    (r'.*able$', 'ADJ'),                     # words ending with 'able' such as 'questionable'\n",
    "    (r'.*ful$', 'ADJ'),                      # words ending with 'ful' such as 'useful'\n",
    "    (r'.*ous$', 'ADJ'),                      # words ending with 'ous' such as 'Previous'\n",
    "    \n",
    "    (r'.*\\'s$', 'NOUN'),                     # possessive nouns\n",
    "    (r'.*s$', 'NOUN'),                       # plural nouns\n",
    "    (r'^[aA-zZ].*[0-9]+','NOUN'),            # Alpha Numeric such as Door Number, Street Number etc\n",
    "    (r'.*ers$', 'NOUN'),                     # words ending with 'ers' such as 'filters','workers'\n",
    "    (r'.*ment$', 'NOUN'),                    # words ending with 'ment' such as 'reinvestment' \n",
    "    (r'.*town$', 'NOUN'),                    # words ending with 'town' such as 'town','downtown'  \n",
    "    (r'.*ness$', 'NOUN'),                    # words ending with 'ness' such as 'sluggishness' \n",
    "    (r'^[A-Z]+([a-z]{1,2})?\\.?$','NOUN'),    # words such as 'Nov.','Mr.','Inc.'\n",
    "    \n",
    "    (r'[aA-zZ]+(ed|ing|es)$', 'VERB'),       # words ending with 'ed' or 'ing' or 'es'    \n",
    "    (r'.*ly$', 'ADV'),                       # words ending with 'ly'\n",
    "    \n",
    "    (r'^[0-9]+(.[0-9]+)?$', 'NUM'),          # cardinal numbers such as 61, 1956, 9.8, 8.45, 352.7        \n",
    "    (r'^(0|([*|-|$].*))','X'),               # words such as '*', '0', *-1', '*T*-1', '*ICH*-1', '*?*'   \n",
    "    \n",
    "    (r'(The|the|A|a|An|an|That|that|This|this|Those|those|These|these)$', 'DET'), # determinants     \n",
    "    (r'.*', 'NOUN')  \n",
    "    ]\n",
    "# rule based tagger\n",
    "rule_based_tagger = nltk.RegexpTagger(patterns)"
   ]
  },
  {
   "cell_type": "code",
   "execution_count": 46,
   "metadata": {},
   "outputs": [],
   "source": [
    "#modified Viterbi to include rule based tagger in it\n",
    "def Viterbi_rule_based(words, train_bag = train_tagged_words):\n",
    "    state = []\n",
    "    T = list(set([pair[1] for pair in train_bag]))\n",
    "    \n",
    "    for key, word in enumerate(words):\n",
    "        #initialise list of probability column for a given observation\n",
    "        p = [] \n",
    "        for tag in T:\n",
    "            if key == 0:\n",
    "                transition_p = tags_df.loc['.', tag]\n",
    "            else:\n",
    "                transition_p = tags_df.loc[state[-1], tag]\n",
    "                \n",
    "            # compute emission and state probabilities\n",
    "            emission_p = word_given_tag(words[key], tag)[0]/word_given_tag(words[key], tag)[1]\n",
    "            state_probability = emission_p * transition_p    \n",
    "            p.append(state_probability)\n",
    "            \n",
    "        pmax = max(p)\n",
    "        state_max = T[p.index(pmax)] \n",
    "        \n",
    "        # modified algorithm         \n",
    "        \n",
    "        if(pmax==0):\n",
    "            state_max = rule_based_tagger.tag([word])[0][1] # assign based on rule based tagger\n",
    "        else:\n",
    "            if state_max != 'X':\n",
    "                # getting state for which probability is maximum\n",
    "                state_max = T[p.index(pmax)]                \n",
    "            \n",
    "        \n",
    "        state.append(state_max)\n",
    "    return list(zip(words, state))"
   ]
  },
  {
   "cell_type": "markdown",
   "metadata": {},
   "source": [
    "<font color = Brown size=5 > 4.1 Evaluating tagging accuracy on validation set </font>"
   ]
  },
  {
   "cell_type": "code",
   "execution_count": 47,
   "metadata": {},
   "outputs": [
    {
     "name": "stdout",
     "output_type": "stream",
     "text": [
      "Time taken in seconds:  1138.8413078784943\n",
      "First 20 Tagged Sequence:\n",
      " \n",
      " [('The', 'DET'), ('Democrat', 'NOUN'), (\"'s\", 'PRT'), ('proposal', 'NOUN'), ('is', 'VERB'), ('described', 'VERB'), ('*-1', 'X'), ('by', 'ADP'), ('government', 'NOUN'), ('sources', 'NOUN'), ('and', 'CONJ'), ('lobbyists', 'NOUN'), ('as', 'ADP'), ('significantly', 'ADV'), ('weaker', 'ADJ'), ('than', 'ADP'), ('the', 'DET'), ('president', 'NOUN'), (\"'s\", 'PRT'), ('plan', 'NOUN')] \n",
      "\n",
      "Validation set accuracy on modified viterbi model(Rule Based using Regex):  0.9585208374095089\n"
     ]
    }
   ],
   "source": [
    "# tagging the test sentences\n",
    "start = time.time()\n",
    "tagged_seq = Viterbi_rule_based(validation_tagged_words)\n",
    "end = time.time()\n",
    "difference = end-start\n",
    "\n",
    "print(\"Time taken in seconds: \", difference)\n",
    "print(\"First 20 Tagged Sequence:\\n\",'\\n',tagged_seq[:20],'\\n')\n",
    "\n",
    "# accuracy\n",
    "check = [i for i, j in zip(tagged_seq, validation_run_base) if i == j]\n",
    "accuracy = len(check)/len(tagged_seq)\n",
    "print(\"Validation set accuracy on modified viterbi model(Rule Based using Regex): \",accuracy)\n"
   ]
  },
  {
   "cell_type": "markdown",
   "metadata": {},
   "source": [
    "<font color = Brown size=5 > 4.2 Identifying incorrect words </font>"
   ]
  },
  {
   "cell_type": "code",
   "execution_count": 48,
   "metadata": {},
   "outputs": [
    {
     "data": {
      "text/plain": [
       "[[('lobbyists', 'NOUN'), (('as', 'ADP'), ('as', 'ADV'))],\n",
       " [('genie', 'NOUN'), (('back', 'PRT'), ('back', 'ADV'))],\n",
       " [('A', 'DET'), (('licensing', 'VERB'), ('licensing', 'NOUN'))],\n",
       " [('to', 'PRT'), (('contest', 'NOUN'), ('contest', 'VERB'))],\n",
       " [('days', 'NOUN'), (('picks', 'NOUN'), ('picks', 'VERB'))],\n",
       " [('Jefferson', 'NOUN'), (('dissolves', 'NOUN'), ('dissolves', 'VERB'))],\n",
       " [('take', 'VERB'), (('away', 'ADV'), ('away', 'PRT'))],\n",
       " [('his', 'PRON'), (('finest', 'NOUN'), ('finest', 'ADJ'))],\n",
       " [('Moody', 'NOUN'), ((\"'s\", 'PRT'), (\"'s\", 'VERB'))],\n",
       " [('move', 'NOUN'), (('that', 'ADP'), ('that', 'DET'))],\n",
       " [('and', 'CONJ'), (('signal', 'NOUN'), ('signal', 'VERB'))],\n",
       " [('To', 'PRT'), (('further', 'ADJ'), ('further', 'ADV'))],\n",
       " [('further', 'ADV'), (('load', 'NOUN'), ('load', 'VERB'))],\n",
       " [('dreamed', 'VERB'), (('up', 'ADV'), ('up', 'PRT'))],\n",
       " [('.', '.'), (('Weatherly', 'ADV'), ('Weatherly', 'NOUN'))],\n",
       " [('*-1', 'X'), (('marketing', 'NOUN'), ('marketing', 'VERB'))],\n",
       " [('network', 'NOUN'), (('operating', 'NOUN'), ('operating', 'VERB'))],\n",
       " [('a', 'DET'), (('run', 'VERB'), ('run', 'NOUN'))],\n",
       " [('not', 'ADV'), (('there', 'DET'), ('there', 'ADV'))],\n",
       " [('drug', 'NOUN'), (('trafficking', 'VERB'), ('trafficking', 'NOUN'))],\n",
       " [('the', 'DET'), (('Andean', 'NOUN'), ('Andean', 'ADJ'))],\n",
       " [('will', 'VERB'), (('rule', 'NOUN'), ('rule', 'VERB'))],\n",
       " [('especially', 'ADV'), (('absurd', 'NOUN'), ('absurd', 'ADJ'))],\n",
       " [('to', 'PRT'), (('inform', 'NOUN'), ('inform', 'VERB'))],\n",
       " [('Marina', 'NOUN'), (('del', 'NOUN'), ('del', 'DET'))],\n",
       " [('for', 'ADP'), (('alleged', 'ADJ'), ('alleged', 'VERB'))],\n",
       " [('of', 'ADP'), (('reporting', 'NOUN'), ('reporting', 'VERB'))],\n",
       " [('in', 'ADP'), (('excess', 'ADJ'), ('excess', 'NOUN'))],\n",
       " [(',', '.'), (('publishing', 'NOUN'), ('publishing', 'VERB'))],\n",
       " [('straight', 'ADJ'), (('scoop', 'VERB'), ('scoop', 'NOUN'))],\n",
       " [('marvelously', 'ADV'), (('loose', 'NOUN'), ('loose', 'ADJ'))],\n",
       " [('to', 'PRT'), (('rebound', 'NOUN'), ('rebound', 'VERB'))],\n",
       " [('would', 'VERB'), (('slow', 'ADJ'), ('slow', 'VERB'))],\n",
       " [('for', 'ADP'), (('as', 'ADP'), ('as', 'ADV'))],\n",
       " [('the', 'DET'), (('sterling', 'VERB'), ('sterling', 'NOUN'))],\n",
       " [('health', 'NOUN'), (('care', 'VERB'), ('care', 'NOUN'))],\n",
       " [('and', 'CONJ'), (('that', 'DET'), ('that', 'ADP'))],\n",
       " [('of', 'ADP'), (('pregnant', 'NOUN'), ('pregnant', 'ADJ'))],\n",
       " [('might', 'VERB'), (('speed', 'NOUN'), ('speed', 'VERB'))],\n",
       " [('``', '.'), (('photographic', 'NOUN'), ('photographic', 'ADJ'))],\n",
       " [('the', 'DET'), (('unsettling', 'VERB'), ('unsettling', 'ADJ'))],\n",
       " [('month', 'NOUN'), (('before', 'ADP'), ('before', 'ADV'))],\n",
       " [('fairly', 'ADV'), (('irrelevant', 'NOUN'), ('irrelevant', 'ADJ'))],\n",
       " [('of', 'ADP'), (('softening', 'NOUN'), ('softening', 'VERB'))],\n",
       " [('in', 'ADP'), (('working', 'ADJ'), ('working', 'VERB'))],\n",
       " [('itself', 'PRON'), (('right', 'NOUN'), ('right', 'ADV'))],\n",
       " [('Reagan', 'NOUN'), ((\"'80s\", 'NOUN'), (\"'80s\", 'NUM'))],\n",
       " [('*', 'X'), (('SWITCHING', 'NOUN'), ('SWITCHING', 'VERB'))],\n",
       " [('SWITCHING', 'VERB'), (('TO', 'NOUN'), ('TO', 'PRT'))],\n",
       " [('*', 'X'), (('Choose', 'NOUN'), ('Choose', 'VERB'))],\n",
       " [('them', 'PRON'), (('out', 'PRT'), ('out', 'ADP'))],\n",
       " [('to', 'PRT'), (('fund', 'NOUN'), ('fund', 'VERB'))],\n",
       " [('global', 'ADJ'), (('warming', 'VERB'), ('warming', 'NOUN'))],\n",
       " [('best', 'ADJ'), (('known', 'ADJ'), ('known', 'VERB'))],\n",
       " [('team', 'NOUN'), (('car-development', 'ADJ'), ('car-development', 'NOUN'))],\n",
       " [('approach', 'NOUN'), (('that', 'ADP'), ('that', 'DET'))],\n",
       " [('two', 'NUM'), (('midsized', 'ADJ'), ('midsized', 'VERB'))],\n",
       " [('cars', 'NOUN'), (('that', 'ADP'), ('that', 'DET'))],\n",
       " [('maker', 'NOUN'), (('record', 'NOUN'), ('record', 'VERB'))],\n",
       " [('to', 'PRT'), (('eclipse', 'NOUN'), ('eclipse', 'VERB'))],\n",
       " [('12-year', 'ADJ'), (('average', 'ADJ'), ('average', 'NOUN'))],\n",
       " [('The', 'DET'), (('school-board', 'ADJ'), ('school-board', 'NOUN'))],\n",
       " [('to', 'PRT'), (('testify', 'NOUN'), ('testify', 'VERB'))],\n",
       " [('the', 'DET'), (('most', 'ADJ'), ('most', 'ADV'))],\n",
       " [('centers', 'NOUN'), (('that', 'ADP'), ('that', 'DET'))],\n",
       " [('People', 'NOUN'), (('close', 'VERB'), ('close', 'ADJ'))],\n",
       " [('to', 'PRT'), (('guarantee', 'NOUN'), ('guarantee', 'VERB'))],\n",
       " [('estimated', 'VERB'),\n",
       "  (('seven-million-ton', 'NOUN'), ('seven-million-ton', 'ADJ'))],\n",
       " [('seven-million-ton', 'ADJ'), (('cut', 'VERB'), ('cut', 'NOUN'))],\n",
       " [('emissions', 'NOUN'), (('that', 'ADP'), ('that', 'DET'))],\n",
       " [('to', 'PRT'), (('acid', 'ADJ'), ('acid', 'NOUN'))],\n",
       " [('meetings', 'NOUN'), (('next', 'ADP'), ('next', 'ADJ'))],\n",
       " [('and', 'CONJ'), (('Soviet', 'ADJ'), ('Soviet', 'NOUN'))],\n",
       " [('waters', 'NOUN'), (('off', 'PRT'), ('off', 'ADP'))],\n",
       " [('.', '.'), (('Common', 'NOUN'), ('Common', 'ADJ'))],\n",
       " [('process', 'NOUN'), (('that', 'ADP'), ('that', 'DET'))],\n",
       " [('a', 'DET'), (('catch', 'VERB'), ('catch', 'NOUN'))],\n",
       " [('of', 'ADP'), (('Western', 'NOUN'), ('Western', 'ADJ'))],\n",
       " [('to', 'PRT'), (('seduce', 'NOUN'), ('seduce', 'VERB'))],\n",
       " [('seduce', 'VERB'), (('socialist', 'NOUN'), ('socialist', 'ADJ'))],\n",
       " [('the', 'DET'), (('capitalist', 'NOUN'), ('capitalist', 'ADJ'))],\n",
       " [('the', 'DET'), (('Soviet', 'ADJ'), ('Soviet', 'NOUN'))],\n",
       " [('the', 'DET'), (('past', 'ADJ'), ('past', 'NOUN'))],\n",
       " [('he', 'PRON'), (('blames', 'NOUN'), ('blames', 'VERB'))],\n",
       " [('can', 'VERB'), (('steal', 'NOUN'), ('steal', 'VERB'))],\n",
       " [(\"n't\", 'ADV'), (('encounter', 'NOUN'), ('encounter', 'VERB'))],\n",
       " [('Treasury', 'NOUN'), (('estimates', 'NOUN'), ('estimates', 'VERB'))],\n",
       " [('it', 'PRON'), (('decides', 'NOUN'), ('decides', 'VERB'))],\n",
       " [('to', 'PRT'), (('aim', 'NOUN'), ('aim', 'VERB'))],\n",
       " [('he', 'PRON'), (('doubts', 'NOUN'), ('doubts', 'VERB'))],\n",
       " [('been', 'VERB'), (('disruptive', 'NOUN'), ('disruptive', 'ADJ'))],\n",
       " [('to', 'PRT'), (('offer', 'NOUN'), ('offer', 'VERB'))],\n",
       " [('a', 'DET'), (('cost-sharing', 'NOUN'), ('cost-sharing', 'ADJ'))],\n",
       " [('mechanism', 'NOUN'), (('that', 'ADP'), ('that', 'DET'))],\n",
       " [('*-3', 'X'), (('subsidize', 'NOUN'), ('subsidize', 'VERB'))],\n",
       " [('from', 'ADP'), (('exorbitant', 'NOUN'), ('exorbitant', 'ADJ'))],\n",
       " [('The', 'DET'), (('downgrading', 'VERB'), ('downgrading', 'NOUN'))],\n",
       " [('won', 'VERB'), (('grant', 'VERB'), ('grant', 'NOUN'))],\n",
       " [('``', '.'), (('Cultural', 'NOUN'), ('Cultural', 'ADJ'))],\n",
       " [('in', 'ADP'), (('Western', 'NOUN'), ('Western', 'ADJ'))],\n",
       " [('investors', 'NOUN'), (('acquires', 'NOUN'), ('acquires', 'VERB'))],\n",
       " [('failed', 'VERB'),\n",
       "  (('labor-management', 'NOUN'), ('labor-management', 'ADJ'))],\n",
       " [('for', 'ADP'), (('alleged', 'ADJ'), ('alleged', 'VERB'))],\n",
       " [('Artist', 'NOUN'), (('hangs', 'NOUN'), ('hangs', 'VERB'))],\n",
       " [('a', 'DET'), (('strip', 'VERB'), ('strip', 'NOUN'))],\n",
       " [('``', '.'), (('Whether', 'NOUN'), ('Whether', 'ADP'))],\n",
       " [('radio', 'NOUN'), (('show', 'VERB'), ('show', 'NOUN'))],\n",
       " [('the', 'DET'), (('Little', 'ADJ'), ('Little', 'NOUN'))],\n",
       " [('Her', 'PRON'), (('immediate', 'NOUN'), ('immediate', 'ADJ'))],\n",
       " [('contradict', 'VERB'), (('that', 'ADP'), ('that', 'DET'))],\n",
       " [('the', 'DET'), (('executive', 'ADJ'), ('executive', 'NOUN'))],\n",
       " [('carry', 'VERB'), (('more', 'ADV'), ('more', 'ADJ'))],\n",
       " [('and', 'CONJ'), (('therefore', 'NOUN'), ('therefore', 'ADV'))],\n",
       " [('movie', 'NOUN'), (('ends', 'NOUN'), ('ends', 'VERB'))],\n",
       " [('anything', 'NOUN'), (('whimsical', 'NOUN'), ('whimsical', 'ADJ'))],\n",
       " [(',', '.'), (('beaten', 'VERB'), ('beaten', 'ADJ'))],\n",
       " [('incentive', 'NOUN'), (('pay', 'VERB'), ('pay', 'NOUN'))],\n",
       " [('opened', 'VERB'), (('up', 'ADV'), ('up', 'PRT'))],\n",
       " [('a', 'DET'), (('can', 'VERB'), ('can', 'NOUN'))],\n",
       " [('``', '.'), (('Varying', 'VERB'), ('Varying', 'ADJ'))],\n",
       " [('and', 'CONJ'), (('life-style', 'ADJ'), ('life-style', 'NOUN'))],\n",
       " [('numerous', 'ADJ'), (('sub-markets', 'ADJ'), ('sub-markets', 'NOUN'))],\n",
       " [('will', 'VERB'), (('slow', 'ADJ'), ('slow', 'VERB'))],\n",
       " [('have', 'VERB'), (('more', 'ADV'), ('more', 'ADJ'))],\n",
       " [('as', 'ADP'), (('athletic', 'NOUN'), ('athletic', 'ADJ'))],\n",
       " [('*-2', 'X'), (('to', 'PRT'), ('to', 'ADJ'))],\n",
       " [('to', 'ADJ'), (('appeal', 'VERB'), ('appeal', 'NOUN'))],\n",
       " [(',', '.'), (('immediate', 'NOUN'), ('immediate', 'ADJ'))],\n",
       " [('is', 'VERB'), (('imperative', 'NOUN'), ('imperative', 'ADJ'))],\n",
       " [('publishes', 'VERB'), (('The', 'DET'), ('The', 'NOUN'))],\n",
       " [('*U*', 'X'), (('charge', 'VERB'), ('charge', 'NOUN'))],\n",
       " [('sales', 'NOUN'), (('materialize', 'NOUN'), ('materialize', 'VERB'))],\n",
       " [('portfolios', 'NOUN'), (('that', 'ADP'), ('that', 'DET'))],\n",
       " [('to', 'PRT'), (('computerize', 'NOUN'), ('computerize', 'VERB'))],\n",
       " [('niches', 'NOUN'), (('that', 'ADP'), ('that', 'DET'))],\n",
       " [('.', '.'), (('Domestic', 'NOUN'), ('Domestic', 'ADJ'))],\n",
       " [('to', 'PRT'), (('manipulate', 'NOUN'), ('manipulate', 'VERB'))],\n",
       " [(\"'s\", 'PRT'), (('planned', 'VERB'), ('planned', 'ADJ'))],\n",
       " [('harassment', 'NOUN'), (('consists', 'NOUN'), ('consists', 'VERB'))],\n",
       " [('among', 'ADP'), (('American', 'ADJ'), ('American', 'NOUN'))],\n",
       " [('an', 'DET'), (('American', 'ADJ'), ('American', 'NOUN'))],\n",
       " [('expanded', 'VERB'), (('trade', 'VERB'), ('trade', 'NOUN'))],\n",
       " [('Overseas', 'NOUN'), (('Private', 'ADJ'), ('Private', 'NOUN'))],\n",
       " [('way', 'NOUN'), (('sanctions', 'NOUN'), ('sanctions', 'VERB'))],\n",
       " [('the', 'DET'), (('dismal', 'NOUN'), ('dismal', 'ADJ'))],\n",
       " [('some', 'DET'), (('light', 'ADJ'), ('light', 'NOUN'))],\n",
       " [('the', 'DET'), (('dark', 'NOUN'), ('dark', 'ADJ'))],\n",
       " [('to', 'PRT'), (('cheat', 'NOUN'), ('cheat', 'VERB'))],\n",
       " [('.', '.'), (('Separately', 'ADV'), ('Separately', 'NOUN'))],\n",
       " [('%', 'NOUN'), (('rise', 'VERB'), ('rise', 'NOUN'))],\n",
       " [(',', '.'), (('reports', 'NOUN'), ('reports', 'VERB'))],\n",
       " [('fell', 'VERB'), (('9\\\\/32', 'NOUN'), ('9\\\\/32', 'NUM'))],\n",
       " [('The', 'DET'), (('sad', 'NOUN'), ('sad', 'ADJ'))],\n",
       " [('performers', 'NOUN'), (('first', 'ADJ'), ('first', 'ADV'))],\n",
       " [('to', 'PRT'), (('grapple', 'NOUN'), ('grapple', 'VERB'))],\n",
       " [('ended', 'VERB'), (('Sept.30', 'NOUN'), ('Sept.30', 'NUM'))],\n",
       " [('.', '.'), (('Fourteen', 'NOUN'), ('Fourteen', 'NUM'))],\n",
       " [('a', 'DET'), (('stable', 'ADJ'), ('stable', 'NOUN'))],\n",
       " [('-LRB-', '.'),\n",
       "  (('Lafite-Rothschild', 'ADJ'), ('Lafite-Rothschild', 'NOUN'))],\n",
       " [(',', '.'), (('Haut-Brion', 'ADJ'), ('Haut-Brion', 'NOUN'))],\n",
       " [('-RRB-', '.'), (('deluxe', 'NOUN'), ('deluxe', 'ADJ'))],\n",
       " [('to', 'PRT'), (('duck', 'NOUN'), ('duck', 'VERB'))],\n",
       " [(\"n't\", 'ADV'), (('identify', 'NOUN'), ('identify', 'VERB'))],\n",
       " [('which', 'DET'), (('identical', 'NOUN'), ('identical', 'ADJ'))],\n",
       " [('Bush', 'NOUN'), (('loses', 'NOUN'), ('loses', 'VERB'))],\n",
       " [('to', 'PRT'), (('sacrifice', 'NOUN'), ('sacrifice', 'VERB'))],\n",
       " [('way', 'NOUN'), (('out', 'PRT'), ('out', 'ADP'))],\n",
       " [('a', 'DET'), (('holding', 'NOUN'), ('holding', 'VERB'))],\n",
       " [('to', 'PRT'), (('craft', 'NOUN'), ('craft', 'VERB'))],\n",
       " [('insist', 'VERB'), (('on', 'ADP'), ('on', 'PRT'))],\n",
       " [('jumping', 'VERB'), (('in', 'ADP'), ('in', 'ADV'))],\n",
       " [('party', 'NOUN'), (('late', 'ADJ'), ('late', 'ADV'))],\n",
       " [('be', 'VERB'), (('ready', 'NOUN'), ('ready', 'ADJ'))],\n",
       " [('the', 'DET'), (('audit', 'VERB'), ('audit', 'NOUN'))],\n",
       " [(\"'s\", 'PRT'), (('stand', 'VERB'), ('stand', 'NOUN'))],\n",
       " [('best', 'ADJ'), (('female', 'ADJ'), ('female', 'NOUN'))],\n",
       " [('third-quarter', 'NOUN'), (('net', 'NOUN'), ('net', 'ADJ'))],\n",
       " [(',', '.'), (('versus', 'NOUN'), ('versus', 'CONJ'))],\n",
       " [('versus', 'CONJ'), (('net', 'NOUN'), ('net', 'ADJ'))],\n",
       " [('year', 'NOUN'), (('earlier', 'ADV'), ('earlier', 'ADJ'))],\n",
       " [('breakers', 'NOUN'), (('that', 'ADP'), ('that', 'DET'))],\n",
       " [('peaks', 'NOUN'), (('earlier', 'ADV'), ('earlier', 'ADJ'))],\n",
       " [('driving', 'VERB'), (('force', 'VERB'), ('force', 'NOUN'))],\n",
       " [('is', 'VERB'), (('sufficient', 'NOUN'), ('sufficient', 'ADJ'))],\n",
       " [('plunged', 'VERB'), (('about', 'ADP'), ('about', 'ADV'))],\n",
       " [('chief', 'NOUN'), (('operating', 'NOUN'), ('operating', 'VERB'))],\n",
       " [('a', 'DET'), (('leading', 'VERB'), ('leading', 'ADJ'))],\n",
       " [('are', 'VERB'), (('no', 'DET'), ('no', 'ADV'))],\n",
       " [('longer', 'ADJ'), (('subject', 'NOUN'), ('subject', 'ADJ'))],\n",
       " [('major', 'ADJ'), (('plus', 'CONJ'), ('plus', 'NOUN'))],\n",
       " [('our', 'PRON'), (('view', 'VERB'), ('view', 'NOUN'))],\n",
       " [('a', 'DET'), (('whirling', 'VERB'), ('whirling', 'ADJ'))],\n",
       " [('to', 'PRT'), (('identify', 'NOUN'), ('identify', 'VERB'))],\n",
       " [('``', '.'), (('Little', 'NOUN'), ('Little', 'ADV'))],\n",
       " [('by', 'ADP'), (('little', 'ADJ'), ('little', 'ADV'))],\n",
       " [('seeking', 'VERB'), (('comment', 'VERB'), ('comment', 'NOUN'))],\n",
       " [('an', 'DET'), (('editing', 'VERB'), ('editing', 'NOUN'))],\n",
       " [('remaining', 'VERB'), (('uses', 'VERB'), ('uses', 'NOUN'))],\n",
       " [('partly', 'ADV'), (('one', 'NUM'), ('one', 'NOUN'))],\n",
       " [('then', 'ADV'), (('overseas', 'ADJ'), ('overseas', 'ADV'))],\n",
       " [('bill', 'NOUN'), (('that', 'ADP'), ('that', 'DET'))],\n",
       " [('its', 'PRON'), (('offer', 'VERB'), ('offer', 'NOUN'))],\n",
       " [('The', 'DET'), (('assistant', 'NOUN'), ('assistant', 'ADJ'))],\n",
       " [('joining', 'VERB'), (('forces', 'VERB'), ('forces', 'NOUN'))],\n",
       " [('the', 'DET'), (('American', 'ADJ'), ('American', 'NOUN'))],\n",
       " [('times', 'NOUN'), (('as', 'ADP'), ('as', 'ADV'))],\n",
       " [('the', 'DET'), (('underlying', 'ADJ'), ('underlying', 'VERB'))],\n",
       " [('loaded', 'VERB'), (('south', 'NOUN'), ('south', 'ADV'))],\n",
       " [('*T*-1', 'X'), (('feeds', 'NOUN'), ('feeds', 'VERB'))],\n",
       " [('the', 'DET'), (('1980s', 'NOUN'), ('1980s', 'NUM'))],\n",
       " [('the', 'DET'), (('more', 'ADJ'), ('more', 'ADV'))],\n",
       " [('the', 'DET'), (('1990s', 'NOUN'), ('1990s', 'NUM'))]]"
      ]
     },
     "execution_count": 48,
     "metadata": {},
     "output_type": "execute_result"
    }
   ],
   "source": [
    "incorrect_tagged_cases = [[validation_run_base[i-1],j] for i, j in enumerate(zip(tagged_seq, validation_run_base)) if j[0]!=j[1]]\n",
    "incorrect_tagged_cases"
   ]
  },
  {
   "cell_type": "code",
   "execution_count": 49,
   "metadata": {},
   "outputs": [
    {
     "name": "stdout",
     "output_type": "stream",
     "text": [
      "length of incorrect tagged words using modified viterbi model(Rule Based using Regex)  212\n"
     ]
    }
   ],
   "source": [
    "print(\"length of incorrect tagged words using modified viterbi model (Rule Based using Regex) \",len(incorrect_tagged_cases))"
   ]
  },
  {
   "cell_type": "markdown",
   "metadata": {},
   "source": [
    "<font color = Brown size=5 > 4.3 Evaluating tagging accuracy on test set</font>"
   ]
  },
  {
   "cell_type": "code",
   "execution_count": 50,
   "metadata": {},
   "outputs": [
    {
     "name": "stdout",
     "output_type": "stream",
     "text": [
      "Test set accuracy on modified viterbi model(Rule Based using Regex):  0.9337016574585635\n"
     ]
    }
   ],
   "source": [
    "tagged_seq_test = Viterbi_rule_based(test_words)\n",
    "# accuracy\n",
    "check = [i for i, j in zip(tagged_seq_test, test_run_base) if i == j]\n",
    "accuracy_t = len(check)/len(tagged_seq_test)\n",
    "print(\"Test set accuracy on modified viterbi model(Rule Based using Regex): \",accuracy_t)"
   ]
  },
  {
   "cell_type": "markdown",
   "metadata": {},
   "source": [
    "Modified viterbi(rule based has performed better than all the models built till now"
   ]
  },
  {
   "cell_type": "markdown",
   "metadata": {},
   "source": [
    "<font color = Blue size=5 >  5. Comparision of tagging accuracies w.r.to modifications in vanilla Viterbi algorithm: </font>"
   ]
  },
  {
   "cell_type": "code",
   "execution_count": 51,
   "metadata": {},
   "outputs": [
    {
     "data": {
      "text/html": [
       "<div>\n",
       "<style scoped>\n",
       "    .dataframe tbody tr th:only-of-type {\n",
       "        vertical-align: middle;\n",
       "    }\n",
       "\n",
       "    .dataframe tbody tr th {\n",
       "        vertical-align: top;\n",
       "    }\n",
       "\n",
       "    .dataframe thead th {\n",
       "        text-align: right;\n",
       "    }\n",
       "</style>\n",
       "<table border=\"1\" class=\"dataframe\">\n",
       "  <thead>\n",
       "    <tr style=\"text-align: right;\">\n",
       "      <th></th>\n",
       "      <th>Method</th>\n",
       "      <th>Validation_Accuracy</th>\n",
       "      <th>Test_Accuracy</th>\n",
       "      <th>Number of Incorrect Tagged Words</th>\n",
       "    </tr>\n",
       "  </thead>\n",
       "  <tbody>\n",
       "    <tr>\n",
       "      <th>0</th>\n",
       "      <td>VanilaViterbi</td>\n",
       "      <td>0.905302</td>\n",
       "      <td>0.756906</td>\n",
       "      <td>484</td>\n",
       "    </tr>\n",
       "    <tr>\n",
       "      <th>0</th>\n",
       "      <td>Modified Viterbi (Frequently tagged tag)</td>\n",
       "      <td>0.938955</td>\n",
       "      <td>0.911602</td>\n",
       "      <td>312</td>\n",
       "    </tr>\n",
       "    <tr>\n",
       "      <th>0</th>\n",
       "      <td>Modified Viterbi (Probabilistic)</td>\n",
       "      <td>0.939151</td>\n",
       "      <td>0.861878</td>\n",
       "      <td>311</td>\n",
       "    </tr>\n",
       "    <tr>\n",
       "      <th>0</th>\n",
       "      <td>Modified Viterbi (Rule Based using Regex)</td>\n",
       "      <td>0.958521</td>\n",
       "      <td>0.933702</td>\n",
       "      <td>212</td>\n",
       "    </tr>\n",
       "  </tbody>\n",
       "</table>\n",
       "</div>"
      ],
      "text/plain": [
       "                                      Method  Validation_Accuracy  \\\n",
       "0                              VanilaViterbi             0.905302   \n",
       "0   Modified Viterbi (Frequently tagged tag)             0.938955   \n",
       "0           Modified Viterbi (Probabilistic)             0.939151   \n",
       "0  Modified Viterbi (Rule Based using Regex)             0.958521   \n",
       "\n",
       "   Test_Accuracy  Number of Incorrect Tagged Words  \n",
       "0       0.756906                               484  \n",
       "0       0.911602                               312  \n",
       "0       0.861878                               311  \n",
       "0       0.933702                               212  "
      ]
     },
     "execution_count": 51,
     "metadata": {},
     "output_type": "execute_result"
    }
   ],
   "source": [
    "tempResults = pd.DataFrame({'Method':['Modified Viterbi (Rule Based using Regex)'], 'Validation_Accuracy': [accuracy],'Test_Accuracy': [accuracy_t],'Number of Incorrect Tagged Words': len(incorrect_tagged_cases) })\n",
    "results = pd.concat([results, tempResults])\n",
    "results = results[['Method', 'Validation_Accuracy', 'Test_Accuracy','Number of Incorrect Tagged Words']]\n",
    "results"
   ]
  },
  {
   "cell_type": "markdown",
   "metadata": {},
   "source": [
    "<font color = Brown size = 5> Inference: </font>\n",
    "- The accuracy has been increased with modified algorithm (rule based algorithm ) and has given much accuracy  from 94% to 96% and also the incorrectly tagged words are also less when compared to other models from 311 words to 212 words"
   ]
  },
  {
   "cell_type": "markdown",
   "metadata": {},
   "source": [
    "<font color = Blue size=5 > 6. Cases were incorrectly tagged by original POS tagger and got corrected by your modifications</font>"
   ]
  },
  {
   "cell_type": "code",
   "execution_count": 52,
   "metadata": {},
   "outputs": [
    {
     "name": "stdout",
     "output_type": "stream",
     "text": [
      "The length of the vocabulary for given test file :  115\n"
     ]
    }
   ],
   "source": [
    "# vocablary of validation dataset\n",
    "vocab_test_set = set(test_words)\n",
    "print(\"The length of the vocabulary for given test file : \",len(vocab_test_set))"
   ]
  },
  {
   "cell_type": "code",
   "execution_count": 53,
   "metadata": {},
   "outputs": [
    {
     "name": "stdout",
     "output_type": "stream",
     "text": [
      "Number of unknown words in the test file:  28\n"
     ]
    }
   ],
   "source": [
    "# Identifying the unknown words in the test file\n",
    "unknown_words = np.setdiff1d(test_words,words_train_set)\n",
    "print(\"Number of unknown words in the test file: \",len(unknown_words))"
   ]
  },
  {
   "cell_type": "code",
   "execution_count": 54,
   "metadata": {},
   "outputs": [
    {
     "name": "stdout",
     "output_type": "stream",
     "text": [
      "The unknown words:  ['2011' '2013' '2015' '2018' '21st' 'Android' 'Cup' 'FIFA' 'Google'\n",
      " 'ICESAT-2' 'NASA' 'OS' 'Satellite' 'Twitter' 'arriving' 'contested'\n",
      " 'domineering' 'firehose' 'interact' 'invited' 'messages' 'online'\n",
      " 'personality' 'smartphones' 'tournament' 'trips' 'tweets' 'worldwide']\n"
     ]
    }
   ],
   "source": [
    "print(\"The unknown words: \",unknown_words)"
   ]
  },
  {
   "cell_type": "code",
   "execution_count": 55,
   "metadata": {},
   "outputs": [
    {
     "name": "stdout",
     "output_type": "stream",
     "text": [
      "The tagged sequence of unknown words using vanila viterbi model: \n",
      " \n",
      " [('2011', 'PRON'), ('2013', 'PRON'), ('2015', 'PRON'), ('2018', 'PRON'), ('21st', 'PRON'), ('Android', 'PRON'), ('Cup', 'PRON'), ('FIFA', 'PRON'), ('Google', 'PRON'), ('ICESAT-2', 'PRON'), ('NASA', 'PRON'), ('OS', 'PRON'), ('Satellite', 'PRON'), ('Twitter', 'PRON'), ('arriving', 'PRON'), ('contested', 'PRON'), ('domineering', 'PRON'), ('firehose', 'PRON'), ('interact', 'PRON'), ('invited', 'PRON'), ('messages', 'PRON'), ('online', 'PRON'), ('personality', 'PRON'), ('smartphones', 'PRON'), ('tournament', 'PRON'), ('trips', 'PRON'), ('tweets', 'PRON'), ('worldwide', 'PRON')]\n"
     ]
    }
   ],
   "source": [
    "# Finding the tag sequence for the unknown words using vanila viterbi\n",
    "tagged_seq = Viterbi(unknown_words)\n",
    "print(\"The tagged sequence of unknown words using vanila viterbi model: \\n \\n\",tagged_seq)"
   ]
  },
  {
   "cell_type": "code",
   "execution_count": 56,
   "metadata": {},
   "outputs": [
    {
     "name": "stdout",
     "output_type": "stream",
     "text": [
      "The tagged sequence of unknown words using modified viterbi(frequently occured tag): \n",
      " \n",
      " [('2011', 'NOUN'), ('2013', 'NOUN'), ('2015', 'NOUN'), ('2018', 'NOUN'), ('21st', 'NOUN'), ('Android', 'NOUN'), ('Cup', 'NOUN'), ('FIFA', 'NOUN'), ('Google', 'NOUN'), ('ICESAT-2', 'NOUN'), ('NASA', 'NOUN'), ('OS', 'NOUN'), ('Satellite', 'NOUN'), ('Twitter', 'NOUN'), ('arriving', 'NOUN'), ('contested', 'NOUN'), ('domineering', 'NOUN'), ('firehose', 'NOUN'), ('interact', 'NOUN'), ('invited', 'NOUN'), ('messages', 'NOUN'), ('online', 'NOUN'), ('personality', 'NOUN'), ('smartphones', 'NOUN'), ('tournament', 'NOUN'), ('trips', 'NOUN'), ('tweets', 'NOUN'), ('worldwide', 'NOUN')]\n"
     ]
    }
   ],
   "source": [
    "# Finding the tag sequence for the unknown words using modified viterbi(frequently occured tag)\n",
    "tagged_seq = Viterbi_freq_tag(unknown_words)\n",
    "print(\"The tagged sequence of unknown words using modified viterbi(frequently occured tag): \\n \\n\",tagged_seq)"
   ]
  },
  {
   "cell_type": "code",
   "execution_count": 57,
   "metadata": {},
   "outputs": [
    {
     "name": "stdout",
     "output_type": "stream",
     "text": [
      "The tagged sequence of unknown words using modified viterbi(transition): \n",
      " \n",
      " [('2011', 'NOUN'), ('2013', 'NOUN'), ('2015', 'NOUN'), ('2018', 'NOUN'), ('21st', 'NOUN'), ('Android', 'NOUN'), ('Cup', 'NOUN'), ('FIFA', 'NOUN'), ('Google', 'NOUN'), ('ICESAT-2', 'NOUN'), ('NASA', 'NOUN'), ('OS', 'NOUN'), ('Satellite', 'NOUN'), ('Twitter', 'NOUN'), ('arriving', 'NOUN'), ('contested', 'NOUN'), ('domineering', 'NOUN'), ('firehose', 'NOUN'), ('interact', 'NOUN'), ('invited', 'NOUN'), ('messages', 'NOUN'), ('online', 'NOUN'), ('personality', 'NOUN'), ('smartphones', 'NOUN'), ('tournament', 'NOUN'), ('trips', 'NOUN'), ('tweets', 'NOUN'), ('worldwide', 'NOUN')]\n"
     ]
    }
   ],
   "source": [
    "# Finding the tag sequence for the unknown words using modified viterbi(transition)\n",
    "tagged_seq = Viterbi_Transition(unknown_words)\n",
    "print(\"The tagged sequence of unknown words using modified viterbi(transition): \\n \\n\",tagged_seq)"
   ]
  },
  {
   "cell_type": "code",
   "execution_count": 58,
   "metadata": {},
   "outputs": [
    {
     "name": "stdout",
     "output_type": "stream",
     "text": [
      "The tagged sequence of unknown words using modified viterbi(rule based): \n",
      " \n",
      " [('2011', 'NUM'), ('2013', 'NUM'), ('2015', 'NUM'), ('2018', 'NUM'), ('21st', 'NOUN'), ('Android', 'NOUN'), ('Cup', 'NOUN'), ('FIFA', 'NOUN'), ('Google', 'NOUN'), ('ICESAT-2', 'ADJ'), ('NASA', 'NOUN'), ('OS', 'NOUN'), ('Satellite', 'NOUN'), ('Twitter', 'NOUN'), ('arriving', 'VERB'), ('contested', 'VERB'), ('domineering', 'VERB'), ('firehose', 'NOUN'), ('interact', 'NOUN'), ('invited', 'VERB'), ('messages', 'NOUN'), ('online', 'NOUN'), ('personality', 'NOUN'), ('smartphones', 'NOUN'), ('tournament', 'NOUN'), ('trips', 'NOUN'), ('tweets', 'NOUN'), ('worldwide', 'NOUN')]\n"
     ]
    }
   ],
   "source": [
    "# Finding the tag sequence for the unknown words using modified viterbi(rule based)\n",
    "tagged_seq = Viterbi_rule_based(unknown_words)\n",
    "print(\"The tagged sequence of unknown words using modified viterbi(rule based): \\n \\n\",tagged_seq)\n"
   ]
  },
  {
   "cell_type": "markdown",
   "metadata": {},
   "source": [
    "<font color = Black size=5 >  Understanding the model performance by sample test cases </font>"
   ]
  },
  {
   "cell_type": "markdown",
   "metadata": {},
   "source": [
    "<font color = Blue size= 3 > Comparision of results on a sample sentence from the test file  </font>"
   ]
  },
  {
   "cell_type": "markdown",
   "metadata": {},
   "source": [
    "<font color = Brown size= 3 >Sample case 1:</font>"
   ]
  },
  {
   "cell_type": "code",
   "execution_count": 59,
   "metadata": {},
   "outputs": [
    {
     "name": "stdout",
     "output_type": "stream",
     "text": [
      "[('Google', 'PRON'), ('and', 'CONJ'), ('Twitter', 'PRON'), ('made', 'VERB'), ('a', 'DET'), ('deal', 'NOUN'), ('in', 'ADP'), ('2015', 'PRON'), ('that', 'ADP'), ('gave', 'VERB'), ('Google', 'PRON'), ('access', 'NOUN'), ('to', 'PRT'), ('Twitter', 'PRON'), (\"'s\", 'VERB'), ('firehose', 'PRON'), ('.', '.')]\n"
     ]
    }
   ],
   "source": [
    "## Testing using vanila viterbi\n",
    "sentence_test1 = 'Google and Twitter made a deal in 2015 that gave Google access to Twitter\\'s firehose.'\n",
    "words = word_tokenize(sentence_test1)\n",
    "tagged_seq = Viterbi(words)\n",
    "print(tagged_seq)"
   ]
  },
  {
   "cell_type": "code",
   "execution_count": 60,
   "metadata": {},
   "outputs": [
    {
     "name": "stdout",
     "output_type": "stream",
     "text": [
      "[('Google', 'NOUN'), ('and', 'CONJ'), ('Twitter', 'NOUN'), ('made', 'VERB'), ('a', 'DET'), ('deal', 'NOUN'), ('in', 'ADP'), ('2015', 'NOUN'), ('that', 'ADP'), ('gave', 'VERB'), ('Google', 'NOUN'), ('access', 'NOUN'), ('to', 'PRT'), ('Twitter', 'NOUN'), (\"'s\", 'PRT'), ('firehose', 'NOUN'), ('.', '.')]\n"
     ]
    }
   ],
   "source": [
    "## Testing using modified viterbi(frequently tagged)\n",
    "sentence_test1 = 'Google and Twitter made a deal in 2015 that gave Google access to Twitter\\'s firehose.'\n",
    "words = word_tokenize(sentence_test1)\n",
    "tagged_seq = Viterbi_freq_tag(words)\n",
    "print(tagged_seq)"
   ]
  },
  {
   "cell_type": "markdown",
   "metadata": {},
   "source": [
    "We can clearly see using rule based modified viterbi words like:\n",
    " - Google\n",
    " - Twitter\n",
    " - firehose\n",
    "  are correctly tagged in the modified viterbi(frequently tagged)\n",
    " \n",
    " but still words like :\n",
    " - 2015 <NOUN> are incorrect.\n",
    "As 2015 is still incorrectly tagged are Noun in this case instead of Number."
   ]
  },
  {
   "cell_type": "code",
   "execution_count": 61,
   "metadata": {},
   "outputs": [
    {
     "name": "stdout",
     "output_type": "stream",
     "text": [
      "[('Google', 'NOUN'), ('and', 'CONJ'), ('Twitter', 'NOUN'), ('made', 'VERB'), ('a', 'DET'), ('deal', 'NOUN'), ('in', 'ADP'), ('2015', 'NUM'), ('that', 'ADP'), ('gave', 'VERB'), ('Google', 'NOUN'), ('access', 'NOUN'), ('to', 'PRT'), ('Twitter', 'NOUN'), (\"'s\", 'PRT'), ('firehose', 'NOUN'), ('.', '.')]\n"
     ]
    }
   ],
   "source": [
    "## Testing using modified viterbi(rule based)\n",
    "sentence_test1 = 'Google and Twitter made a deal in 2015 that gave Google access to Twitter\\'s firehose.'\n",
    "words = word_tokenize(sentence_test1)\n",
    "tagged_seq = Viterbi_rule_based(words)\n",
    "print(tagged_seq)"
   ]
  },
  {
   "cell_type": "markdown",
   "metadata": {},
   "source": [
    "We can clearly see using rule based modified viterbi words like:\n",
    " - Google \n",
    " - Twitter\n",
    " - firehose\n",
    " - 2015 tagged as <Num> which is correctly identified. \n",
    "    <br>\n",
    " Hence most are correctly tagged in the modified viterbi(rule based tagger)"
   ]
  },
  {
   "cell_type": "markdown",
   "metadata": {},
   "source": [
    "<font color = Brown size= 3 >Sample case 2:</font>"
   ]
  },
  {
   "cell_type": "code",
   "execution_count": 62,
   "metadata": {},
   "outputs": [
    {
     "name": "stdout",
     "output_type": "stream",
     "text": [
      "[('Android', 'PRON'), ('has', 'VERB'), ('been', 'VERB'), ('the', 'DET'), ('best-selling', 'ADJ'), ('OS', 'PRON'), ('worldwide', 'PRON'), ('on', 'ADP'), ('smartphones', 'PRON'), ('since', 'ADP'), ('2011', 'PRON'), ('and', 'CONJ'), ('on', 'ADP'), ('tablets', 'NOUN'), ('since', 'ADP'), ('2013', 'PRON'), ('.', '.')]\n"
     ]
    }
   ],
   "source": [
    "## Testing using vanila viterbi\n",
    "sentence_test1 = 'Android has been the best-selling OS worldwide on smartphones since 2011 and on tablets since 2013.'\n",
    "words = word_tokenize(sentence_test1)\n",
    "tagged_seq = Viterbi(words)\n",
    "print(tagged_seq)"
   ]
  },
  {
   "cell_type": "code",
   "execution_count": 63,
   "metadata": {},
   "outputs": [
    {
     "name": "stdout",
     "output_type": "stream",
     "text": [
      "[('Android', 'NOUN'), ('has', 'VERB'), ('been', 'VERB'), ('the', 'DET'), ('best-selling', 'ADJ'), ('OS', 'NOUN'), ('worldwide', 'NOUN'), ('on', 'ADP'), ('smartphones', 'NOUN'), ('since', 'ADP'), ('2011', 'NOUN'), ('and', 'CONJ'), ('on', 'ADP'), ('tablets', 'NOUN'), ('since', 'ADP'), ('2013', 'NOUN'), ('.', '.')]\n"
     ]
    }
   ],
   "source": [
    "## Testing using modified viterbi(frequently tagged)\n",
    "sentence_test1 = 'Android has been the best-selling OS worldwide on smartphones since 2011 and on tablets since 2013.'\n",
    "words = word_tokenize(sentence_test1)\n",
    "tagged_seq = Viterbi_freq_tag(words)\n",
    "print(tagged_seq)"
   ]
  },
  {
   "cell_type": "markdown",
   "metadata": {},
   "source": [
    "We can clearly see using rule based modified viterbi words like:\n",
    " - Android\n",
    " - OS\n",
    " - worldwide\n",
    " - smartphones\n",
    " are correctly tagged in the modified viterbi(frequently tagged)\n",
    " \n",
    " but still words like :\n",
    " - 2011 &  2013 are still incorrectly tagged as Noun in this case"
   ]
  },
  {
   "cell_type": "code",
   "execution_count": 64,
   "metadata": {},
   "outputs": [
    {
     "name": "stdout",
     "output_type": "stream",
     "text": [
      "[('Android', 'NOUN'), ('has', 'VERB'), ('been', 'VERB'), ('the', 'DET'), ('best-selling', 'ADJ'), ('OS', 'NOUN'), ('worldwide', 'NOUN'), ('on', 'ADP'), ('smartphones', 'NOUN'), ('since', 'ADP'), ('2011', 'NUM'), ('and', 'CONJ'), ('on', 'ADP'), ('tablets', 'NOUN'), ('since', 'ADP'), ('2013', 'NUM'), ('.', '.')]\n"
     ]
    }
   ],
   "source": [
    "## Testing using modified viterbi(rule based)\n",
    "sentence_test1 = 'Android has been the best-selling OS worldwide on smartphones since 2011 and on tablets since 2013.'\n",
    "words = word_tokenize(sentence_test1)\n",
    "tagged_seq = Viterbi_rule_based(words)\n",
    "print(tagged_seq)"
   ]
  },
  {
   "cell_type": "markdown",
   "metadata": {},
   "source": [
    "We can clearly see using rule based modified viterbi words like:\n",
    " - Android \n",
    " - OS\n",
    " - worldwide\n",
    " - smartphones\n",
    " \n",
    " - Here 2011 & 2013 are tagged as **Num** which are correctly identified. \n",
    "    <br>\n",
    " Hence most are correctly tagged in the modified viterbi(rule based tagger)"
   ]
  },
  {
   "cell_type": "markdown",
   "metadata": {},
   "source": [
    "<font color = Brown size= 3 >Sample case 3:</font>"
   ]
  },
  {
   "cell_type": "code",
   "execution_count": 65,
   "metadata": {},
   "outputs": [
    {
     "name": "stdout",
     "output_type": "stream",
     "text": [
      "[('The', 'DET'), ('2018', 'PRON'), ('FIFA', 'PRON'), ('World', 'NOUN'), ('Cup', 'PRON'), ('is', 'VERB'), ('the', 'DET'), ('21st', 'PRON'), ('FIFA', 'PRON'), ('World', 'NOUN'), ('Cup', 'PRON'), (',', '.'), ('an', 'DET'), ('international', 'ADJ'), ('football', 'NOUN'), ('tournament', 'PRON'), ('contested', 'PRON'), ('once', 'ADV'), ('every', 'DET'), ('four', 'NUM'), ('years', 'NOUN'), ('.', '.')]\n"
     ]
    }
   ],
   "source": [
    "## Testing using vanila viterbi\n",
    "sentence_test1 = 'The 2018 FIFA World Cup is the 21st FIFA World Cup, an international football tournament contested once every four years.'\n",
    "words = word_tokenize(sentence_test1)\n",
    "tagged_seq = Viterbi(words)\n",
    "print(tagged_seq)"
   ]
  },
  {
   "cell_type": "code",
   "execution_count": 66,
   "metadata": {},
   "outputs": [
    {
     "name": "stdout",
     "output_type": "stream",
     "text": [
      "[('The', 'DET'), ('2018', 'NOUN'), ('FIFA', 'NOUN'), ('World', 'NOUN'), ('Cup', 'NOUN'), ('is', 'VERB'), ('the', 'DET'), ('21st', 'NOUN'), ('FIFA', 'NOUN'), ('World', 'NOUN'), ('Cup', 'NOUN'), (',', '.'), ('an', 'DET'), ('international', 'ADJ'), ('football', 'NOUN'), ('tournament', 'NOUN'), ('contested', 'NOUN'), ('once', 'ADV'), ('every', 'DET'), ('four', 'NUM'), ('years', 'NOUN'), ('.', '.')]\n"
     ]
    }
   ],
   "source": [
    "## Testing using modified viterbi(frequently tagged)\n",
    "sentence_test1 = 'The 2018 FIFA World Cup is the 21st FIFA World Cup, an international football tournament contested once every four years.'\n",
    "words = word_tokenize(sentence_test1)\n",
    "tagged_seq = Viterbi_freq_tag(words)\n",
    "print(tagged_seq)"
   ]
  },
  {
   "cell_type": "markdown",
   "metadata": {},
   "source": [
    "We can clearly see using rule based modified viterbi words like:\n",
    " - FIFA\n",
    " - Cup\n",
    " - tournament\n",
    " are correctly tagged in the modified viterbi(frequently tagged)\n",
    " \n",
    " but still words like :\n",
    " - 2018 tagged as Noun is still incorrectly tagged in this case"
   ]
  },
  {
   "cell_type": "code",
   "execution_count": 67,
   "metadata": {},
   "outputs": [
    {
     "name": "stdout",
     "output_type": "stream",
     "text": [
      "[('The', 'DET'), ('2018', 'NUM'), ('FIFA', 'NOUN'), ('World', 'NOUN'), ('Cup', 'NOUN'), ('is', 'VERB'), ('the', 'DET'), ('21st', 'NOUN'), ('FIFA', 'NOUN'), ('World', 'NOUN'), ('Cup', 'NOUN'), (',', '.'), ('an', 'DET'), ('international', 'ADJ'), ('football', 'NOUN'), ('tournament', 'NOUN'), ('contested', 'VERB'), ('once', 'ADV'), ('every', 'DET'), ('four', 'NUM'), ('years', 'NOUN'), ('.', '.')]\n"
     ]
    }
   ],
   "source": [
    "## Testing using modified viterbi(rule based)\n",
    "sentence_test1 = 'The 2018 FIFA World Cup is the 21st FIFA World Cup, an international football tournament contested once every four years.'\n",
    "words = word_tokenize(sentence_test1)\n",
    "tagged_seq = Viterbi_rule_based(words)\n",
    "print(tagged_seq)"
   ]
  },
  {
   "cell_type": "markdown",
   "metadata": {},
   "source": [
    "We can clearly see using rule based modified viterbi words like:\n",
    " - 2018 \n",
    " - FIFA\n",
    " - Cup\n",
    " - tournament\n",
    " - contested\n",
    " \n",
    "- 2018 tagged as **Num** which is correctly identified. \n",
    "    <br>\n",
    " \n",
    "All are correctly tagged in the modified viterbi(rule based tagger)"
   ]
  },
  {
   "cell_type": "markdown",
   "metadata": {},
   "source": [
    "         *******************************************All the mentioned points were covered.********************************"
   ]
  }
 ],
 "metadata": {
  "kernelspec": {
   "display_name": "Python 3",
   "language": "python",
   "name": "python3"
  },
  "language_info": {
   "codemirror_mode": {
    "name": "ipython",
    "version": 3
   },
   "file_extension": ".py",
   "mimetype": "text/x-python",
   "name": "python",
   "nbconvert_exporter": "python",
   "pygments_lexer": "ipython3",
   "version": "3.7.3"
  }
 },
 "nbformat": 4,
 "nbformat_minor": 2
}
